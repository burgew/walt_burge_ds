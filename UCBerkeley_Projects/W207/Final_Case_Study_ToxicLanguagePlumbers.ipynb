{
 "cells": [
  {
   "cell_type": "markdown",
   "metadata": {},
   "source": [
    "# Final Baseline Submission: Toxic Language Classification \n",
    "**w207 Spring 2018 - Final Project Baseline**\n",
    "\n",
    "**Team: Paul, Walt, Yisang, Joe**\n",
    "\n",
    "\n",
    "\n",
    "## Project Description \n",
    "\n",
    "Our challenge is to build a multi-headed model that’s capable of detecting different types of of toxicity like threats, obscenity, insults, and identity-based hate.  The toxic language data set is sourced from Wikipedia and available as a public kaggle data set. \n",
    "\n",
    "\n",
    "\n",
    "## Objective\n",
    "\n",
    "Our goal is to use various machine learning techniques used in class to develop high quality ML models and pipelines.  \n",
    "\n",
    "Our research deliverables will be the following:\n",
    "\n",
    "Exercise and build upon concepts covered in class and test out the following supervised models:\n",
    "1. Regression (LASSO, Logistic)\n",
    "2. Naive Bayes\n",
    "3. Trees (XGBoost)\n",
    "4. Neural Networks MPI\n",
    "5. KNN\n",
    "6. Derive an ETL framework to ensure some standard across different model performances\n"
   ]
  },
  {
   "cell_type": "markdown",
   "metadata": {},
   "source": [
    "## Assumptions and Defining the Modeling Problem\n",
    "\n",
    "It is extremely important to clarify whether this is a **multi-label or multi-class problem**. \n",
    "\n",
    "Given the target labels for this challenge, text observation can be any multiple labels (toxic, severe toxic, threat, insult, etc) at the same time or none at all and is there for a multi-label problem.  \n",
    "\n",
    "The reason for this assumption is to avoid any data leakage that would affect the intended prediction.  \n",
    "\n",
    "Our team is interested in exploring machine learning solutions for classifying every target class in toxic language.  Therefore, multi-class or aggregating the target labels into one label would only predict whether or not a text observation is toxic or not.  While this is also an interesting problem, due to the time constraints, our team will be focused on being able to provide predictions for each target class and therefore will use multi-modeling approaches later on in this case study.  \n",
    "\n",
    "Our team will not submit out final prediction to the kaggle leaderboard.  Instead, **our team will create a new 70/30 train/test split that all models will be required to use for training and testing**.  Different notebooks may create internal dev sets, however, the ultimate AUC score is determined by the established test set. "
   ]
  },
  {
   "cell_type": "markdown",
   "metadata": {},
   "source": [
    "## Establishing Metrics\n",
    "\n",
    "The **primary metric to evaluate multiple modeling approaches will be the ROC derived AUC Score**. \n",
    "The Toxic Language Kaggle Competition uses AUC as leaderboard metric\n",
    "Useful metric for evaluating model performance based on the TPR over the FPR. \n",
    "Our team will also evaluate two other secondary metrics to supplement our analysis. \n",
    "\n",
    "AUC is a good metric but is not perfect.  \n",
    "\n",
    "From an AUC score it is difficult to see how well the model deals with False Positive predictions.  While it does a better job than accuracy when conveying performance for imbalanced targets, we will consider some additional metrics to gain insight when False Positives and False Negatives come into account. \n",
    "\n",
    "**Secondary Metric: Precision**\n",
    "- (TP)/(TP+FP)\n",
    "- Tells us the proportion of text predicted as some kind of toxic label is actually toxic.\n",
    "\n",
    "**Seconday Metric: Recall** \n",
    "- (TP)/(TP+FN)\n",
    "- Tells us the proportion of text that were actually toxic had been correctly predicted.\n"
   ]
  },
  {
   "cell_type": "markdown",
   "metadata": {},
   "source": [
    "## Machine Learning Approach Overview\n",
    "\n",
    "\n",
    "The following diagram the general process and global pipeline that we are building for this problem\n",
    "\n",
    "**The major steps:**\n",
    "\n",
    "1. Create new train and test data since Kaggle Private Board will not be used to assess the origin test set.\n",
    "2. Apply our team's finalizes text processing along with the chosen TF-IDF vectorizor.  \n",
    "    a. TFIDF will be the main vectorizer across all models to ensure a more apple's to apples comparison. \n",
    "3. Preprocessing data will be piped to the rest of the different modeling notebooks. \n",
    "4. Predictions are saved to a data folder shared in the repo \n",
    "5. Predictions are read back into the main notebook for final evaluation. \n",
    "6. Top 3 Models are Evaluated and Concluded"
   ]
  },
  {
   "cell_type": "markdown",
   "metadata": {},
   "source": [
    "<img src=\"img/process.png\" width=\"500\">"
   ]
  },
  {
   "cell_type": "markdown",
   "metadata": {},
   "source": [
    "### Python Environment Setup\n",
    "\n",
    "The following cell contains the imports used for this project, it's recommended to make sure all packages build properly before proceeding.  "
   ]
  },
  {
   "cell_type": "code",
   "execution_count": 1,
   "metadata": {},
   "outputs": [
    {
     "name": "stderr",
     "output_type": "stream",
     "text": [
      "C:\\Users\\Joseph Lee\\AppData\\Local\\conda\\conda\\envs\\mids\\lib\\site-packages\\sklearn\\cross_validation.py:41: DeprecationWarning: This module was deprecated in version 0.18 in favor of the model_selection module into which all the refactored classes and functions are moved. Also note that the interface of the new CV iterators are different from that of this module. This module will be removed in 0.20.\n",
      "  \"This module will be removed in 0.20.\", DeprecationWarning)\n",
      "C:\\Users\\Joseph Lee\\AppData\\Local\\conda\\conda\\envs\\mids\\lib\\site-packages\\sklearn\\grid_search.py:42: DeprecationWarning: This module was deprecated in version 0.18 in favor of the model_selection module into which all the refactored classes and functions are moved. This module will be removed in 0.20.\n",
      "  DeprecationWarning)\n"
     ]
    }
   ],
   "source": [
    "%matplotlib inline\n",
    "import numpy as np\n",
    "import pandas as pd\n",
    "import re\n",
    "import string\n",
    "\n",
    "from IPython.display import display, HTML\n",
    "\n",
    "from subprocess import check_output\n",
    "\n",
    "#sklearn imports\n",
    "from sklearn.feature_extraction.text import TfidfVectorizer\n",
    "from sklearn.linear_model import LogisticRegression\n",
    "from sklearn.pipeline import Pipeline\n",
    "from sklearn.neighbors import KNeighborsClassifier\n",
    "from sklearn.linear_model import LogisticRegression\n",
    "from sklearn.naive_bayes import BernoulliNB\n",
    "from sklearn.naive_bayes import MultinomialNB\n",
    "from sklearn.grid_search import GridSearchCV\n",
    "from sklearn.decomposition import TruncatedSVD\n",
    "from sklearn.pipeline import Pipeline\n",
    "from sklearn.neural_network import MLPClassifier\n",
    "from sklearn.feature_extraction.text import CountVectorizer\n",
    "from sklearn.metrics import auc, roc_curve\n",
    "from sklearn import metrics\n",
    "\n",
    "\n",
    "\n",
    "#xgboost\n",
    "from sklearn.ensemble import (RandomTreesEmbedding, RandomForestClassifier,\n",
    "                              GradientBoostingClassifier)\n",
    "\n",
    "\n",
    "#scipy imports\n",
    "from scipy.sparse import hstack\n",
    "\n",
    "#Visualization imports\n",
    "import matplotlib.pyplot as plt\n",
    "import matplotlib.gridspec as gridspec \n",
    "#import matplotlib as mp\n",
    "import seaborn as sns\n",
    "\n",
    "import matplotlib.gridspec as gridspec \n",
    "\n",
    "#NLTK imports\n",
    "import string\n",
    "\n",
    "import nltk\n",
    "from nltk.corpus import stopwords as sw\n",
    "from nltk.corpus import wordnet as wn\n",
    "from nltk.tokenize import punkt as punkt\n",
    "from nltk import wordpunct_tokenize\n",
    "from nltk import WordNetLemmatizer\n",
    "from nltk import sent_tokenize\n",
    "from nltk import pos_tag\n",
    "from nltk.corpus import stopwords\n",
    "stop = stopwords.words('english')\n",
    "\n",
    "# These imports enable the use of NLTKPreprocessor in an sklearn Pipeline\n",
    "from sklearn.base import BaseEstimator, TransformerMixin\n",
    "\n",
    "#scipy imports\n",
    "from scipy.sparse import hstack\n",
    "\n",
    "#General imports\n",
    "import pprint\n",
    "import time\n",
    "from collections import Counter\n",
    "\n",
    "#pickle\n",
    "import pickle\n",
    "\n",
    "sns.set(style=\"white\", context=\"talk\")\n",
    "np.random.seed(455)\n",
    "\n",
    "# Establishing the target classes\n",
    "target_names = ['toxic', 'severe_toxic', 'obscene', 'threat', 'insult', 'identity_hate']"
   ]
  },
  {
   "cell_type": "markdown",
   "metadata": {},
   "source": [
    "### Data Ingestion\n",
    "\n",
    "\n",
    "The cell below contains the code that was used to process the data.  The commented out code are the steps used to create the new standardized training and testing sets which are saved and re-read from the team data folder."
   ]
  },
  {
   "cell_type": "code",
   "execution_count": 2,
   "metadata": {},
   "outputs": [
    {
     "name": "stdout",
     "output_type": "stream",
     "text": [
      "total training observations: 111828\n",
      "training data shape: (111828L,)\n",
      "training label shape: (111828, 6)\n",
      "test label shape: (47743, 6)\n",
      "labels names: ['toxic', 'severe_toxic', 'obscene', 'threat', 'insult', 'identity_hate']\n"
     ]
    }
   ],
   "source": [
    "####################################################\n",
    "# Data Setup\n",
    "####################################################\n",
    "# read frames localy through csv\n",
    "#train_df = pd.read_csv(\"../w207_FinalProject/data/train.csv\")\n",
    "#test_df = pd.read_csv(\"../w207_FinalProject/data/test.csv\")\n",
    "\n",
    "# Random index generator for splitting training data\n",
    "# Note: Each rerun of cell will create new splits.\n",
    "#randIndexCut = np.random.rand(len(train_df)) < 0.7\n",
    "\n",
    "# split new frame to distribute across notebooks\n",
    "#new_test_split = test_df[~randIndexCut].to_csv(\"../w207_FinalProject/data/new_test.csv\")\n",
    "#new_train_split = train_df[randIndexCut].to_csv(\"../w207_FinalProject/data/new_train.csv\")\n",
    "\n",
    "# read in new train and test from data folder\n",
    "new_train_df = pd.read_csv(\"../w207_FinalProject/data/new_train.csv\")\n",
    "new_test_df = pd.read_csv(\"../w207_FinalProject/data/new_test.csv\")\n",
    "\n",
    "#Split up data\n",
    "test_data = new_test_df[\"comment_text\"]\n",
    "test_data, test_labels = new_test_df[\"comment_text\"], new_test_df[target_names]\n",
    "train_data, train_labels = new_train_df[\"comment_text\"], new_train_df[target_names]\n",
    "\n",
    "print 'total training observations:', new_train_df.shape[0]\n",
    "print 'training data shape:', train_data.shape\n",
    "print 'training label shape:', train_labels.shape\n",
    "print 'test label shape:', test_labels.shape\n",
    "print 'labels names:', target_names"
   ]
  },
  {
   "cell_type": "markdown",
   "metadata": {},
   "source": [
    "### Exploratory Data Analysis"
   ]
  },
  {
   "cell_type": "markdown",
   "metadata": {},
   "source": [
    "### Assessing the Targets"
   ]
  },
  {
   "cell_type": "markdown",
   "metadata": {},
   "source": [
    "Let's see how imblanced the label set is in order to have a better understanding with the label quality of the given data set. "
   ]
  },
  {
   "cell_type": "code",
   "execution_count": 11,
   "metadata": {},
   "outputs": [
    {
     "data": {
      "image/png": "[encoded data removed]",
      "text/plain": [
       "<Figure size 720x288 with 1 Axes>"
      ]
     },
     "metadata": {},
     "output_type": "display_data"
    }
   ],
   "source": [
    "def simpleClassBar(labels):\n",
    "    \"\"\"Function for creating a simple class bar plot\n",
    "    \n",
    "    This function requires document data long with the labels and label_names.  \n",
    "\n",
    "    Args:\n",
    "        labels: label data frame \n",
    "    Returns:\n",
    "         barplot\n",
    "        \n",
    "    \"\"\"\n",
    "    target_counts = labels.apply(np.sum,0)\n",
    "    #Plot counts by class in barplot\n",
    "    plt.figure(figsize=(10,4))\n",
    "    ax= sns.barplot(target_counts.index, target_counts.values)\n",
    "    #format plot\n",
    "    plt.title(\"Count by Class\")\n",
    "    plt.ylabel('Number of Occurrences', fontsize=10)\n",
    "    plt.xlabel('Label ', fontsize=10)\n",
    "    #return plt \n",
    "    return(plt.show())\n",
    "\n",
    "simpleClassBar(labels = train_labels)"
   ]
  },
  {
   "cell_type": "markdown",
   "metadata": {},
   "source": [
    "The data is fairly imbalanced when counting label occurrences. "
   ]
  },
  {
   "cell_type": "markdown",
   "metadata": {},
   "source": [
    "**Major Takeaway**\n",
    "\n",
    "Due to the strong imbalanced nature of this, we will explore and explore options to help mitigate class imbalance.  \n",
    "Downsampling could be drastic since the difference in counts between the majority class and minority class.  Each model has various ways of addressing issues with sampling and each team will explore wayus to mitigate this through sampling methods and exploring parameters that can help mitigate the imbalance (e.g. cross validation, regularization, sampling methods).  It would be ideal to expand the training set and add more observations for the minority classes since upsampling could overduplicate certain observations as well.  \n",
    "\n",
    "However, due to the time constraint, the one step that the team concluded was the use of AUC, Precision, and Recall since they are optimal metrics for imbalanced data sets.  Please refer to metrics section above. "
   ]
  },
  {
   "cell_type": "markdown",
   "metadata": {},
   "source": [
    "### Categorical Analysis"
   ]
  },
  {
   "cell_type": "code",
   "execution_count": 12,
   "metadata": {},
   "outputs": [
    {
     "data": {
      "text/plain": [
       "<matplotlib.axes._subplots.AxesSubplot at 0x115447b8>"
      ]
     },
     "execution_count": 12,
     "metadata": {},
     "output_type": "execute_result"
    },
    {
     "data": {
      "image/png": "[encoded data removed]",
      "text/plain": [
       "<Figure size 720x360 with 2 Axes>"
      ]
     },
     "metadata": {},
     "output_type": "display_data"
    }
   ],
   "source": [
    "# heatmap function\n",
    "def createLabelHeatMap(labels):\n",
    "    \"\"\"Function for creating a simple class bar plot\n",
    "    \n",
    "    This function requires document data long with the labels and label_names.  \n",
    "\n",
    "    Args:\n",
    "        labels: data frame containing multi-label data \n",
    "    Returns:\n",
    "         seaborn object\n",
    "        \n",
    "    \"\"\"\n",
    "    f, ax_heatmap = plt.subplots(figsize=(10, 5))\n",
    "    f.suptitle('Heatmap of Target Classes')\n",
    "    # use the corr mat of labels to generate heatmap\n",
    "    return(sns.heatmap(labels.corr(), annot=True, ax=ax_heatmap))\n",
    "\n",
    "createLabelHeatMap(labels = train_labels)"
   ]
  },
  {
   "cell_type": "markdown",
   "metadata": {},
   "source": [
    "### Venn Diagram\n",
    "\n",
    "Venn diagrams are a useful method for comparing multiple categorical events across each other.\n",
    "\n",
    "Venn diagrams are optimal for 3 set analysis so we used the heatmap to narrow down to four signals that show interesting correlation. \n",
    "\n",
    "- toxic\n",
    "- severe_toxic\n",
    "- insult\n",
    "- obscene\n",
    "\n",
    "All four of these targets have noticeable correlation.  \n",
    "\n",
    "** 4-Way Approx**\n",
    "<img src=\"img/4_approx.png\" width=\"500\">\n",
    "** 3- Way Approx Combination 1**\n",
    "<img src=\"img/3_approx_1.png\" width=\"500\">\n",
    "**3- Way Approx Combination 2**\n",
    "<img src=\"img/3_approx_2.png\" width=\"500\">\n",
    "\n",
    "\n"
   ]
  },
  {
   "cell_type": "markdown",
   "metadata": {},
   "source": [
    "We can see some interesting observations:\n",
    "\n",
    "- `severe_toxic` is subset feature and only intersects with other classes as shown in the venn diagrams.\n",
    "- Every `severe_toxic` label is a subset of `toxic`\n",
    "- `obscene` and `insult` seem to possess both labels that are toxic and seperate from toxic.  This emphasizes the nuance of linguistics and language since it's possible to be insulting while not using toxic language.  This can also foreshadow a difficult part of NLP which is dealing with context and tones such as sarcasm. \n",
    "- The major takeaway is that these classes are both imbalanced and exhibit highly correlative patterns. \n",
    "    - We can no longer assume that classes add up to 1.00 Probability or that each target is mutually exclusive from one another and is thus a multi-label problem.\n",
    "    - This affects the way we have to design the Machine Learning pipeline.\n",
    "    - Each machine learning pipeline will have to create at minimum 6- models for each target class in order to provide predictions for each target class.  \n",
    "    - While it may seem tempting to creat a super label by joining all the labels together, this would distort the original problem since such a label will be useful for predicting whether or not any text either belongs to any of the six classes or not (1/0). Our team is interested in developing models to predict on each target because of the challenge it provides.  As shown in the EDA, not all aggressive langauge is considered Toxic.  This has important implications because if future AI services flag any language as toxic which can give users a negative experience.  For example, in many games you can flag players for toxic language and a predictive model for this can help automate game play quality.  However, if the system ban players for any negative language including insults which can be expected in competitive game play, then likely players would quit and find another game.  In short, we are interested in the more difficult problem of classifying different facets of toxic which is why our team will use a model-per-target-class approach for the rest of this case study. \n",
    "\n",
    "\n",
    "\n",
    "### Concluding Data Quality \n",
    "\n",
    "In short, the data has a lot of interesting and challenging attributes.  There are so many ways of conveying toxic language and intent through words.  By understanding these sub-facets of toxic language, we can provide concepts that can extent to various industries and research that centralizes around text-information. \n",
    "\n",
    "<img src=\"img/wc_toxic.png\" width=\"500\">\n"
   ]
  },
  {
   "cell_type": "markdown",
   "metadata": {},
   "source": [
    "## ETL Methodology\n",
    "\n",
    "\n",
    "Each team member were assigned different models to explore.  By using the same `new_train.csv` and `new_test.csv`, that was a 70/30 split from the original data from Kaggle, we can distribute the same dataset across notebooks to ensure standardization across general modeling pipelines.  \n",
    "\n",
    "Additionally, a final preprocessing method was estblished and distributed across the top models to further control and standardize the results and performance across the different machine learning approaches used.  However, please note that the team also explored other methods such as using LSA which wasn't used across all models due to size of the data and was outperformed by non-LSA methods in some of the models.  \n",
    "\n",
    "In order to pipe data from different notebooks, the team saved and read data from the `data` folder in the repo found here <a href=\"https://github.com/jlee-snn/w207_FinalProject/tree/master/data\"> here </a>. "
   ]
  },
  {
   "cell_type": "markdown",
   "metadata": {},
   "source": [
    "#### Final Text Processing Method\n",
    "\n",
    "\n",
    "The code for the final text processing method can be found in the Neural Network Notebook <a href=\"https://github.com/jlee-snn/w207_FinalProject/blob/master/walt/NeuralNet-Submission.ipynb\"> here </a>. \n",
    "\n",
    "The established ETL block for text processing uses NLTKPreprocessor to tokenize the input data and then the TfidfVectorizer to vectorize it. The NLTKPreprocessor will ignore English stop words and will lemmatize where possible.  The comments are collected from Wiki text sources and thus contains text from different languages. \n",
    "\n",
    "The vectorizer ignores words occuring in fewer than 5 documents, which sufficed to reduce the size of the words vector significantly. Also, the vectorizer will limit the total features (words) to 30,000, prioritizing the most valuable ones with highest TF-IDF score.\n",
    "\n",
    "Note that in this case the tokenization available by default in TfidfVectorizer is disabled, since that is handled by the NLTKPreprocessor. This made it clear that tokenization is by far more expensive (time) than vectorization.\n",
    "\n",
    "The processed TFIDF data is then pickled and saved to the `data` folder in order to evaluate with other models. \n",
    "\n",
    "Because the processed data is from the same `new_train.csv` and `new_test.csv`, we can then load in this data and use the same labels to evaluate performance."
   ]
  },
  {
   "cell_type": "markdown",
   "metadata": {},
   "source": [
    "# Modeling Section"
   ]
  },
  {
   "cell_type": "markdown",
   "metadata": {},
   "source": [
    "## Logistic Regression (Benchmark Model, L2)\n",
    "\n",
    "**This mode does not live in a separate notebook as it is the benchmark model**\n",
    "\n",
    "#### Model Design \n",
    "\n",
    "Due to the multi-label approach, the logistic regression is designed with a `one-versus-rest scheme` in mind and used the `SAG` solver that's optimal for handling multinomial loss.  This solver is only compatible with `l2` regularization.\n",
    "\n",
    "Training and test data was read in from the data folder from the finalized text processed data that resides as pickle files in the data folder. \n",
    "\n",
    "#### Model Performance\n",
    "\n",
    "Across the board, the model has an average AUC of 0.67.  Looking at the results for each case, we can see more interesting interactions taking place.  \n"
   ]
  },
  {
   "cell_type": "code",
   "execution_count": 5,
   "metadata": {},
   "outputs": [],
   "source": [
    "# Read pickle files\n",
    "trainTFIDF = pickle.load( open( \"../w207_FinalProject/walt/train_tfidf_counts.None.pickle\", \"rb\" ) )\n",
    "testTFIDF = pickle.load( open( \"../w207_FinalProject/walt/test_tfidf_counts.None.pickle\", \"rb\" ) )"
   ]
  },
  {
   "cell_type": "code",
   "execution_count": 13,
   "metadata": {},
   "outputs": [
    {
     "name": "stdout",
     "output_type": "stream",
     "text": [
      "Test auc for class toxic is 0.781187859903\n",
      "Test precision for class toxic is 0.56655501296\n",
      "Test recall for class toxic is 0.56736365596 \n",
      "\n",
      "Test auc for class severe_toxic is 0.612652012801\n",
      "Test precision for class severe_toxic is 0.141610677666\n",
      "Test recall for class severe_toxic is 0.226890756303 \n",
      "\n",
      "Test auc for class obscene is 0.79723716354\n",
      "Test precision for class obscene is 0.572341523177\n",
      "Test recall for class obscene is 0.597352024922 \n",
      "\n",
      "Test auc for class threat is 0.53942115327\n",
      "Test precision for class threat is 0.0586599212281\n",
      "Test recall for class threat is 0.0789473684211 \n",
      "\n",
      "Test auc for class insult is 0.739254925471\n",
      "Test precision for class insult is 0.427601425281\n",
      "Test recall for class insult is 0.483736447039 \n",
      "\n",
      "Test auc for class identity_hate is 0.594414818758\n",
      "Test precision for class identity_hate is 0.159044707445\n",
      "Test recall for class identity_hate is 0.189252336449 \n",
      "\n",
      "Mean(dev) ROC_AUC: 0.677361322291\n"
     ]
    }
   ],
   "source": [
    "def multiLabelLogistic(train, train_labels, test, test_labels, pen = \"l2\", solver = \"sag\"):\n",
    "    \"\"\"Function multilabel logistic regression  \n",
    "\n",
    "    Args:\n",
    "        train: training data frame\n",
    "        train_labels: training labels frame\n",
    "        test: test data frame\n",
    "        test_labels: test labels data frame\n",
    "        pen(str): Penalty, default is l2\n",
    "        solver: glm solver, default is SAG\n",
    "    Returns: \n",
    "         scores_test: array of scores\n",
    "        \n",
    "    \"\"\"\n",
    "    pred_dt = pd.DataFrame()\n",
    "    scores_test = []\n",
    "    for name in target_names:\n",
    "        classifier = LogisticRegression(solver=solver, penalty = pen) \n",
    "        classifier.fit(train, train_labels[name])\n",
    "        output = classifier.predict(test)\n",
    "        fpr, tpr, thresholds = metrics.roc_curve(test_labels[name], output)\n",
    "        print('Test auc for class {} is {}'.format(name, metrics.auc(fpr,tpr)))\n",
    "        print('Test precision for class {} is {}'.format(name, metrics.average_precision_score(test_labels[name], output)))\n",
    "        print('Test recall for class {} is {} \\n'.format(name, metrics.recall_score(test_labels[name], output)))\n",
    "        scores_test.append(metrics.auc(fpr,tpr))\n",
    "        pred_dt[name] = classifier.predict(test)\n",
    "    pred_dt.to_csv(\"../w207_FinalProject/data/logitPreds.csv\") # save predictions output\n",
    "    return(scores_test)\n",
    "\n",
    "\n",
    "# print score across targets\n",
    "print(\"Mean(dev) ROC_AUC: {}\").format(np.mean(multiLabelLogistic(train = trainTFIDF, \n",
    "                                                                 train_labels = train_labels, \n",
    "                                                                 test = testTFIDF, \n",
    "                                                                 test_labels = test_labels)))"
   ]
  },
  {
   "cell_type": "markdown",
   "metadata": {},
   "source": [
    "#### Model Takeaways\n",
    "\n",
    "In terms of AUC, Recall and Precision, the best class was `obscene` with the highest AUC.  Additionally, the precision and recall for `obscene` are similar at around ~0.57.  In general, we can conclude that it still has issues with false negatives and positives.  \n",
    "\n",
    "Logistic regression is a very useful model that can fit with many types of data sets.  Using Logistic regression we can obtain convenient probability scores for observations and with the `l2` penalty in mind, multicollinearity can be mitigated. \n",
    "\n",
    "However, the Logistic regression model is known to not perform well on large feature spaces and has issues with non-linear data and require extra processing or non-linear transformations.   \n",
    "\n",
    "Given the high feature space of this data and non-linear structure, this may explain why logistic regression isn't performing super well.  Since some cases like `threat`, the model scored a 0.058 in terms of precision meaning that there are a high amount of false positives for `threat`.  \n",
    "\n",
    "No further tuning will be done on this model since it is a benchmark that uses the same ETL and data preprocessing as the top performing models: Neural Networks and Naive Bayes. \n",
    "\n",
    "Further work will be discontinued for this model due to low performance, but will be kept in notebook for benchmarking purposes."
   ]
  },
  {
   "cell_type": "markdown",
   "metadata": {},
   "source": [
    "## KNN Pipeline\n",
    "\n",
    "The code for KNN exploration can be found <a href = \"https://github.com/jlee-snn/w207_FinalProject/blob/master/yisang/Baseline_ToxicLanguage_c.ipynb\" > here</a>.  \n",
    "\n",
    "KNN was an early explored model that was doscontinued due to the following reasons. \n",
    "\n",
    "1. Computational issues - Due to the high number of features and observations, the KNN training was never able to finish within less than a couple of days since it is computing on every sample.  \n",
    "2. Due to high dimensionality, KNN will likely suffer in terms of performance.   "
   ]
  },
  {
   "cell_type": "markdown",
   "metadata": {},
   "source": [
    "## XGBoost Pipeline"
   ]
  },
  {
   "cell_type": "markdown",
   "metadata": {
    "collapsed": true
   },
   "source": [
    "The old code for XGBoost can be found <a href = \"https://github.com/jlee-snn/w207_FinalProject/blob/master/joe/Exploration.ipynb\" > here</a>.  \n",
    "\n",
    "XGBoost performed an average of ~.50 AUC across all target labels.  Due to low performance compared to the Logistic Regression model, XGBoost will be dropped as a top candidate model. \n",
    "\n",
    "XGBoost is a powerful model that uses additive ensembling and is performant in terms of runtime.   \n",
    "\n",
    "However, because of the required splitting of classes, it is not surprising that XGBoost suffers from drastic overfit. \n",
    "\n",
    "As shown in the notebook, the XGBoost training scores are relatively high (~.90 AUC), however, the test scores are abysmal giving evidence of severe overfitting.  \n",
    "\n",
    "Sinec we are vectorizing text into sparse matrices and later transformed by inverse-frequency, the result are features that are not typical to tree problems.  For example, a single count vector likely contains one observation representing a count while the rest are sparse 0's.  This is not an optimal spread of information for trees to split on and can influence the splitting process of the XGBoost model.  \n",
    "\n",
    "Potential ways to improve this would be to expand and grow the training set to be prepared for any unseen text.\n"
   ]
  },
  {
   "cell_type": "markdown",
   "metadata": {},
   "source": [
    "## Naive Bayes Pipeline\n",
    "\n",
    "The notebook for the Naive Bayes implementation can be found <a href = \"https://github.com/jlee-snn/w207_FinalProject/blob/master/paul/NaiveBayes%20Analysis.ipynb\"> here </a>.  Please go to link regarding details of model design and testing. \n",
    "\n",
    "#### Model Design \n",
    "\n",
    "The chosen model design is a Multinomial NB model using the NLTK + TFIDF processed data that can be found <a href = \"https://github.com/jlee-snn/w207_FinalProject/blob/master/walt/NeuralNet-Submission.ipynb\"> here</a>\n",
    "\n",
    "#### Model Performance\n",
    "\n",
    "- Naive Bayes overall does a good job mitigating False Negative and False Positives as indicated by the high AUC and similarity decent Precision and recall scores.  \n",
    "\n",
    "- However, NB seems to have a tendency to generate more False Positives for “Severe Toxic”.   Since “Severe Toxic” is likely a subgroup of “Toxic”, these two fields are likely highly correlative and not independent from each other.  \n",
    "\n",
    "- As seen in the Evaluation section below, in terms of AUC:\n",
    "    - this model performed the best on the `severe_toxic` label \n",
    "    - this model performed the worse on the `toxic` which makes sense with the high FPR.  "
   ]
  },
  {
   "cell_type": "markdown",
   "metadata": {},
   "source": [
    "### Neural Networks (MLP)\n",
    "\n",
    "The notebook can be found <a href = \"https://github.com/jlee-snn/w207_FinalProject/blob/master/walt/NeuralNet-Submission.ipynb\"> here</a>.  The notebook will contain the code and more detailed model conclusions. \n",
    "\n",
    "#### Model Design \n",
    "\n",
    "In choosing a neural net model for text classification, the output layer should have the same number of nodes as the number of classification labels. In this case, there are 6 labels and as such not only will the output layer have 6 nodes, but the final hidden layer as well. The input layer will have the same number of nodes as features, normally, and ideally the initial hidden layer will be between that and the number of classes.\n",
    "\n",
    "In this case, we're limiting our feature set to 15,000 features (words), and it was not possible to use a number of initial hidden layer nodes at all close to that, running this process on a Macbook. So, setting the initial hidden layer to 12 gave at least some benefit of being less than the number of features and greater than the number of output classes. This (12,6) model is the one that ended up producing best (most accurate) results.\n",
    "\n",
    "Note that, nod toward deeper learning, a (10,8,6) model was also tested, but this ended up demonstrating overfitting, with a signficantly higher accuracy score on test data than on dev data. Please refer to notebook. \n",
    "\n",
    "\n",
    "#### Model Performance \n",
    "\n",
    "- Neural Networks initially demonstrated high AUC scores (~93% on original train data).\n",
    "- This ignores the fact that several of the labels were not correctly classified at all, which is almost certainly due to considerable imbalance in the training dataset.\n",
    "- Additionally, the complexity and scale of text data may be best handled with deep and/or wide Neural Nets, which we’re not currently able to exercise.\n",
    "- As seem below in the metrics table, in terms of AUC\n",
    "    - NN performed the best on `severe_toxic` classes\n",
    "    - NN performed the worse on `threat` classes\n"
   ]
  },
  {
   "cell_type": "markdown",
   "metadata": {},
   "source": [
    "## Evaluation"
   ]
  },
  {
   "cell_type": "markdown",
   "metadata": {},
   "source": [
    "We will evaluate our top models. \n",
    "\n",
    "1. Logistic Regression (original benchmark)\n",
    "2. Naive Bayes\n",
    "3. Neural Networks \n",
    "\n"
   ]
  },
  {
   "cell_type": "code",
   "execution_count": 15,
   "metadata": {},
   "outputs": [
    {
     "data": {
      "text/html": [
       "<table border=\"1\" class=\"dataframe\">\n",
       "  <thead>\n",
       "    <tr style=\"text-align: right;\">\n",
       "      <th></th>\n",
       "      <th>Average Score</th>\n",
       "    </tr>\n",
       "  </thead>\n",
       "  <tbody>\n",
       "    <tr>\n",
       "      <th>AUC_Logistic</th>\n",
       "      <td>0.677361</td>\n",
       "    </tr>\n",
       "    <tr>\n",
       "      <th>Precision_Logistic</th>\n",
       "      <td>0.320969</td>\n",
       "    </tr>\n",
       "    <tr>\n",
       "      <th>Recall_Logistic</th>\n",
       "      <td>0.357257</td>\n",
       "    </tr>\n",
       "    <tr>\n",
       "      <th>AUC_NNetwork</th>\n",
       "      <td>0.963870</td>\n",
       "    </tr>\n",
       "    <tr>\n",
       "      <th>Precision_NNetwork</th>\n",
       "      <td>0.501640</td>\n",
       "    </tr>\n",
       "    <tr>\n",
       "      <th>Recall_NNetwork</th>\n",
       "      <td>0.780763</td>\n",
       "    </tr>\n",
       "    <tr>\n",
       "      <th>AUC_NB</th>\n",
       "      <td>0.890924</td>\n",
       "    </tr>\n",
       "    <tr>\n",
       "      <th>Precision_NB</th>\n",
       "      <td>0.219336</td>\n",
       "    </tr>\n",
       "    <tr>\n",
       "      <th>Recall_NB</th>\n",
       "      <td>0.854299</td>\n",
       "    </tr>\n",
       "  </tbody>\n",
       "</table>"
      ],
      "text/plain": [
       "<IPython.core.display.HTML object>"
      ]
     },
     "metadata": {},
     "output_type": "display_data"
    },
    {
     "data": {
      "text/html": [
       "<table border=\"1\" class=\"dataframe\">\n",
       "  <thead>\n",
       "    <tr style=\"text-align: right;\">\n",
       "      <th></th>\n",
       "      <th>AUC_Logistic</th>\n",
       "      <th>Precision_Logistic</th>\n",
       "      <th>Recall_Logistic</th>\n",
       "      <th>AUC_NNetwork</th>\n",
       "      <th>Precision_NNetwork</th>\n",
       "      <th>Recall_NNetwork</th>\n",
       "      <th>AUC_NB</th>\n",
       "      <th>Precision_NB</th>\n",
       "      <th>Recall_NB</th>\n",
       "    </tr>\n",
       "    <tr>\n",
       "      <th>Target</th>\n",
       "      <th></th>\n",
       "      <th></th>\n",
       "      <th></th>\n",
       "      <th></th>\n",
       "      <th></th>\n",
       "      <th></th>\n",
       "      <th></th>\n",
       "      <th></th>\n",
       "      <th></th>\n",
       "    </tr>\n",
       "  </thead>\n",
       "  <tbody>\n",
       "    <tr>\n",
       "      <th>toxic</th>\n",
       "      <td>0.781188</td>\n",
       "      <td>0.566555</td>\n",
       "      <td>0.567364</td>\n",
       "      <td>0.955580</td>\n",
       "      <td>0.824258</td>\n",
       "      <td>0.797533</td>\n",
       "      <td>0.858937</td>\n",
       "      <td>0.374728</td>\n",
       "      <td>0.838327</td>\n",
       "    </tr>\n",
       "    <tr>\n",
       "      <th>severe_toxic</th>\n",
       "      <td>0.612652</td>\n",
       "      <td>0.141611</td>\n",
       "      <td>0.226891</td>\n",
       "      <td>0.986224</td>\n",
       "      <td>0.430806</td>\n",
       "      <td>0.790175</td>\n",
       "      <td>0.939490</td>\n",
       "      <td>0.148030</td>\n",
       "      <td>0.928571</td>\n",
       "    </tr>\n",
       "    <tr>\n",
       "      <th>obscene</th>\n",
       "      <td>0.797237</td>\n",
       "      <td>0.572342</td>\n",
       "      <td>0.597352</td>\n",
       "      <td>0.976347</td>\n",
       "      <td>0.829210</td>\n",
       "      <td>0.812288</td>\n",
       "      <td>0.888569</td>\n",
       "      <td>0.385486</td>\n",
       "      <td>0.834891</td>\n",
       "    </tr>\n",
       "    <tr>\n",
       "      <th>threat</th>\n",
       "      <td>0.539421</td>\n",
       "      <td>0.058660</td>\n",
       "      <td>0.078947</td>\n",
       "      <td>0.942259</td>\n",
       "      <td>0.041515</td>\n",
       "      <td>0.805237</td>\n",
       "      <td>0.899946</td>\n",
       "      <td>0.050942</td>\n",
       "      <td>0.842105</td>\n",
       "    </tr>\n",
       "    <tr>\n",
       "      <th>insult</th>\n",
       "      <td>0.739255</td>\n",
       "      <td>0.427601</td>\n",
       "      <td>0.483736</td>\n",
       "      <td>0.968406</td>\n",
       "      <td>0.725566</td>\n",
       "      <td>0.750215</td>\n",
       "      <td>0.872004</td>\n",
       "      <td>0.263404</td>\n",
       "      <td>0.847790</td>\n",
       "    </tr>\n",
       "    <tr>\n",
       "      <th>identity_hate</th>\n",
       "      <td>0.594415</td>\n",
       "      <td>0.159045</td>\n",
       "      <td>0.189252</td>\n",
       "      <td>0.954406</td>\n",
       "      <td>0.158484</td>\n",
       "      <td>0.729128</td>\n",
       "      <td>0.886601</td>\n",
       "      <td>0.093422</td>\n",
       "      <td>0.834112</td>\n",
       "    </tr>\n",
       "  </tbody>\n",
       "</table>"
      ],
      "text/plain": [
       "<IPython.core.display.HTML object>"
      ]
     },
     "metadata": {},
     "output_type": "display_data"
    }
   ],
   "source": [
    "from IPython.display import display, HTML\n",
    "\n",
    "glm_predictions = pd.read_csv(\"../w207_FinalProject/data/logitPreds.csv\")\n",
    "nb_predictions = pd.read_csv(\"../w207_FinalProject/data/NB_predictions_top_scores_tfidf_preproc_roc_auc.csv\") \n",
    "nn_predictions = pd.read_csv(\"../w207_FinalProject/data/NN.submission.10000.csv\") \n",
    "\n",
    "\n",
    "def compareMetrics(predictions, test_labels, target, name, scoreMode = False, target_names = target_names):\n",
    "    \"\"\"Function for calculating AUC, Precision, and Recall for a given prediction. \n",
    "\n",
    "    Args:\n",
    "        predictions: Prediction Data Frame\n",
    "        test_labels: Test Label Frame\n",
    "        target(str): target class like \"toxic.\n",
    "        name(str): Identifier to append to column name\n",
    "        scoreMode(bool): If true, use prediction based calculation (1/0), if false use score based calculations.\n",
    "        target_names: list of target names\n",
    "    Returns:\n",
    "         metricDF: Pandas frame with scores for the inputed predictions.\n",
    "        \n",
    "    \"\"\"\n",
    "    auc_scores = []\n",
    "    recall_scores = []\n",
    "    precision_scores = [] #stor variables\n",
    "    \n",
    "    # loop through and calculates metrics per class\n",
    "    for i in target_names:\n",
    "        if scoreMode ==  False :\n",
    "            fpr, tpr, thresholds = metrics.roc_curve(test_labels[i], predictions[i])\n",
    "            auc_scores.append(metrics.auc(fpr,tpr))\n",
    "            recall_scores.append(metrics.recall_score(test_labels[i], predictions[i]))\n",
    "            precision_scores.append(metrics.average_precision_score(test_labels[i], predictions[i]))\n",
    "        else:\n",
    "            fpr, tpr, thresholds = metrics.roc_curve(test_labels[i], predictions[i])\n",
    "            auc_scores.append(metrics.auc(fpr,tpr))\n",
    "            recall_scores.append(np.average(tpr))\n",
    "            precision_scores.append(metrics.average_precision_score(test_labels[i], predictions[i]))\n",
    "    #create frame\n",
    "    metricDF = pd.DataFrame(\n",
    "    {'Target': target_names,\n",
    "     'AUC_%s' %(name): auc_scores,\n",
    "     'Recall_%s'%(name): recall_scores,\n",
    "     \"Precision_%s\"%(name) : precision_scores\n",
    "    })\n",
    "    \n",
    "    return(metricDF)\n",
    "\n",
    "        \n",
    "# create tables for each model\n",
    "tbl1 = compareMetrics(predictions = glm_predictions, test_labels = test_labels, target = target_names[1], name = \"Logistic\")\n",
    "tbl2 = compareMetrics(predictions = nn_predictions, test_labels = test_labels, target = target_names[1], name = \"NNetwork\", scoreMode = True)\n",
    "tbl3 = compareMetrics(predictions = nb_predictions, test_labels = test_labels, target = target_names[1], name = \"NB\")\n",
    "\n",
    "#lambda based merge on Target\n",
    "df_final = reduce(lambda left_col,right_col: pd.merge(left_col,right_col,on='Target'), [tbl1,tbl2,tbl3]).set_index(\"Target\")\n",
    "\n",
    "display(HTML(pd.DataFrame(df_final.mean(axis = 0), columns = [\"Average Score\"]).to_html()))\n",
    "display(HTML(df_final.to_html()))"
   ]
  },
  {
   "cell_type": "markdown",
   "metadata": {
    "collapsed": true
   },
   "source": [
    "## Conclusion"
   ]
  },
  {
   "cell_type": "markdown",
   "metadata": {},
   "source": [
    "Overall, based on the top models evaluated, the Neural Network implementation performed generally the best with AUC being the primary metric.  \n",
    "The Neural Network model has the highest AUC and best Precision scores as well.  However, it's lowest metric is Recall meaning that it could have issues with False Negatives. \n",
    "\n",
    "Further improvements should explore implementing Convolutional architecture due to the high feature space.    \n",
    "\n",
    "The second best model is the Naive bayes implementation with an AUC ~ 0.90.  This has a fairly poor precision rate but has the best Recall score across all other models.  Likely the Naive Bayes model is having issues with False Positives and may be classifying too many observations as positive.  \n",
    "\n",
    "Potential improvements for this should play around with additional text-processing hypothesis's.  Naive Bayes is very sensitive to preprocessing and thus could be further improved.  Hand coding certain words out of the model for instance could be interesting.  Words such as `fuck` exhibit high correlation across features and if removed may help the models deal with Type 1 and Type 2 errors.  However, due to limited time, it would not be feasible to hand-preprocess and comparing it across all models unless more time is given. \n",
    "\n",
    "The worse model, Logistic regression has the worse Recall but has better precision than the Naive Bayes implementation. \n",
    "Improvements should experiment using different solvers or preprocessing.  However, logistic regression should be prioritized the lease in terms of future improvements. \n",
    "\n",
    "\n",
    "Please note that some scores may change a little since the seed's were set different for each model notebook.  Additionally, in this noteboook, all predictions are read in and using the optimal threshold for the highest AUC score (All final models use AUC as the main scoring parameter).\n",
    "\n",
    "\n",
    "Thank you for your time and we hope you enjoyed this machine learning experimental case study.  "
   ]
  },
  {
   "cell_type": "code",
   "execution_count": null,
   "metadata": {},
   "outputs": [],
   "source": []
  }
 ],
 "metadata": {
  "kernelspec": {
   "display_name": "Python 2",
   "language": "python",
   "name": "python2"
  },
  "language_info": {
   "codemirror_mode": {
    "name": "ipython",
    "version": 2
   },
   "file_extension": ".py",
   "mimetype": "text/x-python",
   "name": "python",
   "nbconvert_exporter": "python",
   "pygments_lexer": "ipython2",
   "version": "2.7.14"
  }
 },
 "nbformat": 4,
 "nbformat_minor": 2
}
