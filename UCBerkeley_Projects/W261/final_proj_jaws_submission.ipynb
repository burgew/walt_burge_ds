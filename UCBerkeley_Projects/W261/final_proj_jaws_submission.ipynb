{
 "cells": [
  {
   "cell_type": "markdown",
   "metadata": {},
   "source": [
    "# W261 Final Project\n",
    "\n",
    "### Team Members:\n",
    "- Walt Burge\n",
    "- Avinash Chandrasekaran\n",
    "- James De La Torre\n",
    "- Jae Il Lee\n",
    "- Sylvia Yang"
   ]
  },
  {
   "cell_type": "markdown",
   "metadata": {},
   "source": [
    "### 1. Introduction\n",
    "\n",
    "In this final project, we will perform Click Through Rate prediction on a large dataset of Criteo advertising data that is made public as part of a Kaggle competition. \n",
    "\n",
    "Click through rate (CTR) is a ratio showing how often people who see an ad end up clicking it. This ratio can be used to gauge how well the keywords and the ads are performing. CTR is the number of clicks that a ad receives divided by the number of times a ad is shown: clicks ÷ impressions = CTR. For example, if we had 5 clicks and 100 impressions, then our CTR would be 5%. A high CTR is a good indication that users find the ads helpful and relevant. The CTR metric can be used to gauge which ads/keywords are successful vs. which ones need to be improved. The more the keywords and ads relate to each other and to a particular business, the more likely a user is to click on the ad after searching on a keyword phrase.\n",
    "\n",
    "In this project, we will perform a CTR prediction on a public dataset of Criteo advertising data. As part of this, we will first perform an exploratory data analysis (EDA), and from this EDA determine if binary logistic regression is an appropriate algorithm to use for CTR prediction. In this pursuit, we will thoroughly test out all assumptions of using a logistic regression model. If determined appropriate, we will apply binary logictic regression to a handcrafted toy example to test out general algorithm implemented before applying to the full train and test data provided. Our target label (variable) will take a binary value (0 or 1) corresponding to whether or not a display ad served was clicked. \n",
    "\n",
    "The leaderboard of the public Kaggle competition indicates a log-loss score of 0.445 with a good majority achieving scores of ~0.46. Through optimizations we will aim to achieve a similar score. "
   ]
  },
  {
   "cell_type": "markdown",
   "metadata": {},
   "source": [
    "### 2. Exploratory Data Analysis\n",
    "\n",
    "We will first explore the dataset provided in an attempt to better understand it before we start the CTR prediction modeling. From the data description provided in the Kaggle website, each row of the dataset contains three different types of variables, namely:\n",
    "\n",
    "* Label - Target variable that indicates if an ad was clicked (1) or not (0).\n",
    "\n",
    "* I1-I13 - A total of 13 columns of integer features (mostly count features).\n",
    "\n",
    "* C1-C26 - A total of 26 columns of categorical features. The values of these features have been hashed onto 32 bits for anonymization purposes. \n",
    "\n",
    "The semantics of the features have not been disclosed but we've explored the domain space and the available features in display advertising and response prediction to further understand the characterisitcs of the dataset and align with our EDA and solution. The type of data that becomes available in most advertisiting systems can be categorized as 4 types : *advertiser*, *publisher*, *user*, *time* and a represnetative list of features for each group can be found below : \n",
    "\n",
    "|Feature Family|Feature Members|\n",
    "|:----------:|:-------------:|\n",
    "|Advertiser|advertiser id, campaign id, creative, ad category|\n",
    "|Publisher|publisher id, site, section, url, page count|\n",
    "|User|gender, age, region, network speed, geo, interaction count|\n",
    "|Time|serve time, click time|\n",
    "\n",
    "Most of the features are categorical features with large cardinality and sparsity and due to this nature, representation of the data in our model and reducing the dimensionality was the focus around building a scalable model that can appropriately scale with respect to the number of features.\n",
    "\n",
    "In this Exploratory Data Analysis, we will start with examining the format and structure of the dataset, the size of the dataset, examine it for missing entries and outliers. We will then list out the summary statistics that will provide a better view of the distribution of the dataset. To further aid in our analysis, we will plot several graphs that augment our understanding of the distribution of the dataset.\n",
    "\n",
    "For our project, we aim to use logistic regression algorithm for CTR prediction. Logictic regression models have several assumptions that must be met before they can used. These assumptions include:\n",
    "\n",
    "* The outcome variable is a binary value i.e. 1 or 0, 'yes' or 'no' etc\n",
    "\n",
    "* There is a linear relationship between the logit of the outcome and each predictor variable. The logit function is $logit(p) = log(p/(1-p))$, where 'p' is the probability of the outcome\n",
    "\n",
    "* All of the observations should be independent\n",
    "\n",
    "* There is no multicollinearity among the independent variables\n",
    "\n",
    "* There are large number of observations\n",
    "\n",
    "Given the public dataset, we already know that the target outcome variable is binary i.e. whether the ad is clicked or not. In addition, it should be safe to assume observations are independent. Each row in the dataset corresponds to a separately presented display ad. It is thus reasonable to make this assumption. These two satisfy two of the 5 assumptions stated above.\n",
    "\n",
    "Also as seen above, there are 26 columns of categorical features. This appears to be one of the limitations as logictic regression model accepts only numerical values. To address this issue, we will convert the categorical columns into indicator variable using a process called one-hot encoding (OHE). Without this step, we will be unable to use the columns as is thus reducing the predictive power of our model.\n",
    "\n",
    "As we conduct our EDA, we will evaluate the remaining assumptions on logistic regression model."
   ]
  },
  {
   "cell_type": "code",
   "execution_count": 1,
   "metadata": {},
   "outputs": [],
   "source": [
    "import ast\n",
    "import datetime\n",
    "import matplotlib.pyplot as plt\n",
    "import networkx as nx\n",
    "import numpy as np\n",
    "import os\n",
    "import pandas as pd\n",
    "import pickle\n",
    "import re\n",
    "import seaborn as sns\n",
    "import time\n",
    "import statsmodels.formula.api as smf\n",
    "import pylab as pl\n",
    "from pyspark.mllib.stat import Statistics # Use for computing mean and variance when standardizing"
   ]
  },
  {
   "cell_type": "code",
   "execution_count": 2,
   "metadata": {},
   "outputs": [],
   "source": [
    "# start Spark Session\n",
    "from pyspark.sql import SparkSession\n",
    "app_name = \"final_proj_notebook\"\n",
    "master = \"local[*]\"\n",
    "spark = SparkSession\\\n",
    "        .builder\\\n",
    "        .appName(app_name)\\\n",
    "        .master(master)\\\n",
    "        .getOrCreate()\n",
    "sc = spark.sparkContext"
   ]
  },
  {
   "cell_type": "code",
   "execution_count": 3,
   "metadata": {},
   "outputs": [],
   "source": [
    "from IPython.display import display, HTML, display_html #usefull to display wide tables\n",
    "from pyspark.sql import functions as F, types\n",
    "from pyspark.ml import Pipeline\n",
    "from pyspark.ml.classification import LogisticRegression\n",
    "from pyspark.ml.feature import OneHotEncoderEstimator, StringIndexer, VectorAssembler, StandardScaler, PCA\n",
    "from pyspark.ml.linalg import VectorUDT\n",
    "from pyspark.ml.linalg import SparseVector\n",
    "from pyspark.sql.functions import (explode, col)\n",
    "from pyspark.sql.functions import col, row_number, concat, lit\n",
    "from pyspark.sql.functions import trim\n",
    "from pyspark.sql.functions import udf\n",
    "from pyspark.sql.functions import split\n",
    "from pyspark.sql.functions import when, log, col\n",
    "from pyspark.sql.types import ArrayType, StructType, StructField, LongType, StringType\n",
    "from pyspark.sql.types import FloatType\n",
    "from pyspark.sql.types import Row\n",
    "from pyspark.sql.window import Window\n",
    "from pyspark.ml.stat import Correlation\n",
    "from pyspark.sql import SQLContext\n",
    "sqlContext = SQLContext(sc)"
   ]
  },
  {
   "cell_type": "code",
   "execution_count": 4,
   "metadata": {},
   "outputs": [
    {
     "data": {
      "text/plain": [
       "Row(label=0.0, int_1=0.0, int_2=628.0, int_3=4.0, int_4=1.0, int_5=1732.0, int_6=291.0, int_7=57.0, int_8=19.0, int_9=19.0, int_10=0.0, int_11=7.0, int_12=None, int_13=1.0, categ_1='68fd1e64', categ_2='287130e0', categ_3='61f559fa', categ_4='3c6543d9', categ_5='25c83c98', categ_6='', categ_7='397def4e', categ_8='0b153874', categ_9='a73ee510', categ_10='0af798a0', categ_11='20b05825', categ_12='9efd7e1b', categ_13='c28589ee', categ_14='b28479f6', categ_15='9efd8b77', categ_16='c4089ccc', categ_17='e5ba7672', categ_18='891589e7', categ_19='315ba0e1', categ_20='b1252a9d', categ_21='63b0486e', categ_22='', categ_23='32c7478e', categ_24='5e07a644', categ_25='e8b83407', categ_26='dee3cffc')"
      ]
     },
     "execution_count": 4,
     "metadata": {},
     "output_type": "execute_result"
    }
   ],
   "source": [
    "# Read into data frame and adjust column names\n",
    "rawDF = sqlContext.read.text('data/train.txt').withColumnRenamed(\"value\", \"text\")\n",
    "rawDF.cache()\n",
    "fullWithColsDF = rawDF.withColumn('tmp', split('text', '\\t')). \\\n",
    "                    select(col(\"tmp\").getItem(0).cast(\"double\").alias(\"label\"),\n",
    "                           col(\"tmp\").getItem(1).cast(\"double\").alias(\"int_1\"), \n",
    "                           col(\"tmp\").getItem(2).cast(\"double\").alias(\"int_2\"),\n",
    "                           col(\"tmp\").getItem(3).cast(\"double\").alias(\"int_3\"),\n",
    "                           col(\"tmp\").getItem(4).cast(\"double\").alias(\"int_4\"),\n",
    "                           col(\"tmp\").getItem(5).cast(\"double\").alias(\"int_5\"),\n",
    "                           col(\"tmp\").getItem(6).cast(\"double\").alias(\"int_6\"),\n",
    "                           col(\"tmp\").getItem(7).cast(\"double\").alias(\"int_7\"),\n",
    "                           col(\"tmp\").getItem(8).cast(\"double\").alias(\"int_8\"),\n",
    "                           col(\"tmp\").getItem(9).cast(\"double\").alias(\"int_9\"),\n",
    "                           col(\"tmp\").getItem(10).cast(\"double\").alias(\"int_10\"),\n",
    "                           col(\"tmp\").getItem(11).cast(\"double\").alias(\"int_11\"),\n",
    "                           col(\"tmp\").getItem(12).cast(\"double\").alias(\"int_12\"),\n",
    "                           col(\"tmp\").getItem(13).cast(\"double\").alias(\"int_13\"),\n",
    "                           col(\"tmp\").getItem(14).alias(\"categ_1\"),\n",
    "                           col(\"tmp\").getItem(15).alias(\"categ_2\"),\n",
    "                           col(\"tmp\").getItem(16).alias(\"categ_3\"),\n",
    "                           col(\"tmp\").getItem(17).alias(\"categ_4\"),\n",
    "                           col(\"tmp\").getItem(18).alias(\"categ_5\"),\n",
    "                           col(\"tmp\").getItem(19).alias(\"categ_6\"),\n",
    "                           col(\"tmp\").getItem(20).alias(\"categ_7\"),\n",
    "                           col(\"tmp\").getItem(21).alias(\"categ_8\"),\n",
    "                           col(\"tmp\").getItem(22).alias(\"categ_9\"),\n",
    "                           col(\"tmp\").getItem(23).alias(\"categ_10\"),\n",
    "                           col(\"tmp\").getItem(24).alias(\"categ_11\"),\n",
    "                           col(\"tmp\").getItem(25).alias(\"categ_12\"),\n",
    "                           col(\"tmp\").getItem(26).alias(\"categ_13\"),\n",
    "                           col(\"tmp\").getItem(27).alias(\"categ_14\"),\n",
    "                           col(\"tmp\").getItem(28).alias(\"categ_15\"),\n",
    "                           col(\"tmp\").getItem(29).alias(\"categ_16\"),\n",
    "                           col(\"tmp\").getItem(30).alias(\"categ_17\"),\n",
    "                           col(\"tmp\").getItem(31).alias(\"categ_18\"),\n",
    "                           col(\"tmp\").getItem(32).alias(\"categ_19\"),\n",
    "                           col(\"tmp\").getItem(33).alias(\"categ_20\"),\n",
    "                           col(\"tmp\").getItem(34).alias(\"categ_21\"),\n",
    "                           col(\"tmp\").getItem(35).alias(\"categ_22\"),\n",
    "                           col(\"tmp\").getItem(36).alias(\"categ_23\"),\n",
    "                           col(\"tmp\").getItem(37).alias(\"categ_24\"),\n",
    "                           col(\"tmp\").getItem(38).alias(\"categ_25\"),\n",
    "                           col(\"tmp\").getItem(39).alias(\"categ_26\")\n",
    "                        ).cache()\n",
    "\n",
    "# Print first row and check schema\n",
    "fullWithColsDF.first()"
   ]
  },
  {
   "cell_type": "markdown",
   "metadata": {},
   "source": [
    "### 2.1) Summary Statistics\n",
    "\n",
    "We generate the summary statistics for our full dataset below:\n",
    "\n",
    "#### Numerical Columns\n",
    "\n",
    "For our 13 numerical columns, we can observe that for many of the columns there are a substantial number of null / not-a-number (nan) values.  There are number of columns where there are 20% null values while \"int_12\" column peaks at 76%.  \"int_2\" column on the other hand has no null/NaN values.\n",
    "\n",
    "The values in the numerical columns vary greatly in size and often in range.  For example, column int_11 has a mean value of 0.62, while column int_5 has a mean value of 18538.99, and ranges in value from 0 to 23,159,456.0.   This wide range for column int_5 suggests that it may have a number of outliers, which we will have to factor in.\n",
    "\n",
    "Furthermore, some columns, in particular \"int_5\", exhibit very high skewness and variance.\n",
    "\n",
    "#### Categorical Columns\n",
    "\n",
    "For our 26 categorical columns, about half of them have no empty string / null values, while the other half contain a large amount.  This reaches as high as 34,955,073 empty string / null values for \"categ_22\".  Interesting is that many of the columns with higher number of unique values also have high numbers of empty string / null values."
   ]
  },
  {
   "cell_type": "code",
   "execution_count": 5,
   "metadata": {},
   "outputs": [],
   "source": [
    "labelColList=[\"label\"]\n",
    "intColList=[\"int_1\", \"int_2\", \"int_3\", \"int_4\", \"int_5\", \"int_6\", \"int_7\"\\\n",
    "            , \"int_8\", \"int_9\", \"int_10\", \"int_11\", \"int_12\", \"int_13\"]\n",
    "categColList=[\"categ_1\", \"categ_2\", \"categ_3\", \"categ_4\", \"categ_5\", \"categ_6\"\\\n",
    "              , \"categ_7\", \"categ_8\", \"categ_9\", \"categ_10\", \"categ_11\", \"categ_12\"\\\n",
    "              , \"categ_13\", \"categ_14\", \"categ_15\", \"categ_16\", \"categ_17\", \"categ_18\"\\\n",
    "              , \"categ_19\", \"categ_20\", \"categ_21\", \"categ_22\", \"categ_23\", \"categ_24\", \"categ_25\", \"categ_26\"]"
   ]
  },
  {
   "cell_type": "code",
   "execution_count": 6,
   "metadata": {},
   "outputs": [],
   "source": [
    "def f_display_stats_int(data, inColList):\n",
    "    \"\"\"\n",
    "    Computes mean, minimum value, maximum value, standard deviation, variance, skewness, number of nulls/NaN/empty values of a column in a dataframe\n",
    "    Arguments:\n",
    "        df         - dataframe on which we are calculating the metric.\n",
    "    Returns:\n",
    "        Displays the output as a HTML table.\n",
    "    \"\"\"\n",
    "    stats_dict={}\n",
    "    countTotal = data.count()\n",
    "    for colname in inColList:\n",
    "        \n",
    "        list1 = data.agg(F.avg(data[colname]), F.min(data[colname]), F.max(data[colname]), \n",
    "                         F.stddev_pop(data[colname]),F.var_pop(data[colname]),F.skewness(data[colname])).collect()\n",
    "        mean_val, min_val,max_val,stddev,var, skewness =list1[0]\n",
    "        count_nulls = data.filter( (data[colname] ==\"\") |F.isnull(data[colname])|F.isnan(data[colname])).count()\n",
    "        stats_dict[colname]={}\n",
    "        stats_dict[colname]['mean'] = str(round(mean_val,2))\n",
    "        stats_dict[colname]['min'] = str(min_val)\n",
    "        stats_dict[colname]['max'] = str(max_val)\n",
    "        stats_dict[colname]['stddev'] = str(round(stddev,2))\n",
    "        stats_dict[colname]['var'] = str(round(var,2))\n",
    "        stats_dict[colname]['skewness'] = str(round(skewness,2))\n",
    "        stats_dict[colname]['nulls_nans'] = str(count_nulls)\n",
    "        stats_dict[colname]['pct_nulls_nans'] = str(round(float(count_nulls/countTotal*100),2))\n",
    "        stats_dict[colname]['count_empty_string'] = str(data.filter(data[colname] == \"\").count())\n",
    "        stats_dict[colname]['count_unique_values'] = str(data.select([colname]).distinct().count())\n",
    "   #Transposing dataframe to keep column names as rows\n",
    "    display(HTML(pd.DataFrame(stats_dict).T.to_html( )))"
   ]
  },
  {
   "cell_type": "code",
   "execution_count": 7,
   "metadata": {},
   "outputs": [],
   "source": [
    "def f_display_stats_categ(df, inColList):\n",
    "    \"\"\"\n",
    "    Calculates count of unique values and empty strings for a column\n",
    "    Arguments:\n",
    "        df         - dataframe on which we are calculating the metric.\n",
    "        inColList  - list of column names for which we are calculating the metrics.\n",
    "    Returns:\n",
    "        Displays the output as a HTML table.\n",
    "    \"\"\"\n",
    "    stats_dict={}\n",
    "    for col in inColList:\n",
    "        cardinal_cnt = df.select([col]).distinct().count()\n",
    "        stats_dict[col]={\"Count_Unique_Vals\":cardinal_cnt}\n",
    "        stats_dict[col]['Count_Empty_String'] = str(df.filter(df[col] == \"\").count())\n",
    "\n",
    "    display(HTML(pd.DataFrame(stats_dict).T.to_html( )))"
   ]
  },
  {
   "cell_type": "code",
   "execution_count": 8,
   "metadata": {},
   "outputs": [
    {
     "name": "stdout",
     "output_type": "stream",
     "text": [
      "Summary statistics for numerical and categorical columns\n"
     ]
    },
    {
     "data": {
      "text/html": [
       "<table border=\"1\" class=\"dataframe\">\n",
       "  <thead>\n",
       "    <tr style=\"text-align: right;\">\n",
       "      <th></th>\n",
       "      <th>mean</th>\n",
       "      <th>min</th>\n",
       "      <th>max</th>\n",
       "      <th>stddev</th>\n",
       "      <th>var</th>\n",
       "      <th>skewness</th>\n",
       "      <th>nulls_nans</th>\n",
       "      <th>pct_nulls_nans</th>\n",
       "      <th>count_empty_string</th>\n",
       "      <th>count_unique_values</th>\n",
       "    </tr>\n",
       "  </thead>\n",
       "  <tbody>\n",
       "    <tr>\n",
       "      <th>int_1</th>\n",
       "      <td>3.21</td>\n",
       "      <td>0.0</td>\n",
       "      <td>188.0</td>\n",
       "      <td>8.44</td>\n",
       "      <td>71.22</td>\n",
       "      <td>8.24</td>\n",
       "      <td>2252</td>\n",
       "      <td>45.04</td>\n",
       "      <td>0</td>\n",
       "      <td>59</td>\n",
       "    </tr>\n",
       "    <tr>\n",
       "      <th>int_2</th>\n",
       "      <td>104.81</td>\n",
       "      <td>-2.0</td>\n",
       "      <td>4889.0</td>\n",
       "      <td>368.5</td>\n",
       "      <td>135792.38</td>\n",
       "      <td>6.12</td>\n",
       "      <td>0</td>\n",
       "      <td>0.0</td>\n",
       "      <td>0</td>\n",
       "      <td>588</td>\n",
       "    </tr>\n",
       "    <tr>\n",
       "      <th>int_3</th>\n",
       "      <td>48.12</td>\n",
       "      <td>0.0</td>\n",
       "      <td>25871.0</td>\n",
       "      <td>698.52</td>\n",
       "      <td>487935.68</td>\n",
       "      <td>31.04</td>\n",
       "      <td>1009</td>\n",
       "      <td>20.18</td>\n",
       "      <td>0</td>\n",
       "      <td>223</td>\n",
       "    </tr>\n",
       "    <tr>\n",
       "      <th>int_4</th>\n",
       "      <td>7.98</td>\n",
       "      <td>0.0</td>\n",
       "      <td>280.0</td>\n",
       "      <td>10.79</td>\n",
       "      <td>116.48</td>\n",
       "      <td>6.23</td>\n",
       "      <td>952</td>\n",
       "      <td>19.04</td>\n",
       "      <td>0</td>\n",
       "      <td>71</td>\n",
       "    </tr>\n",
       "    <tr>\n",
       "      <th>int_5</th>\n",
       "      <td>17603.41</td>\n",
       "      <td>0.0</td>\n",
       "      <td>1618112.0</td>\n",
       "      <td>63056.5</td>\n",
       "      <td>3976122251.03</td>\n",
       "      <td>9.2</td>\n",
       "      <td>257</td>\n",
       "      <td>5.14</td>\n",
       "      <td>0</td>\n",
       "      <td>3059</td>\n",
       "    </tr>\n",
       "    <tr>\n",
       "      <th>int_6</th>\n",
       "      <td>144.16</td>\n",
       "      <td>0.0</td>\n",
       "      <td>12167.0</td>\n",
       "      <td>391.85</td>\n",
       "      <td>153544.55</td>\n",
       "      <td>13.02</td>\n",
       "      <td>1255</td>\n",
       "      <td>25.1</td>\n",
       "      <td>0</td>\n",
       "      <td>617</td>\n",
       "    </tr>\n",
       "    <tr>\n",
       "      <th>int_7</th>\n",
       "      <td>15.17</td>\n",
       "      <td>0.0</td>\n",
       "      <td>1251.0</td>\n",
       "      <td>55.53</td>\n",
       "      <td>3083.31</td>\n",
       "      <td>11.48</td>\n",
       "      <td>249</td>\n",
       "      <td>4.98</td>\n",
       "      <td>0</td>\n",
       "      <td>195</td>\n",
       "    </tr>\n",
       "    <tr>\n",
       "      <th>int_8</th>\n",
       "      <td>13.06</td>\n",
       "      <td>0.0</td>\n",
       "      <td>682.0</td>\n",
       "      <td>17.32</td>\n",
       "      <td>299.87</td>\n",
       "      <td>14.08</td>\n",
       "      <td>6</td>\n",
       "      <td>0.12</td>\n",
       "      <td>0</td>\n",
       "      <td>58</td>\n",
       "    </tr>\n",
       "    <tr>\n",
       "      <th>int_9</th>\n",
       "      <td>127.53</td>\n",
       "      <td>0.0</td>\n",
       "      <td>7335.0</td>\n",
       "      <td>292.44</td>\n",
       "      <td>85522.4</td>\n",
       "      <td>8.97</td>\n",
       "      <td>249</td>\n",
       "      <td>4.98</td>\n",
       "      <td>0</td>\n",
       "      <td>647</td>\n",
       "    </tr>\n",
       "    <tr>\n",
       "      <th>int_10</th>\n",
       "      <td>0.58</td>\n",
       "      <td>0.0</td>\n",
       "      <td>6.0</td>\n",
       "      <td>0.67</td>\n",
       "      <td>0.44</td>\n",
       "      <td>1.18</td>\n",
       "      <td>2252</td>\n",
       "      <td>45.04</td>\n",
       "      <td>0</td>\n",
       "      <td>7</td>\n",
       "    </tr>\n",
       "    <tr>\n",
       "      <th>int_11</th>\n",
       "      <td>2.47</td>\n",
       "      <td>0.0</td>\n",
       "      <td>79.0</td>\n",
       "      <td>5.07</td>\n",
       "      <td>25.72</td>\n",
       "      <td>6.49</td>\n",
       "      <td>249</td>\n",
       "      <td>4.98</td>\n",
       "      <td>0</td>\n",
       "      <td>54</td>\n",
       "    </tr>\n",
       "    <tr>\n",
       "      <th>int_12</th>\n",
       "      <td>0.93</td>\n",
       "      <td>0.0</td>\n",
       "      <td>72.0</td>\n",
       "      <td>3.76</td>\n",
       "      <td>14.14</td>\n",
       "      <td>9.83</td>\n",
       "      <td>3832</td>\n",
       "      <td>76.64</td>\n",
       "      <td>0</td>\n",
       "      <td>25</td>\n",
       "    </tr>\n",
       "    <tr>\n",
       "      <th>int_13</th>\n",
       "      <td>11.03</td>\n",
       "      <td>0.0</td>\n",
       "      <td>369.0</td>\n",
       "      <td>19.31</td>\n",
       "      <td>373.01</td>\n",
       "      <td>7.39</td>\n",
       "      <td>952</td>\n",
       "      <td>19.04</td>\n",
       "      <td>0</td>\n",
       "      <td>110</td>\n",
       "    </tr>\n",
       "  </tbody>\n",
       "</table>"
      ],
      "text/plain": [
       "<IPython.core.display.HTML object>"
      ]
     },
     "metadata": {},
     "output_type": "display_data"
    }
   ],
   "source": [
    "print(\"Summary statistics for numerical and categorical columns\")\n",
    "f_display_stats_int(fullWithColsDF, intColList)"
   ]
  },
  {
   "cell_type": "code",
   "execution_count": 9,
   "metadata": {},
   "outputs": [
    {
     "data": {
      "text/html": [
       "<table border=\"1\" class=\"dataframe\">\n",
       "  <thead>\n",
       "    <tr style=\"text-align: right;\">\n",
       "      <th></th>\n",
       "      <th>Count_Unique_Vals</th>\n",
       "      <th>Count_Empty_String</th>\n",
       "    </tr>\n",
       "  </thead>\n",
       "  <tbody>\n",
       "    <tr>\n",
       "      <th>categ_1</th>\n",
       "      <td>125</td>\n",
       "      <td>0</td>\n",
       "    </tr>\n",
       "    <tr>\n",
       "      <th>categ_2</th>\n",
       "      <td>319</td>\n",
       "      <td>0</td>\n",
       "    </tr>\n",
       "    <tr>\n",
       "      <th>categ_3</th>\n",
       "      <td>3005</td>\n",
       "      <td>184</td>\n",
       "    </tr>\n",
       "    <tr>\n",
       "      <th>categ_4</th>\n",
       "      <td>2321</td>\n",
       "      <td>184</td>\n",
       "    </tr>\n",
       "    <tr>\n",
       "      <th>categ_5</th>\n",
       "      <td>42</td>\n",
       "      <td>0</td>\n",
       "    </tr>\n",
       "    <tr>\n",
       "      <th>categ_6</th>\n",
       "      <td>8</td>\n",
       "      <td>685</td>\n",
       "    </tr>\n",
       "    <tr>\n",
       "      <th>categ_7</th>\n",
       "      <td>2157</td>\n",
       "      <td>0</td>\n",
       "    </tr>\n",
       "    <tr>\n",
       "      <th>categ_8</th>\n",
       "      <td>67</td>\n",
       "      <td>0</td>\n",
       "    </tr>\n",
       "    <tr>\n",
       "      <th>categ_9</th>\n",
       "      <td>3</td>\n",
       "      <td>0</td>\n",
       "    </tr>\n",
       "    <tr>\n",
       "      <th>categ_10</th>\n",
       "      <td>1926</td>\n",
       "      <td>0</td>\n",
       "    </tr>\n",
       "    <tr>\n",
       "      <th>categ_11</th>\n",
       "      <td>1503</td>\n",
       "      <td>0</td>\n",
       "    </tr>\n",
       "    <tr>\n",
       "      <th>categ_12</th>\n",
       "      <td>2898</td>\n",
       "      <td>184</td>\n",
       "    </tr>\n",
       "    <tr>\n",
       "      <th>categ_13</th>\n",
       "      <td>1298</td>\n",
       "      <td>0</td>\n",
       "    </tr>\n",
       "    <tr>\n",
       "      <th>categ_14</th>\n",
       "      <td>24</td>\n",
       "      <td>0</td>\n",
       "    </tr>\n",
       "    <tr>\n",
       "      <th>categ_15</th>\n",
       "      <td>1449</td>\n",
       "      <td>0</td>\n",
       "    </tr>\n",
       "    <tr>\n",
       "      <th>categ_16</th>\n",
       "      <td>2638</td>\n",
       "      <td>184</td>\n",
       "    </tr>\n",
       "    <tr>\n",
       "      <th>categ_17</th>\n",
       "      <td>9</td>\n",
       "      <td>0</td>\n",
       "    </tr>\n",
       "    <tr>\n",
       "      <th>categ_18</th>\n",
       "      <td>857</td>\n",
       "      <td>0</td>\n",
       "    </tr>\n",
       "    <tr>\n",
       "      <th>categ_19</th>\n",
       "      <td>364</td>\n",
       "      <td>2184</td>\n",
       "    </tr>\n",
       "    <tr>\n",
       "      <th>categ_20</th>\n",
       "      <td>4</td>\n",
       "      <td>2184</td>\n",
       "    </tr>\n",
       "    <tr>\n",
       "      <th>categ_21</th>\n",
       "      <td>2788</td>\n",
       "      <td>184</td>\n",
       "    </tr>\n",
       "    <tr>\n",
       "      <th>categ_22</th>\n",
       "      <td>7</td>\n",
       "      <td>4118</td>\n",
       "    </tr>\n",
       "    <tr>\n",
       "      <th>categ_23</th>\n",
       "      <td>12</td>\n",
       "      <td>0</td>\n",
       "    </tr>\n",
       "    <tr>\n",
       "      <th>categ_24</th>\n",
       "      <td>1555</td>\n",
       "      <td>184</td>\n",
       "    </tr>\n",
       "    <tr>\n",
       "      <th>categ_25</th>\n",
       "      <td>37</td>\n",
       "      <td>2184</td>\n",
       "    </tr>\n",
       "    <tr>\n",
       "      <th>categ_26</th>\n",
       "      <td>1181</td>\n",
       "      <td>2184</td>\n",
       "    </tr>\n",
       "  </tbody>\n",
       "</table>"
      ],
      "text/plain": [
       "<IPython.core.display.HTML object>"
      ]
     },
     "metadata": {},
     "output_type": "display_data"
    }
   ],
   "source": [
    "f_display_stats_categ(fullWithColsDF, categColList)"
   ]
  },
  {
   "cell_type": "markdown",
   "metadata": {},
   "source": [
    "### 2.2) Lack of Correlation and Lack of Multicollinearity\n",
    "\n",
    "From the data collected, it appears there is weak correlation of the numerical columns with the target variable. Column int_10 has the highest correlation at 0.19. And columns int_5 and int_13 have the lowest negative correlation at 0.08. These numbers generally indicate weak correlation.\n",
    "\n",
    "From the correlation matrix, we can in general observe lack of notable multicollinearity of the columns with each other. The majority of the values are between 0.2 and 0.3. There are some values that are as high as 0.61 (between int_4 and int_13) and 0.69 (between int_7 and int_11). This is rather quite high and has a potential to bias the results. We will attempt to explore these in depth later. \n",
    "\n",
    "We also present a correlation matrix heatmap for better visualization. In summary, the dataset appears to not have multicollinearity and meets our condition for logistic regression."
   ]
  },
  {
   "cell_type": "code",
   "execution_count": 10,
   "metadata": {},
   "outputs": [
    {
     "name": "stdout",
     "output_type": "stream",
     "text": [
      "Correlation and Covariance w.r.t target field\n"
     ]
    },
    {
     "data": {
      "text/html": [
       "<table border=\"1\" class=\"dataframe\">\n",
       "  <thead>\n",
       "    <tr style=\"text-align: right;\">\n",
       "      <th></th>\n",
       "      <th>Corr</th>\n",
       "      <th>Cov</th>\n",
       "    </tr>\n",
       "  </thead>\n",
       "  <tbody>\n",
       "    <tr>\n",
       "      <th>int_1</th>\n",
       "      <td>0.115595</td>\n",
       "      <td>0.310665</td>\n",
       "    </tr>\n",
       "    <tr>\n",
       "      <th>int_2</th>\n",
       "      <td>0.062555</td>\n",
       "      <td>9.594206</td>\n",
       "    </tr>\n",
       "    <tr>\n",
       "      <th>int_3</th>\n",
       "      <td>0.029874</td>\n",
       "      <td>7.763339</td>\n",
       "    </tr>\n",
       "    <tr>\n",
       "      <th>int_4</th>\n",
       "      <td>-0.052081</td>\n",
       "      <td>-0.221176</td>\n",
       "    </tr>\n",
       "    <tr>\n",
       "      <th>int_5</th>\n",
       "      <td>-0.071702</td>\n",
       "      <td>-1836.468081</td>\n",
       "    </tr>\n",
       "    <tr>\n",
       "      <th>int_6</th>\n",
       "      <td>-0.059771</td>\n",
       "      <td>-8.578592</td>\n",
       "    </tr>\n",
       "    <tr>\n",
       "      <th>int_7</th>\n",
       "      <td>0.094489</td>\n",
       "      <td>2.132630</td>\n",
       "    </tr>\n",
       "    <tr>\n",
       "      <th>int_8</th>\n",
       "      <td>-0.045339</td>\n",
       "      <td>-0.326689</td>\n",
       "    </tr>\n",
       "    <tr>\n",
       "      <th>int_9</th>\n",
       "      <td>-0.000520</td>\n",
       "      <td>-0.062003</td>\n",
       "    </tr>\n",
       "    <tr>\n",
       "      <th>int_10</th>\n",
       "      <td>0.170370</td>\n",
       "      <td>0.040557</td>\n",
       "    </tr>\n",
       "    <tr>\n",
       "      <th>int_11</th>\n",
       "      <td>0.133531</td>\n",
       "      <td>0.276366</td>\n",
       "    </tr>\n",
       "    <tr>\n",
       "      <th>int_12</th>\n",
       "      <td>0.041622</td>\n",
       "      <td>0.032214</td>\n",
       "    </tr>\n",
       "    <tr>\n",
       "      <th>int_13</th>\n",
       "      <td>-0.093883</td>\n",
       "      <td>-0.699811</td>\n",
       "    </tr>\n",
       "  </tbody>\n",
       "</table>"
      ],
      "text/plain": [
       "<IPython.core.display.HTML object>"
      ]
     },
     "metadata": {},
     "output_type": "display_data"
    }
   ],
   "source": [
    "def f_display_corr(df, int_col_list):\n",
    "    \"\"\"\n",
    "    Calculates the correlation and covariance of a variable against the label\n",
    "    Arguments:\n",
    "        df         - dataframe on which we are calculating the metric.\n",
    "        inColList  - list of numeric column names for which we are calculating covariance and correlation.\n",
    "    Returns:\n",
    "        Displays the correlation and covariance as a HTML table.\n",
    "    \"\"\"\n",
    "    sampleDF=df.sample(seed=1, fraction=0.5, withReplacement=False)\n",
    "    stats_dict={}\n",
    "    for col in int_col_list:\n",
    "        corr = df.stat.corr('label',col)\n",
    "        cov = df.stat.cov('label',col)\n",
    "        stats_dict[col]={}\n",
    "        stats_dict[col][\"Corr\"]=corr\n",
    "        stats_dict[col][\"Cov\"]=cov\n",
    "    display(HTML(pd.DataFrame(stats_dict).T.to_html( )))\n",
    "\n",
    "print(\"Correlation and Covariance w.r.t target field\")\n",
    "f_display_corr(fullWithColsDF, intColList)"
   ]
  },
  {
   "cell_type": "code",
   "execution_count": 11,
   "metadata": {},
   "outputs": [
    {
     "name": "stdout",
     "output_type": "stream",
     "text": [
      "Correlation Matrix\n"
     ]
    },
    {
     "data": {
      "text/html": [
       "<div>\n",
       "<style scoped>\n",
       "    .dataframe tbody tr th:only-of-type {\n",
       "        vertical-align: middle;\n",
       "    }\n",
       "\n",
       "    .dataframe tbody tr th {\n",
       "        vertical-align: top;\n",
       "    }\n",
       "\n",
       "    .dataframe thead th {\n",
       "        text-align: right;\n",
       "    }\n",
       "</style>\n",
       "<table border=\"1\" class=\"dataframe\">\n",
       "  <thead>\n",
       "    <tr style=\"text-align: right;\">\n",
       "      <th></th>\n",
       "      <th>int_1</th>\n",
       "      <th>int_2</th>\n",
       "      <th>int_3</th>\n",
       "      <th>int_4</th>\n",
       "      <th>int_5</th>\n",
       "      <th>int_6</th>\n",
       "      <th>int_7</th>\n",
       "      <th>int_8</th>\n",
       "      <th>int_9</th>\n",
       "      <th>int_10</th>\n",
       "      <th>int_11</th>\n",
       "      <th>int_12</th>\n",
       "      <th>int_13</th>\n",
       "    </tr>\n",
       "  </thead>\n",
       "  <tbody>\n",
       "    <tr>\n",
       "      <th>int_1</th>\n",
       "      <td>1.000000</td>\n",
       "      <td>-0.000402</td>\n",
       "      <td>-0.001160</td>\n",
       "      <td>0.071628</td>\n",
       "      <td>-0.073303</td>\n",
       "      <td>-0.071603</td>\n",
       "      <td>0.378037</td>\n",
       "      <td>0.079664</td>\n",
       "      <td>0.047930</td>\n",
       "      <td>0.497464</td>\n",
       "      <td>0.281816</td>\n",
       "      <td>0.154993</td>\n",
       "      <td>-0.008723</td>\n",
       "    </tr>\n",
       "    <tr>\n",
       "      <th>int_2</th>\n",
       "      <td>-0.000402</td>\n",
       "      <td>1.000000</td>\n",
       "      <td>-0.012118</td>\n",
       "      <td>-0.089464</td>\n",
       "      <td>-0.016807</td>\n",
       "      <td>-0.010256</td>\n",
       "      <td>0.003797</td>\n",
       "      <td>-0.043897</td>\n",
       "      <td>-0.009975</td>\n",
       "      <td>0.021188</td>\n",
       "      <td>0.010350</td>\n",
       "      <td>0.000513</td>\n",
       "      <td>-0.044386</td>\n",
       "    </tr>\n",
       "    <tr>\n",
       "      <th>int_3</th>\n",
       "      <td>-0.001160</td>\n",
       "      <td>-0.012118</td>\n",
       "      <td>1.000000</td>\n",
       "      <td>0.008172</td>\n",
       "      <td>-0.007436</td>\n",
       "      <td>0.071333</td>\n",
       "      <td>-0.003538</td>\n",
       "      <td>0.030422</td>\n",
       "      <td>0.015030</td>\n",
       "      <td>-0.003090</td>\n",
       "      <td>-0.004131</td>\n",
       "      <td>-0.004052</td>\n",
       "      <td>0.014616</td>\n",
       "    </tr>\n",
       "    <tr>\n",
       "      <th>int_4</th>\n",
       "      <td>0.071628</td>\n",
       "      <td>-0.089464</td>\n",
       "      <td>0.008172</td>\n",
       "      <td>1.000000</td>\n",
       "      <td>-0.070036</td>\n",
       "      <td>0.033587</td>\n",
       "      <td>0.037747</td>\n",
       "      <td>0.461343</td>\n",
       "      <td>0.180219</td>\n",
       "      <td>0.145070</td>\n",
       "      <td>0.057538</td>\n",
       "      <td>0.018132</td>\n",
       "      <td>0.701054</td>\n",
       "    </tr>\n",
       "    <tr>\n",
       "      <th>int_5</th>\n",
       "      <td>-0.073303</td>\n",
       "      <td>-0.016807</td>\n",
       "      <td>-0.007436</td>\n",
       "      <td>-0.070036</td>\n",
       "      <td>1.000000</td>\n",
       "      <td>0.026933</td>\n",
       "      <td>-0.062960</td>\n",
       "      <td>-0.095868</td>\n",
       "      <td>-0.057149</td>\n",
       "      <td>-0.150072</td>\n",
       "      <td>-0.108631</td>\n",
       "      <td>-0.030179</td>\n",
       "      <td>-0.053952</td>\n",
       "    </tr>\n",
       "    <tr>\n",
       "      <th>int_6</th>\n",
       "      <td>-0.071603</td>\n",
       "      <td>-0.010256</td>\n",
       "      <td>0.071333</td>\n",
       "      <td>0.033587</td>\n",
       "      <td>0.026933</td>\n",
       "      <td>1.000000</td>\n",
       "      <td>-0.035257</td>\n",
       "      <td>0.029631</td>\n",
       "      <td>0.257769</td>\n",
       "      <td>-0.141169</td>\n",
       "      <td>-0.038785</td>\n",
       "      <td>-0.022395</td>\n",
       "      <td>0.098721</td>\n",
       "    </tr>\n",
       "    <tr>\n",
       "      <th>int_7</th>\n",
       "      <td>0.378037</td>\n",
       "      <td>0.003797</td>\n",
       "      <td>-0.003538</td>\n",
       "      <td>0.037747</td>\n",
       "      <td>-0.062960</td>\n",
       "      <td>-0.035257</td>\n",
       "      <td>1.000000</td>\n",
       "      <td>0.085410</td>\n",
       "      <td>0.256075</td>\n",
       "      <td>0.286143</td>\n",
       "      <td>0.777322</td>\n",
       "      <td>0.181803</td>\n",
       "      <td>-0.000903</td>\n",
       "    </tr>\n",
       "    <tr>\n",
       "      <th>int_8</th>\n",
       "      <td>0.079664</td>\n",
       "      <td>-0.043897</td>\n",
       "      <td>0.030422</td>\n",
       "      <td>0.461343</td>\n",
       "      <td>-0.095868</td>\n",
       "      <td>0.029631</td>\n",
       "      <td>0.085410</td>\n",
       "      <td>1.000000</td>\n",
       "      <td>0.143340</td>\n",
       "      <td>0.132901</td>\n",
       "      <td>0.127306</td>\n",
       "      <td>0.043214</td>\n",
       "      <td>0.540063</td>\n",
       "    </tr>\n",
       "    <tr>\n",
       "      <th>int_9</th>\n",
       "      <td>0.047930</td>\n",
       "      <td>-0.009975</td>\n",
       "      <td>0.015030</td>\n",
       "      <td>0.180219</td>\n",
       "      <td>-0.057149</td>\n",
       "      <td>0.257769</td>\n",
       "      <td>0.256075</td>\n",
       "      <td>0.143340</td>\n",
       "      <td>1.000000</td>\n",
       "      <td>0.063675</td>\n",
       "      <td>0.381924</td>\n",
       "      <td>0.102213</td>\n",
       "      <td>0.257757</td>\n",
       "    </tr>\n",
       "    <tr>\n",
       "      <th>int_10</th>\n",
       "      <td>0.497464</td>\n",
       "      <td>0.021188</td>\n",
       "      <td>-0.003090</td>\n",
       "      <td>0.145070</td>\n",
       "      <td>-0.150072</td>\n",
       "      <td>-0.141169</td>\n",
       "      <td>0.286143</td>\n",
       "      <td>0.132901</td>\n",
       "      <td>0.063675</td>\n",
       "      <td>1.000000</td>\n",
       "      <td>0.398766</td>\n",
       "      <td>0.140599</td>\n",
       "      <td>0.022669</td>\n",
       "    </tr>\n",
       "    <tr>\n",
       "      <th>int_11</th>\n",
       "      <td>0.281816</td>\n",
       "      <td>0.010350</td>\n",
       "      <td>-0.004131</td>\n",
       "      <td>0.057538</td>\n",
       "      <td>-0.108631</td>\n",
       "      <td>-0.038785</td>\n",
       "      <td>0.777322</td>\n",
       "      <td>0.127306</td>\n",
       "      <td>0.381924</td>\n",
       "      <td>0.398766</td>\n",
       "      <td>1.000000</td>\n",
       "      <td>0.157827</td>\n",
       "      <td>0.005208</td>\n",
       "    </tr>\n",
       "    <tr>\n",
       "      <th>int_12</th>\n",
       "      <td>0.154993</td>\n",
       "      <td>0.000513</td>\n",
       "      <td>-0.004052</td>\n",
       "      <td>0.018132</td>\n",
       "      <td>-0.030179</td>\n",
       "      <td>-0.022395</td>\n",
       "      <td>0.181803</td>\n",
       "      <td>0.043214</td>\n",
       "      <td>0.102213</td>\n",
       "      <td>0.140599</td>\n",
       "      <td>0.157827</td>\n",
       "      <td>1.000000</td>\n",
       "      <td>0.026481</td>\n",
       "    </tr>\n",
       "    <tr>\n",
       "      <th>int_13</th>\n",
       "      <td>-0.008723</td>\n",
       "      <td>-0.044386</td>\n",
       "      <td>0.014616</td>\n",
       "      <td>0.701054</td>\n",
       "      <td>-0.053952</td>\n",
       "      <td>0.098721</td>\n",
       "      <td>-0.000903</td>\n",
       "      <td>0.540063</td>\n",
       "      <td>0.257757</td>\n",
       "      <td>0.022669</td>\n",
       "      <td>0.005208</td>\n",
       "      <td>0.026481</td>\n",
       "      <td>1.000000</td>\n",
       "    </tr>\n",
       "  </tbody>\n",
       "</table>\n",
       "</div>"
      ],
      "text/plain": [
       "           int_1     int_2     int_3     int_4     int_5     int_6     int_7  \\\n",
       "int_1   1.000000 -0.000402 -0.001160  0.071628 -0.073303 -0.071603  0.378037   \n",
       "int_2  -0.000402  1.000000 -0.012118 -0.089464 -0.016807 -0.010256  0.003797   \n",
       "int_3  -0.001160 -0.012118  1.000000  0.008172 -0.007436  0.071333 -0.003538   \n",
       "int_4   0.071628 -0.089464  0.008172  1.000000 -0.070036  0.033587  0.037747   \n",
       "int_5  -0.073303 -0.016807 -0.007436 -0.070036  1.000000  0.026933 -0.062960   \n",
       "int_6  -0.071603 -0.010256  0.071333  0.033587  0.026933  1.000000 -0.035257   \n",
       "int_7   0.378037  0.003797 -0.003538  0.037747 -0.062960 -0.035257  1.000000   \n",
       "int_8   0.079664 -0.043897  0.030422  0.461343 -0.095868  0.029631  0.085410   \n",
       "int_9   0.047930 -0.009975  0.015030  0.180219 -0.057149  0.257769  0.256075   \n",
       "int_10  0.497464  0.021188 -0.003090  0.145070 -0.150072 -0.141169  0.286143   \n",
       "int_11  0.281816  0.010350 -0.004131  0.057538 -0.108631 -0.038785  0.777322   \n",
       "int_12  0.154993  0.000513 -0.004052  0.018132 -0.030179 -0.022395  0.181803   \n",
       "int_13 -0.008723 -0.044386  0.014616  0.701054 -0.053952  0.098721 -0.000903   \n",
       "\n",
       "           int_8     int_9    int_10    int_11    int_12    int_13  \n",
       "int_1   0.079664  0.047930  0.497464  0.281816  0.154993 -0.008723  \n",
       "int_2  -0.043897 -0.009975  0.021188  0.010350  0.000513 -0.044386  \n",
       "int_3   0.030422  0.015030 -0.003090 -0.004131 -0.004052  0.014616  \n",
       "int_4   0.461343  0.180219  0.145070  0.057538  0.018132  0.701054  \n",
       "int_5  -0.095868 -0.057149 -0.150072 -0.108631 -0.030179 -0.053952  \n",
       "int_6   0.029631  0.257769 -0.141169 -0.038785 -0.022395  0.098721  \n",
       "int_7   0.085410  0.256075  0.286143  0.777322  0.181803 -0.000903  \n",
       "int_8   1.000000  0.143340  0.132901  0.127306  0.043214  0.540063  \n",
       "int_9   0.143340  1.000000  0.063675  0.381924  0.102213  0.257757  \n",
       "int_10  0.132901  0.063675  1.000000  0.398766  0.140599  0.022669  \n",
       "int_11  0.127306  0.381924  0.398766  1.000000  0.157827  0.005208  \n",
       "int_12  0.043214  0.102213  0.140599  0.157827  1.000000  0.026481  \n",
       "int_13  0.540063  0.257757  0.022669  0.005208  0.026481  1.000000  "
      ]
     },
     "execution_count": 11,
     "metadata": {},
     "output_type": "execute_result"
    }
   ],
   "source": [
    "# Select only numerical columns\n",
    "fullWithColsDF_int = fullWithColsDF.select(intColList)\n",
    "correlation_df = fullWithColsDF_int.na.fill(0)\n",
    "\n",
    "# Convert to vector column first\n",
    "vector_col = \"corr_features\"\n",
    "assembler = VectorAssembler(inputCols=correlation_df.columns, outputCol=vector_col)\n",
    "df_vector = assembler.transform(correlation_df).select(vector_col)\n",
    "\n",
    "# Get correlation matrix\n",
    "matrix = Correlation.corr(df_vector, vector_col)\n",
    "\n",
    "correlation_matrix = pd.DataFrame(matrix.collect()[0][\"pearson({})\".format(vector_col)].values)\n",
    "correlation_matrix = correlation_matrix.values.reshape(13, 13)\n",
    "correlation_matrix = pd.DataFrame(correlation_matrix, columns = intColList, index = intColList)\n",
    "print(\"Correlation Matrix\")\n",
    "correlation_matrix"
   ]
  },
  {
   "cell_type": "code",
   "execution_count": 12,
   "metadata": {},
   "outputs": [
    {
     "data": {
      "image/png": "[encoded data removed]",
      "text/plain": [
       "<Figure size 792x648 with 2 Axes>"
      ]
     },
     "metadata": {
      "needs_background": "light"
     },
     "output_type": "display_data"
    }
   ],
   "source": [
    "# Heatmap for correlations matrix\n",
    "fig, ax = plt.subplots(figsize=(11, 9))\n",
    "mask = np.zeros_like(correlation_matrix, dtype=np.bool)\n",
    "mask[np.triu_indices_from(mask)] = True\n",
    "cmap = sns.diverging_palette(240, 10, as_cmap=True)\n",
    "sns.heatmap(correlation_matrix, mask=mask, cmap=cmap, center=0, linewidths=.5)\n",
    "plt.title(\"Correlation Matrix.\")\n",
    "plt.show()"
   ]
  },
  {
   "cell_type": "markdown",
   "metadata": {},
   "source": [
    "### 2.3) Histograms\n",
    "\n",
    "Below we show several histograms of the numerical columns. We will work with a limited subset of data due to inefficiencies with Spark graph plotting.\n",
    "\n",
    "Most of the columns have large number of 0 values. There is right skewness in the distribution likely due to this fact as well. We also observe many outliers, which in turn affect could affect our algorithm (by lowering the predictive power)."
   ]
  },
  {
   "cell_type": "code",
   "execution_count": 13,
   "metadata": {},
   "outputs": [
    {
     "data": {
      "text/plain": [
       "549"
      ]
     },
     "execution_count": 13,
     "metadata": {},
     "output_type": "execute_result"
    }
   ],
   "source": [
    "sample_df = fullWithColsDF.sample(False, fraction=0.1, seed = 1)\n",
    "sample_df.cache()\n",
    "sample_df.count()"
   ]
  },
  {
   "cell_type": "code",
   "execution_count": 14,
   "metadata": {},
   "outputs": [
    {
     "data": {
      "text/plain": [
       "array([[<matplotlib.axes._subplots.AxesSubplot object at 0x7f8611d827d0>,\n",
       "        <matplotlib.axes._subplots.AxesSubplot object at 0x7f8611e91c90>,\n",
       "        <matplotlib.axes._subplots.AxesSubplot object at 0x7f8611f26350>,\n",
       "        <matplotlib.axes._subplots.AxesSubplot object at 0x7f8611f5c9d0>],\n",
       "       [<matplotlib.axes._subplots.AxesSubplot object at 0x7f8611f87b90>,\n",
       "        <matplotlib.axes._subplots.AxesSubplot object at 0x7f8611fd5710>,\n",
       "        <matplotlib.axes._subplots.AxesSubplot object at 0x7f8612009e10>,\n",
       "        <matplotlib.axes._subplots.AxesSubplot object at 0x7f861204d410>],\n",
       "       [<matplotlib.axes._subplots.AxesSubplot object at 0x7f861204d450>,\n",
       "        <matplotlib.axes._subplots.AxesSubplot object at 0x7f8612081bd0>,\n",
       "        <matplotlib.axes._subplots.AxesSubplot object at 0x7f86120fb810>,\n",
       "        <matplotlib.axes._subplots.AxesSubplot object at 0x7f861212fe90>],\n",
       "       [<matplotlib.axes._subplots.AxesSubplot object at 0x7f8612172550>,\n",
       "        <matplotlib.axes._subplots.AxesSubplot object at 0x7f86121a8bd0>,\n",
       "        <matplotlib.axes._subplots.AxesSubplot object at 0x7f86121eb290>,\n",
       "        <matplotlib.axes._subplots.AxesSubplot object at 0x7f8612220910>]],\n",
       "      dtype=object)"
      ]
     },
     "execution_count": 14,
     "metadata": {},
     "output_type": "execute_result"
    },
    {
     "data": {
      "image/png": "[encoded data removed]",
      "text/plain": [
       "<Figure size 1080x1080 with 16 Axes>"
      ]
     },
     "metadata": {
      "needs_background": "light"
     },
     "output_type": "display_data"
    }
   ],
   "source": [
    "#Convert to Pandas DataFrame\n",
    "pd_sample_df = sample_df.toPandas()\n",
    "pd_sample_df.hist(figsize = (15, 15), bins = 25)"
   ]
  },
  {
   "cell_type": "markdown",
   "metadata": {},
   "source": [
    "### 2.4) Graphs of Logit function\n",
    "\n",
    "We have one more assumption of logistic regression to test - that there is a linear relationship between the logit of the outcome and each predictor variable.  Again, the logit function is $logit(p) = log(p/(1-p))$ where p is the probability of the outcome.\n",
    "\n",
    "To save space, below we only plot the relationship between the logit of the outcome and the predictor variable \"int_1\".  However, this and the other numerical variables all show that this relationshp is linear.  For \"int_1\", this can be seen by the characteristic \"S\" shaped of the curve that has been generated by the sigmoid function.\n",
    "\n",
    "Thus, our final assumption needed for logstic regression has been met, and we can move on to implementation of the algrorithm."
   ]
  },
  {
   "cell_type": "code",
   "execution_count": 15,
   "metadata": {},
   "outputs": [
    {
     "data": {
      "image/png": "[encoded data removed]",
      "text/plain": [
       "<Figure size 432x288 with 1 Axes>"
      ]
     },
     "metadata": {
      "needs_background": "light"
     },
     "output_type": "display_data"
    }
   ],
   "source": [
    "import warnings\n",
    "warnings.filterwarnings('ignore')\n",
    "log_plot_1 = sns.regplot(x = 'int_1', y = 'label', data= pd_sample_df, logistic= True).\\\n",
    "                set_title(\"Logit of Outcome vs. Predictor Variable\")"
   ]
  },
  {
   "cell_type": "markdown",
   "metadata": {},
   "source": [
    "## 3) Algorithm Explanation - With Toy Example"
   ]
  },
  {
   "cell_type": "markdown",
   "metadata": {},
   "source": [
    "As we have shown that we have met all the assumptions for logistic regression, we will proceed to use it for our Click Through Rate prediction task.\n",
    "\n",
    "Before we perform the prediction on the Criteo dataset, we will begin by explaining the methodology behind how to apply linear regression to a toy (small and artifical) dataset that has a binary target variable and a mix of numerical and categorical columns. "
   ]
  },
  {
   "cell_type": "markdown",
   "metadata": {},
   "source": [
    "### 3.1) The \"Toy\" Dataset\n",
    "\n",
    "In order to test our data processing code and overall analysis methodology, we created a \"toy\" dataset consisting of 40 rows of data, with a label column, 4 integer feature columns, and 4 categorical feature columns.\n",
    "\n",
    "Each row in the toy dataset contains information about an individual person.  The  dataset's output variable, `income_over_80k`, denotes whether an individual's income exceeds $80,000 per year.  All the variables in the toy dataset are described below:\n",
    "\n",
    "- income_over_80k: 0 if income is less than 80,000 dollars per year, 1 if greater than 80,000 dollars per year.\n",
    "- house_sqft: (Integer) The square footage of the individual's home\n",
    "- letters_in_middle_name: (Integer) The number of letters in the individual's middle name.\n",
    "- birth_minutes_after_midnight: (Integer) The number of minutes after midnight at which an individual was born (e.g., 9:30AM = 570 minutes after midnight).\n",
    "- largest_tv_diagonal: (Integer) The diagonal length in inches of the largest television owned by the individual.\n",
    "- car_continent: (Categorical) The continent on which the individual's primary car was manufactured (america, asia, or europe).\n",
    "- own_or_rent: (Categorical) Denotes whether the individual owns or rents their home. (own or rent)\n",
    "- ice_cream: (Categorical) Denotes an individual's preferred flavor of ice cream from the choices chocolate, strawberry, or vanilla.\n",
    "- chicken_wings: (Categorical) Denotes an individual's preferred spice level of chicken wings (mild, medium, or hot). \n",
    "\n",
    "The dataset was constructed in a manner such that there are correlations between some of the variables and the likelihood of having an income more than $80,000.  Some variables were constructed to have no correlation, and an error component was used when building the labels for the data, to ensure no perfect models could be generated."
   ]
  },
  {
   "cell_type": "code",
   "execution_count": 16,
   "metadata": {},
   "outputs": [
    {
     "data": {
      "text/html": [
       "<div>\n",
       "<style scoped>\n",
       "    .dataframe tbody tr th:only-of-type {\n",
       "        vertical-align: middle;\n",
       "    }\n",
       "\n",
       "    .dataframe tbody tr th {\n",
       "        vertical-align: top;\n",
       "    }\n",
       "\n",
       "    .dataframe thead th {\n",
       "        text-align: right;\n",
       "    }\n",
       "</style>\n",
       "<table border=\"1\" class=\"dataframe\">\n",
       "  <thead>\n",
       "    <tr style=\"text-align: right;\">\n",
       "      <th></th>\n",
       "      <th>income_over_80k</th>\n",
       "      <th>house_sqft</th>\n",
       "      <th>letters_in_middle_name</th>\n",
       "      <th>birth_minutes_after_midnight</th>\n",
       "      <th>largest_tv_diagonal</th>\n",
       "      <th>car_continent</th>\n",
       "      <th>own_or_rent</th>\n",
       "      <th>ice_cream</th>\n",
       "      <th>chicken_wings</th>\n",
       "    </tr>\n",
       "  </thead>\n",
       "  <tbody>\n",
       "    <tr>\n",
       "      <th>0</th>\n",
       "      <td>0</td>\n",
       "      <td>1540</td>\n",
       "      <td>4</td>\n",
       "      <td>400</td>\n",
       "      <td>47</td>\n",
       "      <td>america</td>\n",
       "      <td>own</td>\n",
       "      <td>vanilla</td>\n",
       "      <td>hot</td>\n",
       "    </tr>\n",
       "    <tr>\n",
       "      <th>1</th>\n",
       "      <td>0</td>\n",
       "      <td>2480</td>\n",
       "      <td>12</td>\n",
       "      <td>335</td>\n",
       "      <td>76</td>\n",
       "      <td>america</td>\n",
       "      <td>rent</td>\n",
       "      <td>chocolate</td>\n",
       "      <td>hot</td>\n",
       "    </tr>\n",
       "    <tr>\n",
       "      <th>2</th>\n",
       "      <td>0</td>\n",
       "      <td>1544</td>\n",
       "      <td>5</td>\n",
       "      <td>297</td>\n",
       "      <td>36</td>\n",
       "      <td>asia</td>\n",
       "      <td>own</td>\n",
       "      <td>chocolate</td>\n",
       "      <td>hot</td>\n",
       "    </tr>\n",
       "  </tbody>\n",
       "</table>\n",
       "</div>"
      ],
      "text/plain": [
       "   income_over_80k  house_sqft  letters_in_middle_name  \\\n",
       "0                0        1540                       4   \n",
       "1                0        2480                      12   \n",
       "2                0        1544                       5   \n",
       "\n",
       "   birth_minutes_after_midnight  largest_tv_diagonal car_continent  \\\n",
       "0                           400                   47       america   \n",
       "1                           335                   76       america   \n",
       "2                           297                   36          asia   \n",
       "\n",
       "  own_or_rent  ice_cream chicken_wings  \n",
       "0         own    vanilla           hot  \n",
       "1        rent  chocolate           hot  \n",
       "2         own  chocolate           hot  "
      ]
     },
     "execution_count": 16,
     "metadata": {},
     "output_type": "execute_result"
    }
   ],
   "source": [
    "# read in the toy dataset\n",
    "toy_pddf=pd.read_csv('data/toy_dataset_predicting_income_over_80k_LABEL_INT_CAT.csv')\n",
    "toy_pddf.head(3)"
   ]
  },
  {
   "cell_type": "code",
   "execution_count": 17,
   "metadata": {},
   "outputs": [
    {
     "data": {
      "text/plain": [
       "['0\\t1540\\t4\\t400\\t47\\tamerica\\town\\tvanilla\\thot',\n",
       " '0\\t2480\\t12\\t335\\t76\\tamerica\\trent\\tchocolate\\thot',\n",
       " '0\\t1544\\t5\\t297\\t36\\tasia\\town\\tchocolate\\thot',\n",
       " '1\\t3060\\t3\\t282\\t35\\tamerica\\town\\tvanilla\\thot']"
      ]
     },
     "execution_count": 17,
     "metadata": {},
     "output_type": "execute_result"
    }
   ],
   "source": [
    "# Write a tsv to make a file in the same format as the input real data\n",
    "toy_pddf.to_csv('data/toydata.txt', sep='\\t', header=False, index=False)\n",
    "# Create an RDD\n",
    "toyRDD = sc.textFile('data/toydata.txt')\n",
    "# Verify the toyRDD is in the same TSV format as real data.\n",
    "toyRDD.take(4)"
   ]
  },
  {
   "cell_type": "code",
   "execution_count": 18,
   "metadata": {},
   "outputs": [
    {
     "data": {
      "text/plain": [
       "['0\\t1540\\t4\\t400\\t47\\t\\town\\tvanilla\\thot',\n",
       " '0\\t2480\\t12\\t335\\t76\\tamerica\\trent\\tchocolate\\thot',\n",
       " '0\\t1544\\t5\\t297\\t36\\tasia\\town\\tchocolate\\thot',\n",
       " '1\\t3060\\t3\\t282\\t35\\tamerica\\town\\tvanilla\\thot',\n",
       " '0\\t3437\\t11\\t775\\t64\\tamerica\\trent\\tvanilla\\tmild',\n",
       " '0\\t\\t6\\t605\\t62\\tamerica\\town\\tchocolate\\thot',\n",
       " '0\\t1473\\t9\\t734\\t28\\tasia\\town\\tvanilla\\tmedium']"
      ]
     },
     "execution_count": 18,
     "metadata": {},
     "output_type": "execute_result"
    }
   ],
   "source": [
    "# Create an RDD\n",
    "toyRDD = sc.textFile('data/toydata_missing.txt')\n",
    "# Verify the toyRDD is in the same TSV format as real data.\n",
    "toyRDD.take(7)"
   ]
  },
  {
   "cell_type": "code",
   "execution_count": 19,
   "metadata": {},
   "outputs": [],
   "source": [
    "# Helper function to split a line of data into the appropriately typed variablces\n",
    "\n",
    "def split_data(line, n_ordinal_cols=13):\n",
    "    \"\"\"\n",
    "    input format: \"label \\t <ordinal_cols> \\t <categorical_cols>\"\n",
    "    line arrives as a string.\n",
    "    Split a line of raw data into a list.\n",
    "    label is first element.  The next <n_ordinal_cols> are ints,\n",
    "    all others after that are categorical.\n",
    "    \"\"\"\n",
    "    data = line.split('\\t')\n",
    "    result = [int(data[0])]\n",
    "    # Note that leaving the ord column values as empty means we can later use an Imputer to replace them\n",
    "    result.extend([ord for ord in data[1:n_ordinal_cols+1]])\n",
    "    result.extend([cat if cat !='' else 'UNSPECIFIED' for cat in data[n_ordinal_cols+1:]])\n",
    "    \n",
    "    return result"
   ]
  },
  {
   "cell_type": "code",
   "execution_count": 20,
   "metadata": {},
   "outputs": [],
   "source": [
    "# Deal with missing values in numeric columns, replacing them with the mean value for the variable in question\n",
    "\n",
    "from pyspark.ml.feature import Imputer\n",
    "\n",
    "def data_imputer(dataRDD, first_ind_col, num_ind_cols):\n",
    "    \"\"\" Replace all empty/missing numaric values with the mean value across all records. \"\"\"\n",
    "    df = dataRDD.toDF()\n",
    "\n",
    "    col_names = []\n",
    "    # Iterate through  the numeric columns positions, casting each as a FloatType\n",
    "    for colind in range(first_ind_col, first_ind_col+num_ind_cols):\n",
    "        colname = '_'+str(colind+1)\n",
    "        col_names.append(colname)\n",
    "        df = df.withColumn(colname, df[colname].cast(types.FloatType()))\n",
    "\n",
    "    # Build an imputer that will process all numeric columns as input and output, replacing them\n",
    "    imputer = Imputer(\n",
    "        inputCols=col_names,\n",
    "        outputCols=col_names\n",
    "    )\n",
    "    df = imputer.fit(df).transform(df)\n",
    "    return df.rdd.cache()\n"
   ]
  },
  {
   "cell_type": "code",
   "execution_count": 21,
   "metadata": {},
   "outputs": [
    {
     "name": "stdout",
     "output_type": "stream",
     "text": [
      "Toy Parsed data:\n",
      "[0, '1540', '4', '400', '47', 'UNSPECIFIED', 'own', 'vanilla', 'hot']\n",
      "[0, '2480', '12', '335', '76', 'america', 'rent', 'chocolate', 'hot']\n",
      "[0, '1544', '5', '297', '36', 'asia', 'own', 'chocolate', 'hot']\n",
      "[1, '3060', '3', '282', '35', 'america', 'own', 'vanilla', 'hot']\n",
      "[0, '3437', '11', '775', '64', 'america', 'rent', 'vanilla', 'mild']\n",
      "[0, '', '6', '605', '62', 'america', 'own', 'chocolate', 'hot']\n",
      "[0, '1473', '9', '734', '28', 'asia', 'own', 'vanilla', 'medium']\n",
      "[0, '2132', '6', '392', '17', 'asia', 'own', 'chocolate', 'medium']\n",
      "[0, '1721', '9', '651', '58', 'asia', 'rent', 'vanilla', 'mild']\n"
     ]
    }
   ],
   "source": [
    "# Parse the raw toyRDD\n",
    "toy_parsedRDD = toyRDD.map(lambda line: split_data(line, n_ordinal_cols=4))\n",
    "\n",
    "print(\"Toy Parsed data:\")\n",
    "for item in toy_parsedRDD.take(9):\n",
    "    print(f\"{item}\")"
   ]
  },
  {
   "cell_type": "markdown",
   "metadata": {},
   "source": [
    "### 3.2) One-Hot Encoding\n",
    "\n",
    "To account for the categorical columns in our dataset, we will use one-hot encoding (OHE). One-hot encoding is used to represent categorical variables as binary values. One-hot encoding is necessary as machine learning algorithms, including regression, cannot directly work with categorical data. When implementing one-hot encoding, every label that is observed for a category is used to create additional columns. Any time one of these labels is observed for a record, a “1” will be entered into the corresponding column. If a label is not observed for a record, a “0” will be entered into the corresponding column.\n",
    "\n",
    "For example, in the toy dataset, the `ice_cream` column takes on one of three values--'chocolate','strawberry', or 'vanilla'.  To one-hot-encode the `ice_cream` column, a new columns for all but the unique flavors of ice cream are created (e.g., `ice_cream_chocolate`, `ice_cream_strawberry`, and `ice_cream_vanilla`).\n",
    "\n",
    "One important thing to note is that we will be creating a sparse matrix representation with one-hot encoding. This will be important for scalability and memory utilization concerns. Sparse matrices and vectors are most useful when a large number of values in a dataset are 0. As shown in our EDA, the Criteo dataset contains a large proporion of values that are 0, thus making it ideal for sparse representation. Sparse representation often runs much faster than dense representation, which is important for large datasets such as the Criteo dataset.\n",
    "\n",
    "**Citation**: We have developed our OHE functions below based on the databricks article, *Click-Through Rate Prediction Lab* (https://datascience-enthusiast.com/Python/cs120_lab3_ctr_df_celloutput.html).  In the article, one hot encoding is performed on a dataset consisting strictly of categorical features.  We have made significant modifications to the code to implement one hot encoding on mixed-type datasets, and in so doing, we have learned quite a bit about one hot coding implementation.\n",
    "\n",
    "The `one_hot_encoding` function below takes a set of raw features and generates a sparse vector feature list with one-hot-encoded columns.  Numeric features are kept in their original form.  This function is not called directly, but is called by a generator function shown next."
   ]
  },
  {
   "cell_type": "code",
   "execution_count": 22,
   "metadata": {},
   "outputs": [],
   "source": [
    "def one_hot_encoding(raw_feats, ohe_dict_broadcast, num_ohe_feats, first_categorical_column_index, use_old_version=False):\n",
    "    \n",
    "    \"\"\"Function to produce a one-hot-encoding from a list of features and an OHE dictionary    \n",
    "    Args:\n",
    "        raw_feats (list of (int, str)): The features corresponding to a single observation.  Each\n",
    "            feature consists of a tuple of featureID and the feature's value. (e.g. sample_one)\n",
    "        ohe_dict_broadcast (Broadcast of dict): Broadcast variable containing a dict that maps\n",
    "            (featureID, value) to unique integer.\n",
    "        num_ohe_feats (int): The total number of unique OHE features (combinations of featureID and\n",
    "            value).\n",
    "        first_categorical_column_index (JIM) (int): the column index within the features list\n",
    "        corresponding to the first categorical feature.\n",
    "    Returns:\n",
    "        SparseVector: A SparseVector of length num_ohe_feats with indices equal to the unique\n",
    "            identifiers for the (featureID, value) combinations that occur in the observation and\n",
    "            with values equal to 1.0.\n",
    "    \"\"\"\n",
    "    # Vector created:\n",
    "    # - total number of features (int + cat)\n",
    "    # - [ (field number, value) ]  (one tuple per numeric col and one tuple per one hot encoded categorical col)\n",
    "\n",
    "    if use_old_version:\n",
    "        retObj = SparseVector(num_ohe_feats, [(ohe_dict_broadcast.value[ftrTpl], 1.) for ftrTpl in raw_feats])\n",
    "    else:\n",
    "        # Debug addition: only add item to sparsevector if the discovered ftrTpl is in ohe_dict_broadcast set of keys\n",
    "        retObj = SparseVector(first_categorical_column_index+num_ohe_feats,\n",
    "                          raw_feats[:first_categorical_column_index] \\\n",
    "                          +[(ohe_dict_broadcast.value[ftrTpl], 1.) \\\n",
    "                            for ftrTpl in raw_feats[first_categorical_column_index:] if ftrTpl in ohe_dict_broadcast.value]\n",
    "                         )\n",
    "\n",
    "    return retObj"
   ]
  },
  {
   "cell_type": "markdown",
   "metadata": {},
   "source": [
    "The `ohe_udf_generator` function below generates a user-defined function (UDF) which operates on a row of a dataframe. The generator function takes a one-hot-encoding dictionary as its input, which will be shown later."
   ]
  },
  {
   "cell_type": "code",
   "execution_count": 23,
   "metadata": {},
   "outputs": [],
   "source": [
    "from pyspark.sql.functions import udf\n",
    "#from pyspark.mllib.linalg import VectorUDT\n",
    "\n",
    "# Added first_categorical_column_index to this generator, because we must\n",
    "# define it in the one_hot_encoding function.\n",
    "def ohe_udf_generator(ohe_dict_broadcast, first_categorical_column_index, use_old_version=False):\n",
    "    \"\"\"Generate a UDF that is setup to one-hot-encode rows with the given dictionary.\n",
    "    Args:\n",
    "        ohe_dict_broadcast (Broadcast of dict): Broadcast variable containing a dict that maps\n",
    "            (featureID, value) to unique integer.\n",
    "        first_categorical_column_index (JIM) (int): the index of the first categorical column\n",
    "        in the features list.\n",
    "    Returns:\n",
    "        UserDefinedFunction: A UDF can be used in `DataFrame` `select` statement to call a\n",
    "            function on each row in a given column.  This UDF should call the one_hot_encoding\n",
    "            function with the appropriate parameters.\n",
    "    \"\"\"\n",
    "    length = len(ohe_dict_broadcast.value.keys())\n",
    "    return udf(lambda x: one_hot_encoding(raw_feats=x,\n",
    "                                          ohe_dict_broadcast=ohe_dict_broadcast,\n",
    "                                          num_ohe_feats=length,\n",
    "                                          first_categorical_column_index=first_categorical_column_index,\n",
    "                                          use_old_version=use_old_version), VectorUDT())"
   ]
  },
  {
   "cell_type": "markdown",
   "metadata": {},
   "source": [
    "The `createOneHotDict` function below takes an RDD and categorical column index list as input and  returns a dictionary with the following format:\n",
    "- key: tuple of feature number and a unique string value\n",
    "- value: a unique integer index which holds the index value in the sparse feature vector that holds the one-hot-encoded indicator variable value for the given feature and value.  Using the OHE information for `chicken_wings`, we see the following dictionary entries: `(7, 'hot'): 12, (7, 'medium'): 13, (7, 'mild'): 14`.  Notice all three tuples have 7 as their first element.  This is because `chicken_wings` is column 7 in the features list.  the values 12, 13, and 14 indicate that in the OHE sparse feature vector, indeces 12, 13, and 14 correspond to 'hot', 'medium', and 'mild', respectively."
   ]
  },
  {
   "cell_type": "code",
   "execution_count": 24,
   "metadata": {},
   "outputs": [],
   "source": [
    "import operator\n",
    "# Added categorical_col_index_list and keep_all_but_one\n",
    "def createOneHotDict(inputData, categorical_col_index_list, keep_all_but_one=False):\n",
    "    \"\"\"Creates a one-hot-encoder dictionary based on the input data.\n",
    "    Args:\n",
    "        inputData (RDD of lists of (int, str)): An RDD of observations where each observation is\n",
    "            made up of a list of (featureID, value) tuples.\n",
    "            \n",
    "        categorical_col_index_list (JIM) (list): List of column indeces in features list\n",
    "        corresponding to categorical variables.\n",
    "        \n",
    "        keep_all_but_one (JIM) (bool): Do you want to exclude 1 one-hot-encoded column from each\n",
    "        categorical variable? Default is False.\n",
    "        \n",
    "    Returns:\n",
    "        dict: A dictionary where the keys are (featureID, value) tuples and map to values that are\n",
    "            unique integers.\n",
    "    \"\"\"\n",
    "    retObj = (inputData\n",
    "               .select(explode('features'))\n",
    "               .distinct()\n",
    "               .rdd\n",
    "               .map(lambda r: tuple(r[0]))\n",
    "               .zipWithIndex()\n",
    "               .collectAsMap())\n",
    "    # If I were smarter, I'd filter before creating the dictionary\n",
    "    # Since I don't know dataframes, I will filter the dict here\n",
    "    # to only include those feature ids that are cats\n",
    "    # narrow down to just the cat cols.  Note: this makes a col for every unq value\n",
    "    # POR function below\n",
    "    #retObj={k: retObj[k] for k in retObj.keys() if k[0] in categorical_col_index_list}\n",
    "    # Debug addition: Don't include blanks as lookup in dict\n",
    "    retObj={k: retObj[k] for k in retObj.keys() if (k[0] in categorical_col_index_list and len(k[1])>0)}\n",
    "    # if we want to eliminate 1 value by feature (in OHE you keep all but 1 val in a given cat col)\n",
    "    if keep_all_but_one:\n",
    "        # keep track of feature nums for which we've already deleted 1 item\n",
    "        found_feature_nums=[]\n",
    "        # get current set  of keys and put into a list (or you'll get an error!) \n",
    "        allkeys=list(retObj.keys())\n",
    "        # Iterate through keys\n",
    "        for curr_key in allkeys:\n",
    "            #If the key's feature id has not yet had an element found and deleted, then we need to delete this key\n",
    "            if curr_key[0] not in found_feature_nums:\n",
    "                #eliminate this key\n",
    "                del retObj[curr_key]\n",
    "                # add to our list of feature ids for which we've deleted a key\n",
    "                found_feature_nums.append(curr_key[0])\n",
    "\n",
    "    # sort keys by key[0] (the col number)\n",
    "    # start a counter at lowest cat col number.  Every new categorical value\n",
    "    # increments the counter.\n",
    "    sorted_keys=sorted(retObj.keys(), key = operator.itemgetter(0, 1))\n",
    "    retObj={k:i+min(categorical_col_index_list) for i,k in enumerate(sorted_keys)}\n",
    "    \n",
    "    return retObj"
   ]
  },
  {
   "cell_type": "markdown",
   "metadata": {},
   "source": [
    "We will use the `toy_norm` data (with standardized numeric features) as the dataset for one-hot-encoding."
   ]
  },
  {
   "cell_type": "markdown",
   "metadata": {},
   "source": [
    "### 3.3) Standardize Numeric variables\n",
    "\n",
    "For gradient descent to converge quickly when including regularization, numeric and ordinal variables should be standardized to put them all into comparable units.  A common standardization method is to subtract the mean from every observation and divide by the standard deviation.\n",
    "\n",
    "The real data will be standardized using the StandardScaler function from the ml_feature package.  For the toy dataset, the function below demonstrates how standardization is performed.\n"
   ]
  },
  {
   "cell_type": "code",
   "execution_count": 25,
   "metadata": {},
   "outputs": [],
   "source": [
    "## Standardize\n",
    "def standardize_numeric_cols(inputRDD, numeric_column_index_list):\n",
    "    \"\"\"\n",
    "    Takes an rdd as input [x,x,x,x]\n",
    "    and a list of numeric column indeces.  The means and stdevs of\n",
    "    these cols are computed, then the values in the input RDD are standardized\n",
    "    by subtracting the mean and dividing by stdev.\n",
    "    output rdd is same format as input.\n",
    "    \"\"\"\n",
    "\n",
    "    def zscore(line, means_list=None, stdevs_list=None):\n",
    "        \"\"\"\n",
    "        applies the transformation\n",
    "        \"\"\"\n",
    "        m=means_list.copy()\n",
    "        s=stdevs_list.copy()\n",
    "\n",
    "        # output record starts as blank list\n",
    "        output_record=[]\n",
    "        # loop through cols and add them to output_record\n",
    "        for i in range(len(line)):\n",
    "            # If one of the numeric indeces, apply the transformation ((x-mean)/stdev)\n",
    "            if i in numeric_indeces_list_broadcast.value:\n",
    "                output_record.append((line[i]-m.pop(0))/s.pop(0))\n",
    "            # otherwise, just append the col value.\n",
    "            else:\n",
    "                output_record.append(line[i])\n",
    "        # output the full record\n",
    "        yield output_record\n",
    "\n",
    "    # get means and stdevs\n",
    "    numeric_column_index_list.sort()\n",
    "    summary = Statistics.colStats(inputRDD.map(lambda x: [x[i] for i in numeric_column_index_list]))\n",
    "    means=list(summary.mean())  # a dense vector containing the mean value for each column\n",
    "    stdevs=list(np.sqrt(summary.variance()))  # column-wise variance\n",
    "    \n",
    "    # Broadcast the list of numeric column indeces\n",
    "    numeric_indeces_list_broadcast=sc.broadcast(numeric_column_index_list)\n",
    "\n",
    "    # Apply the transformation\n",
    "    outputRDD=inputRDD.flatMap(lambda line: zscore(line, means, stdevs))\n",
    "\n",
    "    return outputRDD \n",
    "    "
   ]
  },
  {
   "cell_type": "code",
   "execution_count": 26,
   "metadata": {},
   "outputs": [
    {
     "data": {
      "text/plain": [
       "[[0, '1540', '4', '400', '47', 'UNSPECIFIED', 'own', 'vanilla', 'hot'],\n",
       " [0, '2480', '12', '335', '76', 'america', 'rent', 'chocolate', 'hot'],\n",
       " [0, '1544', '5', '297', '36', 'asia', 'own', 'chocolate', 'hot'],\n",
       " [1, '3060', '3', '282', '35', 'america', 'own', 'vanilla', 'hot'],\n",
       " [0, '3437', '11', '775', '64', 'america', 'rent', 'vanilla', 'mild'],\n",
       " [0, '', '6', '605', '62', 'america', 'own', 'chocolate', 'hot'],\n",
       " [0, '1473', '9', '734', '28', 'asia', 'own', 'vanilla', 'medium'],\n",
       " [0, '2132', '6', '392', '17', 'asia', 'own', 'chocolate', 'medium'],\n",
       " [0, '1721', '9', '651', '58', 'asia', 'rent', 'vanilla', 'mild'],\n",
       " [1, '2212', '4', '1018', '54', 'america', 'own', 'chocolate', 'medium']]"
      ]
     },
     "execution_count": 26,
     "metadata": {},
     "output_type": "execute_result"
    }
   ],
   "source": [
    "toy_parsedRDD.take(10)"
   ]
  },
  {
   "cell_type": "code",
   "execution_count": null,
   "metadata": {},
   "outputs": [],
   "source": []
  },
  {
   "cell_type": "code",
   "execution_count": 27,
   "metadata": {},
   "outputs": [
    {
     "name": "stdout",
     "output_type": "stream",
     "text": [
      "toy_parsedRDD before:\n",
      "     Row(_1=0, _2=1540.0, _3=4.0, _4=400.0, _5=47.0, _6='UNSPECIFIED', _7='own', _8='vanilla', _9='hot')\n",
      "     Row(_1=0, _2=2480.0, _3=12.0, _4=335.0, _5=76.0, _6='america', _7='rent', _8='chocolate', _9='hot')\n",
      "toy_parsedRDD after imputing:\n",
      "      Row(_1=0, _2=1540.0, _3=4.0, _4=400.0, _5=47.0, _6='UNSPECIFIED', _7='own', _8='vanilla', _9='hot')\n",
      "      Row(_1=0, _2=2480.0, _3=12.0, _4=335.0, _5=76.0, _6='america', _7='rent', _8='chocolate', _9='hot')\n"
     ]
    }
   ],
   "source": [
    "# use the imputer function (defined above) to impute missing values in RDD\n",
    "\n",
    "from pyspark.ml.feature import Imputer\n",
    "\n",
    "toy_parsedRDD = data_imputer(toy_parsedRDD, 1,4)\n",
    "\n",
    "print(\"toy_parsedRDD before:\")\n",
    "for item in toy_parsedRDD.take(2):\n",
    "    print(\"    \", item)\n",
    "    \n",
    "# standardize numeric variables\n",
    "toy_norm=standardize_numeric_cols(inputRDD=toy_parsedRDD, numeric_column_index_list=[1,2,3,4])\n",
    "toy_norm.take(2)\n",
    " \n",
    "toy_norm_list = toy_norm.collect()\n",
    "\n",
    "print(\"toy_parsedRDD after imputing:\")\n",
    "for item in toy_parsedRDD.take(2):\n",
    "    print(\"     \", item)\n"
   ]
  },
  {
   "cell_type": "markdown",
   "metadata": {},
   "source": [
    "To get into the same format of real data, write toy dataset as headerless csv, then read it into a dataframe."
   ]
  },
  {
   "cell_type": "code",
   "execution_count": 28,
   "metadata": {},
   "outputs": [
    {
     "data": {
      "text/plain": [
       "[Row(text='0,-0.4580773726103786,-1.2049553978690812,-0.5618119260143785,0.580739068900467,UNSPECIFIED,own,vanilla,hot'),\n",
       " Row(text='0,0.3391651501469513,1.4180767607574896,-0.7126962362754449,2.0777553353994485,america,rent,chocolate,hot'),\n",
       " Row(text='0,-0.45468485123694313,-0.8770763780407599,-0.8009055253511452,0.0129053126422326,asia,own,chocolate,hot'),\n",
       " Row(text='1,0.831080749295091,-1.5328344176974027,-0.8357249815652374,-0.0387159379266978,america,own,vanilla,hot'),\n",
       " Row(text='0,1.1508258887413818,1.0901977409291683,0.30867447933792785,1.4583003285722838,america,rent,vanilla,mild'),\n",
       " Row(text='0,-2.0706307519457727e-08,-0.5491973582124385,-0.08594602442178433,1.355057827434423,america,own,chocolate,hot')]"
      ]
     },
     "execution_count": 28,
     "metadata": {},
     "output_type": "execute_result"
    }
   ],
   "source": [
    "# Write toy_norm to a headerless csv\n",
    "import csv\n",
    "with open(\"data/toy_norm.csv\", \"w\") as f:\n",
    "    writer = csv.writer(f)\n",
    "    writer.writerows(toy_norm_list)\n",
    "# read it into a dataframe\n",
    "toy_exDF = sqlContext.read.text('data/toy_norm.csv').withColumnRenamed(\"value\", \"text\")\n",
    "toy_exDF.head(6)"
   ]
  },
  {
   "cell_type": "markdown",
   "metadata": {},
   "source": [
    "Here we split the toy dataset into train and test."
   ]
  },
  {
   "cell_type": "code",
   "execution_count": 29,
   "metadata": {},
   "outputs": [
    {
     "name": "stdout",
     "output_type": "stream",
     "text": [
      "Train count: 37\n",
      "Val count: 2\n",
      "Test count: 1\n"
     ]
    }
   ],
   "source": [
    "weights = [0.9, 0.05, 0.05]\n",
    "seed = 42\n",
    "toy_train, toy_val, toy_test = toy_exDF.randomSplit(weights, seed)\n",
    "\n",
    "print(\"Train count:\", toy_train.cache().count())\n",
    "print(\"Val count:\", toy_val.cache().count())\n",
    "print(\"Test count:\", toy_test.cache().count())"
   ]
  },
  {
   "cell_type": "code",
   "execution_count": 30,
   "metadata": {},
   "outputs": [],
   "source": [
    "def parse_line(line, categorical_col_index_list, delimiter=','):\n",
    "    \"\"\"\n",
    "    Converts a comma separated string into a list of (featureID, value) tuples.\n",
    "    Args:\n",
    "        line (str): A comma separated string representing a line of data\n",
    "        categorical_col_index_list (JIM) (list): a list of indeces within the\n",
    "            comma-separated string that are categorical columns.\n",
    "    Returns:\n",
    "        list: A list of (featureID, value) tuples\"\n",
    "    \"\"\"\n",
    "    # return numbered tuples of featureid and value\n",
    "    firstcat=min(categorical_col_index_list)\n",
    "    num_parsed=[(i,s) if s!='' else (i,'nan') for i,s in enumerate(line.split(delimiter)[1:firstcat])]\n",
    "    cat_parsed=[(i+firstcat-1,s) if s!='' else (i+firstcat-1,'UNSPECIFIED') for i,s in enumerate(line.split(delimiter)[firstcat:])]\n",
    "    \n",
    "    return num_parsed + cat_parsed\n",
    "    #return [(i,s) for i,s in enumerate(line.split(delimiter)[1:])]\n"
   ]
  },
  {
   "cell_type": "code",
   "execution_count": 31,
   "metadata": {},
   "outputs": [
    {
     "name": "stdout",
     "output_type": "stream",
     "text": [
      "first_record: 0,-0.4580773726103786,-1.2049553978690812,-0.5618119260143785,0.580739068900467,UNSPECIFIED,own,vanilla,hot\n",
      "Output has label col removed.  Each tuple is (feature number, feature value)\n",
      "[(0, '-0.4580773726103786'), (1, '-1.2049553978690812'), (2, '-0.5618119260143785'), (3, '0.580739068900467'), (4, 'UNSPECIFIED'), (5, 'own'), (6, 'vanilla'), (7, 'hot')]\n"
     ]
    }
   ],
   "source": [
    "############### Now run it ###############################\n",
    "# Notice the catcols here are 5,6,7,8 because the label column is still in col 0\n",
    "# It won't be in the output!\n",
    "toy_catcols=[5,6,7,8]\n",
    "\n",
    "\n",
    "first_record=toy_exDF.select('text').first()[0]\n",
    "toy_parsed_line=parse_line(first_record, toy_catcols)\n",
    "print(\"first_record: \" + str(first_record))\n",
    "print(\"Output has label col removed.  Each tuple is (feature number, feature value)\")\n",
    "print(toy_parsed_line)\n",
    "\n",
    "# this function outputs a list that is compatible with a sparse vector."
   ]
  },
  {
   "cell_type": "code",
   "execution_count": 32,
   "metadata": {},
   "outputs": [],
   "source": [
    "toy_catcols=[5,6,7,8]\n",
    "\n",
    "from pyspark.sql.functions import udf, split\n",
    "from pyspark.sql.types import ArrayType, StructType, StructField, LongType, StringType, FloatType, DoubleType\n",
    "\n",
    "# parse_line_jim with catcols embedded\n",
    "def plj_hardcode(line):\n",
    "    return parse_line(line, toy_catcols)\n",
    "\n",
    "parse_line_udf = udf(plj_hardcode,\n",
    "                     ArrayType(StructType([StructField('_1', LongType()),\n",
    "                                                         StructField('_2', StringType())])))\n",
    "\n",
    "def parse_raw_df(raw_df, delimiter=','):\n",
    "    \"\"\"Convert a DataFrame consisting of rows of comma \n",
    "    separated text into labels and feature.\n",
    "    Args:\n",
    "        raw_df (DataFrame with a 'text' column): DataFrame \n",
    "        containing the raw comma separated data.\n",
    "    Returns:\n",
    "        DataFrame: A DataFrame with 'label' and 'feature' columns.\n",
    "    \"\"\"\n",
    "\n",
    "    allfeatures=raw_df.select(split(raw_df.text, delimiter))\n",
    "    print(allfeatures)\n",
    "    #return None\n",
    "    # POR function is returning a tuple:\n",
    "    # the 0th item of the split text string, cast it as a double and call it label\n",
    "    # the parsed_line_jim output\n",
    "    return (raw_df.select(\n",
    "                            split(raw_df.text, delimiter).getItem(0).cast(\"double\").alias('label'),\n",
    "                         parse_line_udf(raw_df.text).alias('features'))\n",
    "                        .cache())"
   ]
  },
  {
   "cell_type": "code",
   "execution_count": 33,
   "metadata": {},
   "outputs": [
    {
     "name": "stdout",
     "output_type": "stream",
     "text": [
      "DataFrame[split(text, ,): array<string>]\n",
      "74\n",
      "+-----+---------------------------------------------------------------------------------------------------------------------------------------------------------+\n",
      "|label|features                                                                                                                                                 |\n",
      "+-----+---------------------------------------------------------------------------------------------------------------------------------------------------------+\n",
      "|0.0  |[[0, -0.07472245741217316], [1, -1.2049553978690812], [2, 1.8151962848676526], [3, 2.542346590519822], [4, europe], [5, rent], [6, chocolate], [7, mild]]|\n",
      "|0.0  |[[0, -0.2129677033796676], [1, 1.0901977409291683], [2, 0.6800820122882452], [3, -1.071140949305306], [4, asia], [5, rent], [6, chocolate], [7, medium]] |\n",
      "+-----+---------------------------------------------------------------------------------------------------------------------------------------------------------+\n",
      "only showing top 2 rows\n",
      "\n"
     ]
    }
   ],
   "source": [
    "# Parse the raw training DataFrame\n",
    "toy_parsed_train_df = parse_raw_df(toy_train.select('text'))\n",
    "\n",
    "from pyspark.sql.functions import (explode, col)\n",
    "toy_num_categories = (toy_parsed_train_df\n",
    "                    .select(explode('features').alias('features'))\n",
    "                    .distinct()\n",
    "                    .select(col('features').getField('_1').alias('featureNumber'))\n",
    "                    .groupBy('featureNumber')\n",
    "                    .sum()\n",
    "                    .orderBy('featureNumber')\n",
    "                    .collect())\n",
    "\n",
    "print(toy_num_categories[2][1])\n",
    "toy_parsed_train_df.show(2,False)"
   ]
  },
  {
   "cell_type": "code",
   "execution_count": 34,
   "metadata": {},
   "outputs": [
    {
     "name": "stdout",
     "output_type": "stream",
     "text": [
      "TOY Number of OHE Features Generated\n",
      "12\n",
      "{(4, 'UNSPECIFIED'): 4, (4, 'america'): 5, (4, 'asia'): 6, (4, 'europe'): 7, (5, 'own'): 8, (5, 'rent'): 9, (6, 'chocolate'): 10, (6, 'strawberry'): 11, (6, 'vanilla'): 12, (7, 'hot'): 13, (7, 'medium'): 14, (7, 'mild'): 15}\n"
     ]
    }
   ],
   "source": [
    "# catcols WITHIN THE PARSED FEATURES\n",
    "toy_catcols_flist=[4,5,6,7]\n",
    "toy_ohe_dict = createOneHotDict(toy_parsed_train_df, toy_catcols_flist)\n",
    "toy_num_ohe_feats = len(toy_ohe_dict)\n",
    "print(\"TOY Number of OHE Features Generated\")\n",
    "print(len(toy_ohe_dict))\n",
    "\n",
    "print(toy_ohe_dict)"
   ]
  },
  {
   "cell_type": "markdown",
   "metadata": {},
   "source": [
    "### 3.4) Applying OHE to the toy dataset\n",
    "\n",
    "At this point, we are ready to apply the OHE to the toy dataset to create one-hot encoded features. \n",
    "\n",
    "Here is where we do the one hot encoding on the data.  The output dataframe will have a label column, and a features column.  The features column will be a sparse vector.\n",
    "\n",
    "The sparse vector format is a three item tuple.  The first item is the total length of the full vector (this will be the number of numeric features plus the number of one hot encoded columns).  The second item is a list of vector indeces whose values are non-zero, and the third item is a list of the values corresponding to those indeces."
   ]
  },
  {
   "cell_type": "code",
   "execution_count": 35,
   "metadata": {},
   "outputs": [],
   "source": [
    "# broadcast the ohe dict to all workers\n",
    "toy_ohe_dict_broadcast = sc.broadcast(toy_ohe_dict)\n",
    "# set the column index of the first categorical variable in the features list\n",
    "toy_firstcat = 4\n",
    "toy_ohe_dict_udf =  ohe_udf_generator(toy_ohe_dict_broadcast, toy_firstcat)\n",
    "toy_ohe_train_df = toy_parsed_train_df.select(toy_ohe_dict_udf(toy_parsed_train_df.features).alias('features'), toy_parsed_train_df.label).cache()"
   ]
  },
  {
   "cell_type": "code",
   "execution_count": 36,
   "metadata": {},
   "outputs": [
    {
     "name": "stdout",
     "output_type": "stream",
     "text": [
      "Mean: 0.24324324324324326\n",
      "Variance: 0.1840759678597517\n"
     ]
    }
   ],
   "source": [
    "toy_ohe_train_rdd = toy_ohe_train_df.rdd.cache()\n",
    "# mean and variance of the outcome variable \n",
    "meanQuality = toy_ohe_train_rdd.map(lambda x: x[1]).mean()\n",
    "varQuality = toy_ohe_train_rdd.map(lambda x: x[1]).variance()\n",
    "print(f\"Mean: {meanQuality}\")\n",
    "print(f\"Variance: {varQuality}\")"
   ]
  },
  {
   "cell_type": "code",
   "execution_count": 37,
   "metadata": {},
   "outputs": [],
   "source": [
    "firstcat = 4\n",
    "BASELINE = np.append(meanQuality, np.zeros(firstcat + toy_num_ohe_feats))"
   ]
  },
  {
   "cell_type": "code",
   "execution_count": 38,
   "metadata": {},
   "outputs": [],
   "source": [
    "def sigmoid(z):\n",
    "    return 1 / (1 + np.exp(-z))"
   ]
  },
  {
   "cell_type": "code",
   "execution_count": 39,
   "metadata": {},
   "outputs": [],
   "source": [
    "# function to compute loss (adapted from HW 4)\n",
    "def LOGLoss(dataRDD, W):\n",
    "    \"\"\"\n",
    "    Compute error.\n",
    "    Args:\n",
    "        dataRDD - each record is a tuple of (features_array, y)\n",
    "        W       - (array) model coefficients with bias at index 0\n",
    "    \"\"\"\n",
    "    augmentedData = dataRDD.map(lambda x: (np.append([1.0], x[0]), x[1])).cache()\n",
    "    ################## YOUR CODE HERE ##################\n",
    "    loss = augmentedData.map(lambda x: (-x[1] * np.log(sigmoid(W.dot(x[0]))) \\\n",
    "                                     - (1 - x[1]) * np.log(1 - sigmoid(W.dot(x[0])))) ).mean()\n",
    "    ################## (END) YOUR CODE ##################\n",
    "    return loss"
   ]
  },
  {
   "cell_type": "code",
   "execution_count": 40,
   "metadata": {},
   "outputs": [],
   "source": [
    "# function to perform a single GD step (taken from HW4)\n",
    "def GDUpdate(dataRDD, W, learningRate = 0.1):\n",
    "    \"\"\"\n",
    "    Perform one OLS gradient descent step/update.\n",
    "    Args:\n",
    "        dataRDD - records are tuples of (features_array, y)\n",
    "        W       - (array) model coefficients with bias at index 0\n",
    "    Returns:\n",
    "        new_model - (array) updated coefficients, bias at index 0\n",
    "    \"\"\"\n",
    "    # add a bias 'feature' of 1 at index 0\n",
    "    augmentedData = dataRDD.map(lambda x: (np.append([1.0], x[0]), x[1])).cache()\n",
    "    \n",
    "    ################## YOUR CODE HERE ################# \n",
    "    grad = augmentedData.map(lambda x: (W.dot(x[0]) - x[1])*x[0]).mean() * 2\n",
    "    new_model = W - learningRate * grad\n",
    "    ################## (END) YOUR CODE ################# \n",
    "   \n",
    "    return new_model"
   ]
  },
  {
   "cell_type": "code",
   "execution_count": 41,
   "metadata": {},
   "outputs": [],
   "source": [
    "# OLS gradient descent function (taken from HW 4)\n",
    "def GradientDescent(trainRDD, testRDD, wInit, nSteps = 20, \n",
    "                    learningRate = 0.1, verbose = False):\n",
    "    \"\"\"\n",
    "    Perform nSteps iterations of OLS gradient descent and \n",
    "    track loss on a test and train set. Return lists of\n",
    "    test/train loss and the models themselves.\n",
    "    \"\"\"\n",
    "    # initialize lists to track model performance\n",
    "    train_history, test_history, model_history = [], [], []\n",
    "    \n",
    "    # perform n updates & compute test and train loss after each\n",
    "    model = wInit\n",
    "    for idx in range(nSteps): \n",
    "        \n",
    "        ############## YOUR CODE HERE #############\n",
    "        model = GDUpdate(trainRDD, model)\n",
    "        training_loss = LOGLoss(trainRDD, model) \n",
    "        test_loss = LOGLoss(testRDD, model) \n",
    "        ############## (END) YOUR CODE #############\n",
    "        \n",
    "        # keep track of test/train loss for plotting\n",
    "        train_history.append(training_loss)\n",
    "        test_history.append(test_loss)\n",
    "        model_history.append(model)\n",
    "        \n",
    "        # console output if desired\n",
    "        if verbose:\n",
    "            print(\"----------\")\n",
    "            print(f\"STEP: {idx+1}\")\n",
    "            print(f\"training loss: {training_loss}\")\n",
    "            print(f\"test loss: {test_loss}\")\n",
    "            print(f\"Model: {[round(w,3) for w in model]}\")\n",
    "    return train_history, test_history, model_history"
   ]
  },
  {
   "cell_type": "code",
   "execution_count": 42,
   "metadata": {},
   "outputs": [
    {
     "data": {
      "text/plain": [
       "17"
      ]
     },
     "execution_count": 42,
     "metadata": {},
     "output_type": "execute_result"
    }
   ],
   "source": [
    "len(BASELINE)"
   ]
  },
  {
   "cell_type": "code",
   "execution_count": 43,
   "metadata": {},
   "outputs": [
    {
     "name": "stdout",
     "output_type": "stream",
     "text": [
      "BASELINE:  Loss = 0.762979274661294\n",
      "----------\n",
      "STEP: 1\n",
      "Loss: 0.7420974233171529\n",
      "----------\n",
      "STEP: 2\n",
      "Loss: 0.7270330292080853\n",
      "----------\n",
      "STEP: 3\n",
      "Loss: 0.7159326169132674\n",
      "----------\n",
      "STEP: 4\n",
      "Loss: 0.7075855625011656\n",
      "----------\n",
      "STEP: 5\n",
      "Loss: 0.7011825362761294\n"
     ]
    }
   ],
   "source": [
    "# take a look at a few Gradient Descent steps (taken from HW 4)\n",
    "nSteps = 5\n",
    "model = BASELINE\n",
    "print(f\"BASELINE:  Loss = {LOGLoss(toy_ohe_train_rdd,model)}\")\n",
    "for idx in range(nSteps):\n",
    "    print(\"----------\")\n",
    "    print(f\"STEP: {idx+1}\")\n",
    "    model = GDUpdate(toy_ohe_train_rdd, model)\n",
    "    loss = LOGLoss(toy_ohe_train_rdd, model)\n",
    "    print(f\"Loss: {loss}\")"
   ]
  },
  {
   "cell_type": "markdown",
   "metadata": {},
   "source": [
    "Now that we have one-hot-encoded all the toy data, we will split the data into train and test sets."
   ]
  },
  {
   "cell_type": "code",
   "execution_count": 44,
   "metadata": {},
   "outputs": [],
   "source": [
    "# split data\n",
    "_, toy_ohe_test_df = toy_ohe_train_df.randomSplit([0.75,0.25])"
   ]
  },
  {
   "cell_type": "markdown",
   "metadata": {},
   "source": [
    "## 4) Algorithm Implementation\n",
    "\n",
    "After demonstrating our methodolgy for implementing binary logistic regression on our toy dataset, we are ready to implement it on the Criteo dataset.\n",
    "\n",
    "#### Logistic Regression\n",
    "\n",
    "At this point, we're ready to begin implementing our binary logistic regression algorithm.  Logistic regression relies on transforming a dataset using a sigmoid function.  This transformation gives the data in logistic regression an \"S\" shaped curve, and forces values to be between 0 and 1.  The equation for the sigmoid is:\n",
    "\n",
    "$$ f (x) =  \\frac{\\mathrm{1} }{\\mathrm{1} + e^-(x) }  $$ \n",
    "\n",
    "#### Log-Loss\n",
    "\n",
    "Log-loss (related to cross-entropy) measures the performance of a classification model where the prediction input is a probability value between 0 and 1.  It represents a common cost, or loss function, used with logistic regression. A primary goal of the algorithm we are implementing is to minimize the log-loss value. A perfect model would have a log loss of 0. Log loss increases as the predicted probability diverges from the actual label.  The equation for log-loss is:\n",
    "\n",
    "For a single sample with true label $y_t$ in {0,1} and estimated probability $y_p$ that $y_t$ = 1, the log loss is\n",
    "\n",
    "$-log(P(y_t|y_p)) = -(y_t log(y_p) + (1 - y_t) log(1 - y_p))$\n",
    "\n",
    "Here, the least absolute deviations, or L1 loss, is \n",
    "\n",
    "$\\sum_{i=1}^m {(y-\\hat{y})}$\n",
    "\n",
    "The least square error, or L2 loss, is \n",
    "\n",
    "$\\sum_{i=1}^m {(y-\\hat{y})^2}$"
   ]
  },
  {
   "cell_type": "markdown",
   "metadata": {},
   "source": [
    "#### Gradient Descent in Logistic Regression\n",
    "\n",
    "Gradient Descent is a process that works iteratively to find the optimal parameters for a model when fed a particular training data set. It does this by using the vector of partial derivatives of a loss function to strategically update parameters in a way that will reduce the loss.  The hypothesis function for the method of gradient descent used in logistic regression is as follows:\n",
    "\n",
    "$$\\theta_j  = \\frac{1}{m} \\sum_{i=1}^m Cost(h_{\\theta} (\\pmb{x}^{(i)}), y^{(i)})$$\n",
    "\n",
    "Where $Cost(h_{\\theta}(x),y) ={−log(h_{\\theta}(x))}$ if y = 1 and\n",
    "\n",
    "$Cost(h_{\\theta}(x),y) ={−log(h_{\\theta}(1 - x))}$ if y = 0\n",
    "\n",
    "and where $h_{\\theta}$ is a hypothesis of the optimal value."
   ]
  },
  {
   "cell_type": "markdown",
   "metadata": {},
   "source": [
    "### 4.1) Data Standardization and Regularization\n",
    "\n",
    "In order to ensure that the parameters have a same scale of comparison, we normalize the data using the function below. This makes the training less sensitive to the scale of features, so we can better solve for solutions. \n",
    "\n",
    "$$ f (x) =  \\frac{x - x_{min} }{x_{max} - x_{min} }  $$ \n",
    "\n",
    "As indicated in the EDA, at least 12 variables, inclusive of numerical and categorical, has large chunks of empty / NA values. We therefore regularize the data using a regularization algorithm StandardScaler() to ensure that the data has a mean of 0 and a standard deviation of 1."
   ]
  },
  {
   "cell_type": "markdown",
   "metadata": {},
   "source": [
    "### 4.2) Feature Selection\n",
    "\n",
    "In order to address the issue of collinearity between input variables, Principal Component Analysis (PCA) will be used to select the most significant feature components, resulting in an optimized signal-to-noise ratio and reduction of redundancy between features. These components are orthonormal The PCA process can be summarized as follows:\n",
    "1. Center feature values\n",
    "2. Compute the feature covariance matrix\n",
    "3. Compute the ranked eigenvectors of the covariance matrix  \n",
    "\n",
    "The third step may be completed through Singular Value Decomposition, with the familiar equation $\\mathbf{X = U\\Sigma V_T}$, in which $\\mathbf{U}$ and $\\mathbf{V}$ are each orthogonal matrices, $\\mathbf{V}$ contains the eigenvectors of the feature covariance matrix, and $\\mathbf{\\Sigma}$ is a diagonalized matrix with ordered singular values on the diagonal. With this in place, $\\mathbf{X}$ multiplied by the first $\\mathbf{n}$ columns of $\\mathbf{V}$ produces the associated subset of $\\mathbf{U\\Sigma}$, which is then an orthogonal matrix with $\\mathbf{n}$ features.\n",
    "\n",
    "To put this into plain terms, an orthogonal matrix is composed of perpendicular vectors, without the noise or redundancy in $\\mathbf{X}$. An effective LogisticRegression model can then be trained on input data transformed in this way and tested on test data transformed in this way.\n",
    "\n",
    "#### Drawbacks\n",
    "\n",
    "One issue with a modeling pipeline involving PCA is the loss of explainability of results. While the predictions from such a model may be more accurate than without PCA, it would be difficult to interpret the model in terms of the original features."
   ]
  },
  {
   "cell_type": "code",
   "execution_count": 45,
   "metadata": {},
   "outputs": [
    {
     "name": "stdout",
     "output_type": "stream",
     "text": [
      "Selected principal components:\n",
      "[Row(pcaFeatures=DenseVector([-1.8297, -2.1565, -0.2412]))] \n",
      "\n",
      "\n"
     ]
    }
   ],
   "source": [
    "# Prepare a PCA model to transform the toy training DataFrame to 3 principal components\n",
    "pca = PCA(k=3, inputCol='features', outputCol = 'pcaFeatures')\n",
    "pca_model = pca.fit(toy_ohe_train_df)\n",
    "\n",
    "# Use PCA model to transform the train DataFrame\n",
    "pca_result = pca_model.transform(toy_ohe_train_df)\n",
    "\n",
    "print(\"Selected principal components:\")\n",
    "print(pca_result.select('pcaFeatures').take(1),'\\n\\n')  \n"
   ]
  },
  {
   "cell_type": "markdown",
   "metadata": {},
   "source": [
    "### 4.2) Feature Selection\n",
    "\n",
    "In order to address the issue of collinearity between input variables, Principal Component Analysis (PCA) will be used to select the most significant feature components, resulting in an optimized signal-to-noise ratio and reduction of redundancy between features. These components are orthonormal The PCA process can be summarized as follows:\n",
    "1. Center feature values\n",
    "2. Compute the feature covariance matrix\n",
    "3. Compute the ranked eigenvectors of the covariance matrix  \n",
    "\n",
    "The third step may be completed through Singular Value Decomposition, with the familiar equation $\\mathbf{X = U\\Sigma V_T}$, in which $\\mathbf{U}$ and $\\mathbf{V}$ are each orthogonal matrices, $\\mathbf{V}$ contains the eigenvectors of the feature covariance matrix, and $\\mathbf{\\Sigma}$ is a diagonalized matrix with ordered singular values on the diagonal. With this in place, $\\mathbf{X}$ multiplied by the first $\\mathbf{n}$ columns of $\\mathbf{V}$ produces the associated subset of $\\mathbf{U\\Sigma}$, which is then an orthogonal matrix with $\\mathbf{n}$ features.\n",
    "\n",
    "To put this into plain terms, an orthogonal matrix is composed of perpendicular vectors, without the noise or redundancy in $\\mathbf{X}$. An effective LogisticRegression model can then be trained on input data transformed in this way and tested on test data transformed in this way.\n",
    "\n",
    "#### Drawbacks\n",
    "\n",
    "One issue with a modeling pipeline involving PCA is the loss of explainability of results. While the predictions from such a model may be more accurate than without PCA, it would be difficult to interpret the model in terms of the original features.\n",
    "\n",
    "### 4.3) Logistic Regression with Lasso (L1) regularization\n",
    "\n",
    "Uses PCA for feature selection and the resulting set of 10 features is processed by Logistic Regression with Lasso (L1) Regularization to further reduce the feature set. With L1 regularization, the training goal will be to minimize the following augmented loss function:  $$\\mathbf{\\Sigma -log(P(y_t|y_p)) + \\lambda \\Sigma| \\beta_j|}$$  \n",
    "The term at the end penalizes larger coefficients and based on the size of $\\lambda$ may reduce coefficients to 0, thus performing feature selection.  \n",
    "\n",
    "Note that PCA may be used for feature selection without L1 regularization, and L1 regularization may be used without PCA. In our training with a fraction of the full dataset, the memory constraints of the Spark ML implementation of PCA meant that with a larger volume of training data we needed to rely on L1 regularization alone."
   ]
  },
  {
   "cell_type": "code",
   "execution_count": 46,
   "metadata": {},
   "outputs": [
    {
     "name": "stdout",
     "output_type": "stream",
     "text": [
      "Fitting ML pipeline with training data...\n",
      "...process completed in 0.600208044052124 seconds.\n",
      "\n",
      "Applying fitted pipeline model to TOY test data\n",
      "...process completed in 0.1629037857055664 seconds.\n"
     ]
    }
   ],
   "source": [
    "# Define a Pipeline for training and then testing\n",
    "# Pipeline includes translating DataFrame rows into Vectors, Principal Component Analysis and Logistic Regression\n",
    "\n",
    "\n",
    "# normalize features\n",
    "scaler = StandardScaler(\n",
    "    inputCol=\"features\",\n",
    "    outputCol=\"scaledFeatures\",\n",
    "    withStd=True,\n",
    "    withMean=False)\n",
    "# use PCA to identify 30 Principal Components\n",
    "pca = PCA(k=8, inputCol='features', outputCol='pcaFeatures')\n",
    "# logistic regression with L1 regularization (elasticNetParam=1.0), prediction threshold=0.5\n",
    "logistic_reg = LogisticRegression(regParam=0.1, elasticNetParam=1.0, featuresCol='pcaFeatures', threshold=0.5)\n",
    "\n",
    "#pipeline = Pipeline(stages=[scaler, pca, logistic_reg])\n",
    "\n",
    "pca_model = pca.fit(toy_ohe_train_df)\n",
    "toy_pca_df = pca_model.transform(toy_ohe_train_df)\n",
    "\n",
    "print(\"Fitting ML pipeline with training data...\")\n",
    "start = time.time()\n",
    "logreg_model = logistic_reg.fit(dataset=toy_pca_df)\n",
    "end_fit = time.time()\n",
    "print(f\"...process completed in {end_fit-start} seconds.\")\n",
    "print(\"\\nApplying fitted pipeline model to TOY test data\")\n",
    "\n",
    "pca_test_model = pca.fit(toy_ohe_test_df)\n",
    "toy_pca_test_df = pca_model.transform(toy_ohe_test_df)\n",
    "toy_result = logreg_model.transform(toy_pca_test_df)\n",
    "print(f\"...process completed in {time.time()-end_fit} seconds.\")"
   ]
  },
  {
   "cell_type": "markdown",
   "metadata": {},
   "source": [
    "### 4.4) Model Evaluation - Log Loss\n",
    "\n",
    "For the evaluation of the model, we can use the log loss of the model and compare the result with the baseline log loss."
   ]
  },
  {
   "cell_type": "code",
   "execution_count": 47,
   "metadata": {},
   "outputs": [
    {
     "name": "stdout",
     "output_type": "stream",
     "text": [
      "+-----+-----------+-------------------+\n",
      "|label|          p|           log_loss|\n",
      "+-----+-----------+-------------------+\n",
      "|  0.0| 0.23928064| 0.2734907684778635|\n",
      "|  0.0| 0.28142476|0.33048486192181586|\n",
      "|  1.0| 0.20299344| 1.5945816273209052|\n",
      "|  0.0|0.109593496|0.11607717415820276|\n",
      "|  0.0|  0.3189461|0.38411381784629506|\n",
      "|  0.0| 0.31494343|   0.37825386428699|\n",
      "|  0.0| 0.16166392| 0.1763362084067907|\n",
      "|  1.0| 0.33097708|  1.105706143909976|\n",
      "|  0.0| 0.27555725|0.32235254005993624|\n",
      "+-----+-----------+-------------------+\n",
      "\n",
      "Logloss =  0.5201552229320862\n"
     ]
    }
   ],
   "source": [
    "epsilon = 1e-16\n",
    "def add_log_loss(df):\n",
    "    \"\"\"Computes and adds a 'log_loss' column to a DataFrame using 'p' and 'label' columns.\n",
    "\n",
    "    Note:\n",
    "        log(0) is undefined, so when p is 0 we add a small value (epsilon) to it and when\n",
    "        p is 1 we subtract a small value (epsilon) from it.\n",
    "\n",
    "    Args:\n",
    "        df (DataFrame with 'p' and 'label' columns): A DataFrame with a probability column\n",
    "            'p' and a 'label' column that corresponds to y in the log loss formula.\n",
    "\n",
    "    Returns:\n",
    "        DataFrame: A new DataFrame with an additional column called 'log_loss' where 'log_loss' column contains the loss value as explained above.\n",
    "    \"\"\"\n",
    "    newDF = df.select(\"*\", when(df.label == 1, 0. - log(df.p + epsilon)).\\\n",
    "                           otherwise(0. - log(1. - df.p + epsilon)).alias('log_loss'))\n",
    "  \n",
    "    retObj = newDF  \n",
    "      \n",
    "    return retObj\n",
    "\n",
    "firstelement = udf(lambda v:float(v[1]),FloatType())\n",
    "\n",
    "resultLogLossDF = toy_result.select(['label',firstelement('probability')])\n",
    "resultLogLossDF = resultLogLossDF.select(col(\"label\").alias(\"label\"), col(\"<lambda>(probability)\").alias(\"p\"))\n",
    "add_log_loss(resultLogLossDF).show()\n",
    "\n",
    "log_loss_result = (add_log_loss(resultLogLossDF)\n",
    "                          .groupBy()\n",
    "                          .mean('log_loss')\n",
    "                          .collect())[0][0]\n",
    "print ('Logloss = ',log_loss_result)"
   ]
  },
  {
   "cell_type": "markdown",
   "metadata": {},
   "source": [
    "### 4.5) Model Evaluation - ROC Curve\n",
    "\n",
    "We will now visualize how well the model predicts our target. To do this we generate a plot of the ROC curve. The ROC curve shows us the trade-off between the false positive rate and true positive rate, as we liberalize the threshold required to predict a positive outcome. A random model is represented by the dashed line."
   ]
  },
  {
   "cell_type": "code",
   "execution_count": 48,
   "metadata": {},
   "outputs": [
    {
     "data": {
      "image/png": "[encoded data removed]",
      "text/plain": [
       "<Figure size 720x720 with 1 Axes>"
      ]
     },
     "metadata": {
      "needs_background": "light"
     },
     "output_type": "display_data"
    },
    {
     "name": "stdout",
     "output_type": "stream",
     "text": [
      "Area Under ROC :  0.9166666666666666\n"
     ]
    }
   ],
   "source": [
    "plt.figure(figsize=(10,10))\n",
    "plt.plot([0, 1], [0, 1], 'r--')\n",
    "plt.plot(logreg_model.summary.roc.select('FPR').collect(),\n",
    "         logreg_model.summary.roc.select('TPR').collect())\n",
    "plt.xlabel('False Positive Rate(1-Specificity)')\n",
    "plt.ylabel('True Positive Rate (Sensitivity)')\n",
    "plt.show()\n",
    "\n",
    "print(\"Area Under ROC : \", logreg_model.summary.areaUnderROC)"
   ]
  },
  {
   "cell_type": "markdown",
   "metadata": {},
   "source": [
    "# Working with the Real Dataset"
   ]
  },
  {
   "cell_type": "code",
   "execution_count": 49,
   "metadata": {},
   "outputs": [],
   "source": [
    "# delete the datafile with imputed values, before regenerating it\n",
    "!rm -rf data/train_imputed.txt"
   ]
  },
  {
   "cell_type": "code",
   "execution_count": 50,
   "metadata": {},
   "outputs": [],
   "source": [
    "# Read in the real data for train and test\n",
    "# Create an RDD\n",
    "trainRDD = sc.textFile('data/train.txt')"
   ]
  },
  {
   "cell_type": "code",
   "execution_count": 51,
   "metadata": {},
   "outputs": [],
   "source": [
    "# Parse the raw trainRDD and testRDD\n",
    "train_parsedRDD = trainRDD.map(lambda line: split_data(line, n_ordinal_cols=13))\n",
    "\n",
    "# impute missing values\n",
    "train_parsedRDD = data_imputer(train_parsedRDD, 1,13)\n",
    "    \n",
    "# save the imputed training data, for later use\n",
    "def toCSVLine(data):\n",
    "  return '\\t'.join(str(d) for d in data)\n",
    "lines = train_parsedRDD.map(toCSVLine)\n",
    "lines.saveAsTextFile('data/train_imputed.txt')"
   ]
  },
  {
   "cell_type": "code",
   "execution_count": 52,
   "metadata": {},
   "outputs": [
    {
     "name": "stdout",
     "output_type": "stream",
     "text": [
      "DataFrame[split(text, \t): array<string>]\n"
     ]
    }
   ],
   "source": [
    "############### Now run it ###############################\n",
    "catcols=[cat for cat in range(14,40)]\n",
    "\n",
    "# Note that this is now reading in data that was previously preprocessed, with imputed missing values\n",
    "rawDF = sqlContext.read.text('data/train_imputed.txt').withColumnRenamed(\"value\", \"text\")\n",
    "rawDF.cache()\n",
    "first_record=rawDF.select('text').first()[0]\n",
    "parsed_line=parse_line(first_record, catcols, delimiter='\\t')\n",
    "\n",
    "# this function outputs a list that is compatible with a sparse vector.\n",
    "\n",
    "from pyspark.sql.functions import udf, split\n",
    "from pyspark.sql.types import ArrayType, StructType, StructField, LongType, StringType, FloatType, DoubleType\n",
    "\n",
    "# parse_line_walt with catcols embedded\n",
    "def plw_hardcode(line):\n",
    "    return parse_line(line, catcols, delimiter='\\t')\n",
    "\n",
    "parse_line_udf = udf(plw_hardcode,\n",
    "                     ArrayType(StructType([StructField('_1', LongType()),\n",
    "                                                         StructField('_2', StringType())])))\n",
    "\n",
    "# Parse the raw training DataFrame\n",
    "parsed_train_df = parse_raw_df(rawDF.select('text'), delimiter='\\t')\n",
    "\n",
    "from pyspark.sql.functions import (explode, col)\n",
    "num_categories = (parsed_train_df\n",
    "                    .select(explode('features').alias('features'))\n",
    "                    .distinct()\n",
    "                    .select(col('features').getField('_1').alias('featureNumber'))\n",
    "                    .groupBy('featureNumber')\n",
    "                    .sum()\n",
    "                    .orderBy('featureNumber')\n",
    "                    .collect())\n"
   ]
  },
  {
   "cell_type": "code",
   "execution_count": 53,
   "metadata": {},
   "outputs": [
    {
     "name": "stdout",
     "output_type": "stream",
     "text": [
      "26\n",
      "Number of OHE Features Generated\n",
      "26597\n"
     ]
    }
   ],
   "source": [
    "# catcols WITHIN THE PARSED FEATURES\n",
    "catcols=[cat for cat in range(13,39)]\n",
    "print(len(catcols))\n",
    "ohe_dict = createOneHotDict(parsed_train_df, catcols)\n",
    "num_ohe_feats = len(ohe_dict)\n",
    "print(\"Number of OHE Features Generated\")\n",
    "print(num_ohe_feats)\n",
    "#num_ohe_feats += len(catcols)"
   ]
  },
  {
   "cell_type": "code",
   "execution_count": 54,
   "metadata": {},
   "outputs": [],
   "source": [
    "# broadcast the ohe dict to all workers\n",
    "\n",
    "ohe_dict_broadcast = sc.broadcast(ohe_dict)\n",
    "# set the column index of the first categorical variable in the features list\n",
    "firstcat = 13\n",
    "ohe_dict_udf =  ohe_udf_generator(ohe_dict_broadcast, firstcat, use_old_version=False)\n",
    "ohe_train_df = parsed_train_df.select(ohe_dict_udf(parsed_train_df.features) \\\n",
    "                                                 .alias('features'), parsed_train_df.label).cache()\n"
   ]
  },
  {
   "cell_type": "code",
   "execution_count": 55,
   "metadata": {},
   "outputs": [],
   "source": [
    "# Split the full dataframe into train and test\n",
    "ohe_split_train_df, ohe_split_test_df = ohe_train_df.randomSplit([.75,.25])"
   ]
  },
  {
   "cell_type": "code",
   "execution_count": 56,
   "metadata": {},
   "outputs": [
    {
     "name": "stdout",
     "output_type": "stream",
     "text": [
      "Fitting ML pipeline with training data...\n",
      "...process completed in 34.59591603279114 seconds.\n",
      "\n",
      "Applying fitted pipeline model to test data\n",
      "...process completed in 0.11982893943786621 seconds.\n",
      "% correct: 0.8034257748776509\n"
     ]
    }
   ],
   "source": [
    "# Define a Pipeline for training and then testing\n",
    "# Pipeline includes translating DataFrame rows into Vectors, Principal Component Analysis and Logistic Regression\n",
    "\n",
    "# normalize features\n",
    "scaler = StandardScaler(\n",
    "    inputCol=\"features\",\n",
    "    outputCol=\"scaledFeatures\",\n",
    "    withStd=True,\n",
    "    withMean=True)\n",
    "\n",
    "# logistic regression with L1 regularization (elasticNetParam=1.0), prediction threshold=0.5\n",
    "logistic_reg = LogisticRegression(regParam=0.05, elasticNetParam=1.0, featuresCol='scaledFeatures', threshold=0.6)\n",
    "\n",
    "print(\"Fitting ML pipeline with training data...\")\n",
    "start = time.time()\n",
    "scaler_model = scaler.fit(ohe_split_train_df)\n",
    "scaled_df = scaler_model.transform(ohe_split_train_df)\n",
    "logreg_model = logistic_reg.fit(dataset=scaled_df)\n",
    "end_fit = time.time()\n",
    "print(f\"...process completed in {end_fit-start} seconds.\")\n",
    "\n",
    "print(\"\\nApplying fitted pipeline model to test data\")\n",
    "scaler_test_model = scaler.fit(ohe_split_test_df)\n",
    "scaled_test_df = scaler_test_model.transform(ohe_split_test_df)\n",
    "prediction = logreg_model.transform(scaled_test_df)\n",
    "print(f\"...process completed in {time.time()-end_fit} seconds.\")\n",
    "print(f\"% correct: {prediction.filter('prediction == label').count()/ohe_split_test_df.count()}\")"
   ]
  },
  {
   "cell_type": "code",
   "execution_count": 57,
   "metadata": {},
   "outputs": [
    {
     "name": "stdout",
     "output_type": "stream",
     "text": [
      "+-------+------------------+----------+\n",
      "|summary|             label|prediction|\n",
      "+-------+------------------+----------+\n",
      "|  count|              1226|      1226|\n",
      "|   mean|0.1965742251223491|       0.0|\n",
      "| stddev|0.3975697723342266|       0.0|\n",
      "|    min|               0.0|       0.0|\n",
      "|    max|               1.0|       0.0|\n",
      "+-------+------------------+----------+\n",
      "\n"
     ]
    }
   ],
   "source": [
    "prediction.describe().show()"
   ]
  },
  {
   "cell_type": "markdown",
   "metadata": {},
   "source": [
    "### 4.4) Model Evaluation - Log Loss\n",
    "\n",
    "For the evaluation of the model, we can use the log loss of the model and compare the result with the baseline log loss."
   ]
  },
  {
   "cell_type": "code",
   "execution_count": 58,
   "metadata": {},
   "outputs": [
    {
     "name": "stdout",
     "output_type": "stream",
     "text": [
      "+-----+----------+-------------------+\n",
      "|label|         p|           log_loss|\n",
      "+-----+----------+-------------------+\n",
      "|  1.0|0.22252959| 1.5026951968704902|\n",
      "|  0.0|0.22252959|0.25170969369779955|\n",
      "|  0.0|0.23857889| 0.2725687046508099|\n",
      "|  0.0|0.22163239|0.25055636153317057|\n",
      "|  0.0|0.23857889| 0.2725687046508099|\n",
      "|  0.0|0.22342938|0.25286769635262474|\n",
      "|  0.0|0.24142063| 0.2763078405008003|\n",
      "|  0.0|0.23952357|0.27381016672433517|\n",
      "|  1.0|0.24142063| 1.4212145280687507|\n",
      "|  0.0|0.22342938|0.25286769635262474|\n",
      "|  0.0|0.24091592| 0.2756427360620566|\n",
      "|  0.0|0.23164384| 0.2635019042060159|\n",
      "|  0.0|0.24047083|0.27505654639476634|\n",
      "|  1.0|0.24047083| 1.4251564998052528|\n",
      "|  0.0|0.23952357|0.27381016672433517|\n",
      "|  0.0|0.22385223|0.25341235437361426|\n",
      "|  0.0|0.22252959|0.25170969369779955|\n",
      "|  0.0|0.23952357|0.27381016672433517|\n",
      "|  1.0|0.24047083| 1.4251564998052528|\n",
      "|  1.0|0.22163239| 1.5067351650508232|\n",
      "+-----+----------+-------------------+\n",
      "only showing top 20 rows\n",
      "\n",
      "Logloss =  0.4962618955173499\n"
     ]
    }
   ],
   "source": [
    "epsilon = 1e-16\n",
    "def add_log_loss(df):\n",
    "    \"\"\"Computes and adds a 'log_loss' column to a DataFrame using 'p' and 'label' columns.\n",
    "\n",
    "    Note:\n",
    "        log(0) is undefined, so when p is 0 we add a small value (epsilon) to it and when\n",
    "        p is 1 we subtract a small value (epsilon) from it.\n",
    "\n",
    "    Args:\n",
    "        df (DataFrame with 'p' and 'label' columns): A DataFrame with a probability column\n",
    "            'p' and a 'label' column that corresponds to y in the log loss formula.\n",
    "\n",
    "    Returns:\n",
    "        DataFrame: A new DataFrame with an additional column called 'log_loss' where 'log_loss' column contains the loss value as explained above.\n",
    "    \"\"\"\n",
    "    newDF = df.select(\"*\", when(df.label == 1, 0. - log(df.p + epsilon)).\\\n",
    "                           otherwise(0. - log(1. - df.p + epsilon)).alias('log_loss'))\n",
    "  \n",
    "    retObj = newDF  \n",
    "      \n",
    "    return retObj\n",
    "\n",
    "firstelement = udf(lambda v:float(v[1]),FloatType())\n",
    "\n",
    "resultLogLossDF = prediction.select(['label',firstelement('probability')])\n",
    "resultLogLossDF = resultLogLossDF.select(col(\"label\").alias(\"label\"), col(\"<lambda>(probability)\").alias(\"p\"))\n",
    "add_log_loss(resultLogLossDF).show()\n",
    "\n",
    "log_loss_result = (add_log_loss(resultLogLossDF)\n",
    "                          .groupBy()\n",
    "                          .mean('log_loss')\n",
    "                          .collect())[0][0]\n",
    "print ('Logloss = ',log_loss_result)"
   ]
  },
  {
   "cell_type": "markdown",
   "metadata": {},
   "source": [
    "### 4.5) Model Evaluation - ROC Curve\n",
    "\n",
    "We will now visualize how well the model predicts our target. To do this we generate a plot of the ROC curve. The ROC curve shows us the trade-off between the false positive rate and true positive rate, as we liberalize the threshold required to predict a positive outcome. A random model is represented by the dashed line."
   ]
  },
  {
   "cell_type": "code",
   "execution_count": 59,
   "metadata": {},
   "outputs": [
    {
     "data": {
      "image/png": "[encoded data removed]",
      "text/plain": [
       "<Figure size 720x720 with 1 Axes>"
      ]
     },
     "metadata": {
      "needs_background": "light"
     },
     "output_type": "display_data"
    },
    {
     "name": "stdout",
     "output_type": "stream",
     "text": [
      "Area Under ROC :  0.6343718423911177\n"
     ]
    }
   ],
   "source": [
    "plt.figure(figsize=(10,10))\n",
    "plt.plot([0, 1], [0, 1], 'r--')\n",
    "plt.plot(logreg_model.summary.roc.select('FPR').collect(),\n",
    "         logreg_model.summary.roc.select('TPR').collect())\n",
    "plt.xlabel('False Positive Rate(1-Specificity)')\n",
    "plt.ylabel('True Positive Rate (Sensitivity)')\n",
    "plt.show()\n",
    "\n",
    "print(\"Area Under ROC : \", logreg_model.summary.areaUnderROC)"
   ]
  },
  {
   "cell_type": "markdown",
   "metadata": {},
   "source": [
    "## 5) Conclusion with Class Concepts & Future Improvements\n",
    "\n",
    "\n",
    "### 5.1) Model Sparsity / Bias Variance Tradeoff / Model Complexity\n",
    "\n",
    "A standardized and regularized logistic regression is a great fit for the Click Through Rate prediction, as clicks and non-clicks are observed everyday. Even though the vector is enormous, an instance will have only a small percentage of nonzero values, so the representation is extremely sparse. Each training example will only need to be examined once with potential streaming features. \n",
    "\n",
    "Even though Gradient Descent is considered efficient for the logistic regression models with its limited computing resources needed, the data size is nontheless throwing out a challenge in terms of our RAM/Cloud resource limit. \n",
    "\n",
    "Understanding the the bias–variance tradeoff (the tradeoff between a lower bias in parameter estimation and lower variance of the parameter estimates across samples) is therefore the core in the successful implementation of our algorithm. The conflict of trying to simultaneously accurately capture the training data but also generalize the test data is the key consideration we have in choosing One Hot Encoding method. \n",
    "\n",
    "### 5.2) Normalization and Regularization\n",
    "\n",
    "In the original dataset, non-zero features with varying magnitudes of variances take up a significant portion and could potentially slow down the convergence. We therefore applied regularization using the StandardScaler, as explained in section 4.1. A great benefit of applying regularization to the logistic regression is that the hierarchical relationship between features are automatically considered, so the parent feature will provide the most support in the regularization process.\n",
    "\n",
    "\n",
    "### 5.3) One Hot Encoding / Feature Selection\n",
    "Using a one-hot-encoding featurization can yield a model with good statistical summary. However, the number of distinct categories across all features is quite large. Hence, featurizing via a one-hot encoding representation would lead to a very large feature vector. To reduce the dimensionality of the feature, we can use feature hashing. \n",
    "\n"
   ]
  },
  {
   "cell_type": "code",
   "execution_count": 60,
   "metadata": {},
   "outputs": [
    {
     "data": {
      "text/plain": [
       "Row(label=0.0, features=[Row(_1=0, _2='0.0'), Row(_1=1, _2='628.0'), Row(_1=2, _2='4.0'), Row(_1=3, _2='1.0'), Row(_1=4, _2='1732.0'), Row(_1=5, _2='291.0'), Row(_1=6, _2='57.0'), Row(_1=7, _2='19.0'), Row(_1=8, _2='19.0'), Row(_1=9, _2='0.0'), Row(_1=10, _2='7.0'), Row(_1=11, _2='0.9297945499420166'), Row(_1=12, _2='1.0'), Row(_1=13, _2='68fd1e64'), Row(_1=14, _2='287130e0'), Row(_1=15, _2='61f559fa'), Row(_1=16, _2='3c6543d9'), Row(_1=17, _2='25c83c98'), Row(_1=18, _2='UNSPECIFIED'), Row(_1=19, _2='397def4e'), Row(_1=20, _2='0b153874'), Row(_1=21, _2='a73ee510'), Row(_1=22, _2='0af798a0'), Row(_1=23, _2='20b05825'), Row(_1=24, _2='9efd7e1b'), Row(_1=25, _2='c28589ee'), Row(_1=26, _2='b28479f6'), Row(_1=27, _2='9efd8b77'), Row(_1=28, _2='c4089ccc'), Row(_1=29, _2='e5ba7672'), Row(_1=30, _2='891589e7'), Row(_1=31, _2='315ba0e1'), Row(_1=32, _2='b1252a9d'), Row(_1=33, _2='63b0486e'), Row(_1=34, _2='UNSPECIFIED'), Row(_1=35, _2='32c7478e'), Row(_1=36, _2='5e07a644'), Row(_1=37, _2='e8b83407'), Row(_1=38, _2='dee3cffc')])"
      ]
     },
     "execution_count": 60,
     "metadata": {},
     "output_type": "execute_result"
    }
   ],
   "source": [
    "parsed_train_df.first()"
   ]
  },
  {
   "cell_type": "code",
   "execution_count": 61,
   "metadata": {
    "scrolled": true
   },
   "outputs": [
    {
     "data": {
      "text/plain": [
       "Row(text='0\\t0.0\\t628.0\\t4.0\\t1.0\\t1732.0\\t291.0\\t57.0\\t19.0\\t19.0\\t0.0\\t7.0\\t0.9297945499420166\\t1.0\\t68fd1e64\\t287130e0\\t61f559fa\\t3c6543d9\\t25c83c98\\tUNSPECIFIED\\t397def4e\\t0b153874\\ta73ee510\\t0af798a0\\t20b05825\\t9efd7e1b\\tc28589ee\\tb28479f6\\t9efd8b77\\tc4089ccc\\te5ba7672\\t891589e7\\t315ba0e1\\tb1252a9d\\t63b0486e\\tUNSPECIFIED\\t32c7478e\\t5e07a644\\te8b83407\\tdee3cffc')"
      ]
     },
     "execution_count": 61,
     "metadata": {},
     "output_type": "execute_result"
    }
   ],
   "source": [
    "rawDF.first()"
   ]
  },
  {
   "cell_type": "code",
   "execution_count": 62,
   "metadata": {},
   "outputs": [
    {
     "data": {
      "text/plain": [
       "Row(label=0.0, features=[Row(_1=0, _2='0.0'), Row(_1=1, _2='628.0'), Row(_1=2, _2='4.0'), Row(_1=3, _2='1.0'), Row(_1=4, _2='1732.0'), Row(_1=5, _2='291.0'), Row(_1=6, _2='57.0'), Row(_1=7, _2='19.0'), Row(_1=8, _2='19.0'), Row(_1=9, _2='0.0'), Row(_1=10, _2='7.0'), Row(_1=11, _2='0.9297945499420166'), Row(_1=12, _2='1.0'), Row(_1=13, _2='68fd1e64'), Row(_1=14, _2='287130e0'), Row(_1=15, _2='61f559fa'), Row(_1=16, _2='3c6543d9'), Row(_1=17, _2='25c83c98'), Row(_1=18, _2='UNSPECIFIED'), Row(_1=19, _2='397def4e'), Row(_1=20, _2='0b153874'), Row(_1=21, _2='a73ee510'), Row(_1=22, _2='0af798a0'), Row(_1=23, _2='20b05825'), Row(_1=24, _2='9efd7e1b'), Row(_1=25, _2='c28589ee'), Row(_1=26, _2='b28479f6'), Row(_1=27, _2='9efd8b77'), Row(_1=28, _2='c4089ccc'), Row(_1=29, _2='e5ba7672'), Row(_1=30, _2='891589e7'), Row(_1=31, _2='315ba0e1'), Row(_1=32, _2='b1252a9d'), Row(_1=33, _2='63b0486e'), Row(_1=34, _2='UNSPECIFIED'), Row(_1=35, _2='32c7478e'), Row(_1=36, _2='5e07a644'), Row(_1=37, _2='e8b83407'), Row(_1=38, _2='dee3cffc')])"
      ]
     },
     "execution_count": 62,
     "metadata": {},
     "output_type": "execute_result"
    }
   ],
   "source": [
    "parsed_train_df.first()"
   ]
  },
  {
   "cell_type": "code",
   "execution_count": 63,
   "metadata": {
    "scrolled": true
   },
   "outputs": [
    {
     "data": {
      "text/plain": [
       "Row(text='0\\t0.0\\t628.0\\t4.0\\t1.0\\t1732.0\\t291.0\\t57.0\\t19.0\\t19.0\\t0.0\\t7.0\\t0.9297945499420166\\t1.0\\t68fd1e64\\t287130e0\\t61f559fa\\t3c6543d9\\t25c83c98\\tUNSPECIFIED\\t397def4e\\t0b153874\\ta73ee510\\t0af798a0\\t20b05825\\t9efd7e1b\\tc28589ee\\tb28479f6\\t9efd8b77\\tc4089ccc\\te5ba7672\\t891589e7\\t315ba0e1\\tb1252a9d\\t63b0486e\\tUNSPECIFIED\\t32c7478e\\t5e07a644\\te8b83407\\tdee3cffc')"
      ]
     },
     "execution_count": 63,
     "metadata": {},
     "output_type": "execute_result"
    }
   ],
   "source": [
    "rawDF.first()"
   ]
  },
  {
   "cell_type": "markdown",
   "metadata": {},
   "source": [
    "In an effort to meet the logistic regression model requirement, Lasso regularization helped us in reducing the number of parameters by discarding the least important values in the training. \n",
    "\n",
    "The Principal Component Analysis (PCA) binary classification method was used to select the most significant feature components to avoid multicolinearity and to achieve an optimized signal-to-noise ratio and reduction of redundancy between features. The binary classification was done to evaluate the impact of adding additional features. \n",
    "\n",
    "### 5.4) Higher Order Functions / Map Reduce Paradigm \n",
    "\n",
    "MapReduce was essential in our processing of the data by providing a parallel, distributed algorithm on a cluster. \n",
    "In this paradim, the output value of a function depends only on the arguments that are input to the function. Key ideas in this paradigm include avoiding state changes/mutable data, and using higher-order functions which take other functions as inputs. \n",
    "\n",
    "### 5.5) Shuffle / Combiners / Local Aggregation\n",
    "\n",
    "The shuffle stage is when our CTR data is transferring in the cluster. In includes all the work done by the framework after the mapper emits the data and before the reducers start. The shuffle is costly as Hadoop has to examine which keys are present on each data node, compare, sort and allocate the nodes, then the data has to be transfered. The complexity is a function of the number of records output by the mappers.\n",
    "\n",
    "A combiner is an aggregation that takes the mapper output with the same key and combine into a single record. Even though this is preferred to save shuffling time, Hadoop does not garantee the combinners will perform and the timing of it. \n",
    "\n",
    "Local aggregation is reducing the number of records that need to be transfered over the network in the shuffle state. In our example, in addition to the combiners, we used python dicitonaries to perform the local aggregation for model efficiency.\n",
    "\n",
    "### 5.6) Spark vs. Hadoop\n",
    "We chose Spark RDD for its faster data processing. The in-memory processing feature makes Spark faster than Hadoop MapReduce for up to 100 times for data in RAM and up to 10 times for data in storage.Spark’s RDD also enable multiple map operations in memory, while Hadoop MapReduce has to write interim results to a disk.\n",
    "\n",
    "### 5.7) Future Improvements\n",
    "\n",
    "Some useful future improvements includes applying the appropriate power transformation to the logistic regression, due to the exponantial distribution nature of the CTR data, as the data are heavily skewed and long tailed. Here, we apply f(x)=log(x2)  for x > 2 to the values.\n"
   ]
  },
  {
   "cell_type": "code",
   "execution_count": 64,
   "metadata": {},
   "outputs": [
    {
     "data": {
      "text/html": [
       "<div>\n",
       "<style scoped>\n",
       "    .dataframe tbody tr th:only-of-type {\n",
       "        vertical-align: middle;\n",
       "    }\n",
       "\n",
       "    .dataframe tbody tr th {\n",
       "        vertical-align: top;\n",
       "    }\n",
       "\n",
       "    .dataframe thead th {\n",
       "        text-align: right;\n",
       "    }\n",
       "</style>\n",
       "<table border=\"1\" class=\"dataframe\">\n",
       "  <thead>\n",
       "    <tr style=\"text-align: right;\">\n",
       "      <th></th>\n",
       "      <th>label</th>\n",
       "      <th>int_1</th>\n",
       "      <th>int_2</th>\n",
       "      <th>int_3</th>\n",
       "      <th>int_4</th>\n",
       "      <th>int_5</th>\n",
       "      <th>int_6</th>\n",
       "      <th>int_7</th>\n",
       "      <th>int_8</th>\n",
       "      <th>int_9</th>\n",
       "      <th>...</th>\n",
       "      <th>categ_17</th>\n",
       "      <th>categ_18</th>\n",
       "      <th>categ_19</th>\n",
       "      <th>categ_20</th>\n",
       "      <th>categ_21</th>\n",
       "      <th>categ_22</th>\n",
       "      <th>categ_23</th>\n",
       "      <th>categ_24</th>\n",
       "      <th>categ_25</th>\n",
       "      <th>categ_26</th>\n",
       "    </tr>\n",
       "  </thead>\n",
       "  <tbody>\n",
       "    <tr>\n",
       "      <th>0</th>\n",
       "      <td>1.0</td>\n",
       "      <td>NaN</td>\n",
       "      <td>103.0</td>\n",
       "      <td>NaN</td>\n",
       "      <td>NaN</td>\n",
       "      <td>10284.0</td>\n",
       "      <td>22.0</td>\n",
       "      <td>18.0</td>\n",
       "      <td>4.0</td>\n",
       "      <td>82.0</td>\n",
       "      <td>...</td>\n",
       "      <td>e5ba7672</td>\n",
       "      <td>638efece</td>\n",
       "      <td></td>\n",
       "      <td></td>\n",
       "      <td>43c5b9eb</td>\n",
       "      <td></td>\n",
       "      <td>32c7478e</td>\n",
       "      <td>7084dcf7</td>\n",
       "      <td></td>\n",
       "      <td></td>\n",
       "    </tr>\n",
       "    <tr>\n",
       "      <th>1</th>\n",
       "      <td>0.0</td>\n",
       "      <td>0.0</td>\n",
       "      <td>1.0</td>\n",
       "      <td>3.0</td>\n",
       "      <td>NaN</td>\n",
       "      <td>1527.0</td>\n",
       "      <td>34.0</td>\n",
       "      <td>8.0</td>\n",
       "      <td>15.0</td>\n",
       "      <td>185.0</td>\n",
       "      <td>...</td>\n",
       "      <td>e5ba7672</td>\n",
       "      <td>5cd35b65</td>\n",
       "      <td>21ddcdc9</td>\n",
       "      <td>b1252a9d</td>\n",
       "      <td>ea56537b</td>\n",
       "      <td></td>\n",
       "      <td>32c7478e</td>\n",
       "      <td>72669222</td>\n",
       "      <td>ea9a246c</td>\n",
       "      <td>6f3c2551</td>\n",
       "    </tr>\n",
       "    <tr>\n",
       "      <th>2</th>\n",
       "      <td>0.0</td>\n",
       "      <td>4.0</td>\n",
       "      <td>4.0</td>\n",
       "      <td>40.0</td>\n",
       "      <td>39.0</td>\n",
       "      <td>11.0</td>\n",
       "      <td>34.0</td>\n",
       "      <td>5.0</td>\n",
       "      <td>48.0</td>\n",
       "      <td>48.0</td>\n",
       "      <td>...</td>\n",
       "      <td>e5ba7672</td>\n",
       "      <td>395856b0</td>\n",
       "      <td>21ddcdc9</td>\n",
       "      <td>a458ea53</td>\n",
       "      <td>605305ee</td>\n",
       "      <td></td>\n",
       "      <td>32c7478e</td>\n",
       "      <td>f090fae7</td>\n",
       "      <td>001f3601</td>\n",
       "      <td>cdc744c1</td>\n",
       "    </tr>\n",
       "    <tr>\n",
       "      <th>3</th>\n",
       "      <td>0.0</td>\n",
       "      <td>0.0</td>\n",
       "      <td>2798.0</td>\n",
       "      <td>5.0</td>\n",
       "      <td>2.0</td>\n",
       "      <td>1588.0</td>\n",
       "      <td>45.0</td>\n",
       "      <td>5.0</td>\n",
       "      <td>40.0</td>\n",
       "      <td>197.0</td>\n",
       "      <td>...</td>\n",
       "      <td>e5ba7672</td>\n",
       "      <td>f5f4ae5b</td>\n",
       "      <td></td>\n",
       "      <td></td>\n",
       "      <td>6387fda4</td>\n",
       "      <td></td>\n",
       "      <td>423fab69</td>\n",
       "      <td>d36c7dbf</td>\n",
       "      <td></td>\n",
       "      <td></td>\n",
       "    </tr>\n",
       "    <tr>\n",
       "      <th>4</th>\n",
       "      <td>0.0</td>\n",
       "      <td>NaN</td>\n",
       "      <td>44.0</td>\n",
       "      <td>1.0</td>\n",
       "      <td>1.0</td>\n",
       "      <td>18721.0</td>\n",
       "      <td>91.0</td>\n",
       "      <td>2.0</td>\n",
       "      <td>16.0</td>\n",
       "      <td>95.0</td>\n",
       "      <td>...</td>\n",
       "      <td>3486227d</td>\n",
       "      <td>2efa89c6</td>\n",
       "      <td></td>\n",
       "      <td></td>\n",
       "      <td>73d06dde</td>\n",
       "      <td></td>\n",
       "      <td>93bad2c0</td>\n",
       "      <td>aee52b6f</td>\n",
       "      <td></td>\n",
       "      <td></td>\n",
       "    </tr>\n",
       "    <tr>\n",
       "      <th>...</th>\n",
       "      <td>...</td>\n",
       "      <td>...</td>\n",
       "      <td>...</td>\n",
       "      <td>...</td>\n",
       "      <td>...</td>\n",
       "      <td>...</td>\n",
       "      <td>...</td>\n",
       "      <td>...</td>\n",
       "      <td>...</td>\n",
       "      <td>...</td>\n",
       "      <td>...</td>\n",
       "      <td>...</td>\n",
       "      <td>...</td>\n",
       "      <td>...</td>\n",
       "      <td>...</td>\n",
       "      <td>...</td>\n",
       "      <td>...</td>\n",
       "      <td>...</td>\n",
       "      <td>...</td>\n",
       "      <td>...</td>\n",
       "      <td>...</td>\n",
       "    </tr>\n",
       "    <tr>\n",
       "      <th>544</th>\n",
       "      <td>0.0</td>\n",
       "      <td>0.0</td>\n",
       "      <td>-1.0</td>\n",
       "      <td>1.0</td>\n",
       "      <td>NaN</td>\n",
       "      <td>1779.0</td>\n",
       "      <td>194.0</td>\n",
       "      <td>3.0</td>\n",
       "      <td>37.0</td>\n",
       "      <td>48.0</td>\n",
       "      <td>...</td>\n",
       "      <td>07c540c4</td>\n",
       "      <td>f7be65bb</td>\n",
       "      <td>21ddcdc9</td>\n",
       "      <td>b1252a9d</td>\n",
       "      <td></td>\n",
       "      <td></td>\n",
       "      <td>32c7478e</td>\n",
       "      <td></td>\n",
       "      <td>001f3601</td>\n",
       "      <td>3aea8740</td>\n",
       "    </tr>\n",
       "    <tr>\n",
       "      <th>545</th>\n",
       "      <td>0.0</td>\n",
       "      <td>0.0</td>\n",
       "      <td>34.0</td>\n",
       "      <td>1.0</td>\n",
       "      <td>4.0</td>\n",
       "      <td>1981.0</td>\n",
       "      <td>33.0</td>\n",
       "      <td>3.0</td>\n",
       "      <td>27.0</td>\n",
       "      <td>38.0</td>\n",
       "      <td>...</td>\n",
       "      <td>07c540c4</td>\n",
       "      <td>1304f63b</td>\n",
       "      <td>21ddcdc9</td>\n",
       "      <td>b1252a9d</td>\n",
       "      <td>9988d803</td>\n",
       "      <td></td>\n",
       "      <td>32c7478e</td>\n",
       "      <td>abe3a684</td>\n",
       "      <td>010f6491</td>\n",
       "      <td>3f1cec84</td>\n",
       "    </tr>\n",
       "    <tr>\n",
       "      <th>546</th>\n",
       "      <td>0.0</td>\n",
       "      <td>0.0</td>\n",
       "      <td>113.0</td>\n",
       "      <td>NaN</td>\n",
       "      <td>4.0</td>\n",
       "      <td>1800.0</td>\n",
       "      <td>16.0</td>\n",
       "      <td>32.0</td>\n",
       "      <td>9.0</td>\n",
       "      <td>22.0</td>\n",
       "      <td>...</td>\n",
       "      <td>e5ba7672</td>\n",
       "      <td>908eaeb8</td>\n",
       "      <td></td>\n",
       "      <td></td>\n",
       "      <td></td>\n",
       "      <td></td>\n",
       "      <td>32c7478e</td>\n",
       "      <td></td>\n",
       "      <td></td>\n",
       "      <td></td>\n",
       "    </tr>\n",
       "    <tr>\n",
       "      <th>547</th>\n",
       "      <td>0.0</td>\n",
       "      <td>NaN</td>\n",
       "      <td>60.0</td>\n",
       "      <td>20.0</td>\n",
       "      <td>1.0</td>\n",
       "      <td>6514.0</td>\n",
       "      <td>10.0</td>\n",
       "      <td>2.0</td>\n",
       "      <td>5.0</td>\n",
       "      <td>6.0</td>\n",
       "      <td>...</td>\n",
       "      <td>07c540c4</td>\n",
       "      <td>a78bd508</td>\n",
       "      <td>21ddcdc9</td>\n",
       "      <td>5840adea</td>\n",
       "      <td>c2a93b37</td>\n",
       "      <td></td>\n",
       "      <td>32c7478e</td>\n",
       "      <td>1793a828</td>\n",
       "      <td>e8b83407</td>\n",
       "      <td>2fede552</td>\n",
       "    </tr>\n",
       "    <tr>\n",
       "      <th>548</th>\n",
       "      <td>1.0</td>\n",
       "      <td>6.0</td>\n",
       "      <td>2.0</td>\n",
       "      <td>4.0</td>\n",
       "      <td>7.0</td>\n",
       "      <td>27.0</td>\n",
       "      <td>7.0</td>\n",
       "      <td>6.0</td>\n",
       "      <td>7.0</td>\n",
       "      <td>7.0</td>\n",
       "      <td>...</td>\n",
       "      <td>e5ba7672</td>\n",
       "      <td>c61e82d7</td>\n",
       "      <td>21ddcdc9</td>\n",
       "      <td>5840adea</td>\n",
       "      <td>1454f58e</td>\n",
       "      <td></td>\n",
       "      <td>3a171ecb</td>\n",
       "      <td>8804f0e3</td>\n",
       "      <td>001f3601</td>\n",
       "      <td>f5908455</td>\n",
       "    </tr>\n",
       "  </tbody>\n",
       "</table>\n",
       "<p>549 rows × 40 columns</p>\n",
       "</div>"
      ],
      "text/plain": [
       "     label  int_1   int_2  int_3  int_4    int_5  int_6  int_7  int_8  int_9  \\\n",
       "0      1.0    NaN   103.0    NaN    NaN  10284.0   22.0   18.0    4.0   82.0   \n",
       "1      0.0    0.0     1.0    3.0    NaN   1527.0   34.0    8.0   15.0  185.0   \n",
       "2      0.0    4.0     4.0   40.0   39.0     11.0   34.0    5.0   48.0   48.0   \n",
       "3      0.0    0.0  2798.0    5.0    2.0   1588.0   45.0    5.0   40.0  197.0   \n",
       "4      0.0    NaN    44.0    1.0    1.0  18721.0   91.0    2.0   16.0   95.0   \n",
       "..     ...    ...     ...    ...    ...      ...    ...    ...    ...    ...   \n",
       "544    0.0    0.0    -1.0    1.0    NaN   1779.0  194.0    3.0   37.0   48.0   \n",
       "545    0.0    0.0    34.0    1.0    4.0   1981.0   33.0    3.0   27.0   38.0   \n",
       "546    0.0    0.0   113.0    NaN    4.0   1800.0   16.0   32.0    9.0   22.0   \n",
       "547    0.0    NaN    60.0   20.0    1.0   6514.0   10.0    2.0    5.0    6.0   \n",
       "548    1.0    6.0     2.0    4.0    7.0     27.0    7.0    6.0    7.0    7.0   \n",
       "\n",
       "     ...  categ_17  categ_18  categ_19  categ_20  categ_21 categ_22  categ_23  \\\n",
       "0    ...  e5ba7672  638efece                      43c5b9eb           32c7478e   \n",
       "1    ...  e5ba7672  5cd35b65  21ddcdc9  b1252a9d  ea56537b           32c7478e   \n",
       "2    ...  e5ba7672  395856b0  21ddcdc9  a458ea53  605305ee           32c7478e   \n",
       "3    ...  e5ba7672  f5f4ae5b                      6387fda4           423fab69   \n",
       "4    ...  3486227d  2efa89c6                      73d06dde           93bad2c0   \n",
       "..   ...       ...       ...       ...       ...       ...      ...       ...   \n",
       "544  ...  07c540c4  f7be65bb  21ddcdc9  b1252a9d                     32c7478e   \n",
       "545  ...  07c540c4  1304f63b  21ddcdc9  b1252a9d  9988d803           32c7478e   \n",
       "546  ...  e5ba7672  908eaeb8                                         32c7478e   \n",
       "547  ...  07c540c4  a78bd508  21ddcdc9  5840adea  c2a93b37           32c7478e   \n",
       "548  ...  e5ba7672  c61e82d7  21ddcdc9  5840adea  1454f58e           3a171ecb   \n",
       "\n",
       "     categ_24  categ_25  categ_26  \n",
       "0    7084dcf7                      \n",
       "1    72669222  ea9a246c  6f3c2551  \n",
       "2    f090fae7  001f3601  cdc744c1  \n",
       "3    d36c7dbf                      \n",
       "4    aee52b6f                      \n",
       "..        ...       ...       ...  \n",
       "544            001f3601  3aea8740  \n",
       "545  abe3a684  010f6491  3f1cec84  \n",
       "546                                \n",
       "547  1793a828  e8b83407  2fede552  \n",
       "548  8804f0e3  001f3601  f5908455  \n",
       "\n",
       "[549 rows x 40 columns]"
      ]
     },
     "execution_count": 64,
     "metadata": {},
     "output_type": "execute_result"
    }
   ],
   "source": [
    "pd_sample_df"
   ]
  },
  {
   "cell_type": "code",
   "execution_count": 65,
   "metadata": {},
   "outputs": [
    {
     "data": {
      "text/plain": [
       "array([[<matplotlib.axes._subplots.AxesSubplot object at 0x7f8614f40390>,\n",
       "        <matplotlib.axes._subplots.AxesSubplot object at 0x7f86132d2250>,\n",
       "        <matplotlib.axes._subplots.AxesSubplot object at 0x7f86132f1910>,\n",
       "        <matplotlib.axes._subplots.AxesSubplot object at 0x7f8613311f50>],\n",
       "       [<matplotlib.axes._subplots.AxesSubplot object at 0x7f8613337610>,\n",
       "        <matplotlib.axes._subplots.AxesSubplot object at 0x7f8613355c90>,\n",
       "        <matplotlib.axes._subplots.AxesSubplot object at 0x7f861337b3d0>,\n",
       "        <matplotlib.axes._subplots.AxesSubplot object at 0x7f861339d990>],\n",
       "       [<matplotlib.axes._subplots.AxesSubplot object at 0x7f861339d9d0>,\n",
       "        <matplotlib.axes._subplots.AxesSubplot object at 0x7f86133df190>,\n",
       "        <matplotlib.axes._subplots.AxesSubplot object at 0x7f861344bd90>,\n",
       "        <matplotlib.axes._subplots.AxesSubplot object at 0x7f861348e450>],\n",
       "       [<matplotlib.axes._subplots.AxesSubplot object at 0x7f86134c3ad0>,\n",
       "        <matplotlib.axes._subplots.AxesSubplot object at 0x7f8613503510>,\n",
       "        <matplotlib.axes._subplots.AxesSubplot object at 0x7f8613537a90>,\n",
       "        <matplotlib.axes._subplots.AxesSubplot object at 0x7f861356efd0>]],\n",
       "      dtype=object)"
      ]
     },
     "execution_count": 65,
     "metadata": {},
     "output_type": "execute_result"
    },
    {
     "data": {
      "image/png": "[encoded data removed]",
      "text/plain": [
       "<Figure size 1080x1080 with 16 Axes>"
      ]
     },
     "metadata": {
      "needs_background": "light"
     },
     "output_type": "display_data"
    }
   ],
   "source": [
    "## apply power transformation\n",
    "pd_sample_df_log = pd_sample_df.loc[:, intColList].copy()\n",
    "pd_sample_df_log = pd_sample_df_log.applymap(lambda x: 2 * np.log(x) if x > 2 else x)\n",
    "## Display \n",
    "pd_sample_df_log.hist(figsize = (15, 15), bins = 25)"
   ]
  },
  {
   "cell_type": "markdown",
   "metadata": {},
   "source": [
    "For the cagetorical variables, infrequent values could be masked by converting values with counts less than an assigned threshold to a special value. The code is tentatively written below."
   ]
  },
  {
   "cell_type": "code",
   "execution_count": 66,
   "metadata": {},
   "outputs": [],
   "source": [
    "def convert_categorical(data, freq):\n",
    "    \"\"\"Converts categorical features with less frequencies into a special value.\n",
    "    data : the df to process\n",
    "    freq : if float and smaller than 1, convert the values that appear less than the portion. \n",
    "        If int, convert the values that appear less times.\n",
    "    \"\"\"\n",
    "    \n",
    "    frac = False if freq >= 1 else True\n",
    "    special_value = 'aa'\n",
    "    \n",
    "    for i in range(14, 40):\n",
    "        col_name = f'int_{i}'\n",
    "        value_cnt = data.groupby(col_name).count()\n",
    "        \n",
    "        if frac:\n",
    "            total_cnt = value_cnt.selectExpr(\"sum(count)\").collect()[0][0]\n",
    "            thres = total_cnt * freq\n",
    "        else:\n",
    "            thres = freq\n",
    "        \n",
    "        sc.broadcast([thres, special_value])\n",
    "   \n",
    "\n",
    "\n",
    "        ### convert values with count less than the threshold to the special value\n",
    "        new_names = value_cnt.rdd.map(lambda x: (x[1], x[1] if x[1] > thres else special_value))\n",
    "        new_names = new_names.toDF(schema=[col_name, 'new_name'])\n",
    "\n",
    "        data = data.join(new_names, on = col_name, how = \"left_outer\")\n",
    "        data = data.drop(col_name).withColumnRenamed('new_name', col_name).cache()\n",
    "    \n",
    "    return data"
   ]
  },
  {
   "cell_type": "markdown",
   "metadata": {},
   "source": [
    "The data size prompted us to probe into subsampling the training data with minimal impact on accuracy, as the traning data is computaitonally unachievable to examine every instance. A potential future implementation would be to apply a model method for subsampling given the known CTR rate, as long as the conditional distribution are not affected by the subsampling. "
   ]
  },
  {
   "cell_type": "markdown",
   "metadata": {},
   "source": [
    "## 6) References\n",
    "\n",
    "These are the list of references we relied upon to complete this final project.\n",
    "\n",
    "Click-Through Rate Prediction Lab, https://datascience-enthusiast.com/Python/cs120_lab3_ctr_df_celloutput.html\n",
    "\n",
    "Chapelle, O., Manavoglu, E., & Rosales, R. (2014). Simple and Scalable Response Prediction for Display Advertising. ACM Transactions on Intelligent Systems and Technology, 5(4), 1-34. doi:10.1145/2532128\n",
    "\n",
    "Juan, Y., Zhang, Y., Shi, W. (n.d.). 3 Idiots’ Approach forDisplay Advertising Challenge. Lecture presented at NTU CSIE MLGroup.\n",
    "https://www.csie.ntu.edu.tw/~r01922136/kaggle-2014-criteo.pdf\n",
    "\n",
    "\n"
   ]
  }
 ],
 "metadata": {
  "kernelspec": {
   "display_name": "Python 3",
   "language": "python",
   "name": "python3"
  },
  "language_info": {
   "codemirror_mode": {
    "name": "ipython",
    "version": 3
   },
   "file_extension": ".py",
   "mimetype": "text/x-python",
   "name": "python",
   "nbconvert_exporter": "python",
   "pygments_lexer": "ipython3",
   "version": "3.7.6"
  }
 },
 "nbformat": 4,
 "nbformat_minor": 2
}
